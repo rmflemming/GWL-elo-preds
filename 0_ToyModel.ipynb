{
 "cells": [
  {
   "cell_type": "markdown",
   "id": "f32b94dd-c5a4-4651-b4d5-b13af68477a0",
   "metadata": {},
   "source": [
    "**Pipeline:**  \n",
    "\n",
    "import spreadsheet -> preprocess matches (columns in toydata) ->  \n",
    "create elo class -> add players for teams-> init team dicts -> bymatch: expectation, gameOver, update dicts/rating ->  \n",
    "massage final results into output format -> save output -> websitey stuff"
   ]
  },
  {
   "cell_type": "code",
   "execution_count": 11,
   "id": "fe2fa06b",
   "metadata": {},
   "outputs": [],
   "source": [
    "#imports\n",
    "import openpyxl\n",
    "import pandas as pd\n",
    "import requests\n",
    "import json\n",
    "from io import BytesIO\n",
    "from operator import itemgetter"
   ]
  },
  {
   "cell_type": "code",
   "execution_count": 4,
   "id": "d3843c36-cdf7-44ea-9b97-5ce63466e302",
   "metadata": {},
   "outputs": [],
   "source": [
    "# Read in toy data spreadsheet tabs as separate dataframes in a list, season_data\n",
    "spreadsheetId = \"1mH_HUNLF_hj2lekOxKMOKM7RiTko4HvjdJryC5M69bM\" # Please set your Spreadsheet ID.\n",
    "url = \"https://docs.google.com/spreadsheets/export?exportFormat=xlsx&id=\" + spreadsheetId\n",
    "res = requests.get(url)\n",
    "data = BytesIO(res.content)\n",
    "xlsx = openpyxl.load_workbook(filename=data)\n",
    "season_data = []\n",
    "for name in xlsx.sheetnames:\n",
    "    new_df = pd.read_excel(data, sheet_name=name)\n",
    "    new_df.name = name\n",
    "    season_data.append(new_df)\n",
    "\n",
    "# Need to remove some rows in the Match Records, filter via rows where matches are played\n",
    "matches = season_data[0]\n",
    "matches = matches[matches['Played?'] == True]\n",
    "season_data[0] = matches"
   ]
  },
  {
   "cell_type": "code",
   "execution_count": 5,
   "id": "1b8ba897-8793-44e6-a956-41711b57a099",
   "metadata": {},
   "outputs": [
    {
     "data": {
      "text/html": [
       "<div>\n",
       "<style scoped>\n",
       "    .dataframe tbody tr th:only-of-type {\n",
       "        vertical-align: middle;\n",
       "    }\n",
       "\n",
       "    .dataframe tbody tr th {\n",
       "        vertical-align: top;\n",
       "    }\n",
       "\n",
       "    .dataframe thead th {\n",
       "        text-align: right;\n",
       "    }\n",
       "</style>\n",
       "<table border=\"1\" class=\"dataframe\">\n",
       "  <thead>\n",
       "    <tr style=\"text-align: right;\">\n",
       "      <th></th>\n",
       "      <th>Team 1</th>\n",
       "      <th>Team 2</th>\n",
       "      <th>Week</th>\n",
       "      <th>Played?</th>\n",
       "      <th>Map 1</th>\n",
       "      <th>Winner</th>\n",
       "      <th>Map 2</th>\n",
       "      <th>Winner.1</th>\n",
       "      <th>Map 3</th>\n",
       "      <th>Winner.2</th>\n",
       "      <th>Map 4</th>\n",
       "      <th>Winner.3</th>\n",
       "      <th>Map 5</th>\n",
       "      <th>Winner.4</th>\n",
       "      <th>Match Winner</th>\n",
       "    </tr>\n",
       "  </thead>\n",
       "  <tbody>\n",
       "    <tr>\n",
       "      <th>0</th>\n",
       "      <td>A</td>\n",
       "      <td>B</td>\n",
       "      <td>1.0</td>\n",
       "      <td>True</td>\n",
       "      <td>Lijiang Tower</td>\n",
       "      <td>A</td>\n",
       "      <td>Dorado</td>\n",
       "      <td>A</td>\n",
       "      <td>King's Row</td>\n",
       "      <td>B</td>\n",
       "      <td>Hanamura</td>\n",
       "      <td>A</td>\n",
       "      <td>NaN</td>\n",
       "      <td>NaN</td>\n",
       "      <td>A</td>\n",
       "    </tr>\n",
       "    <tr>\n",
       "      <th>1</th>\n",
       "      <td>C</td>\n",
       "      <td>D</td>\n",
       "      <td>1.0</td>\n",
       "      <td>True</td>\n",
       "      <td>Lijiang Tower</td>\n",
       "      <td>D</td>\n",
       "      <td>Havana</td>\n",
       "      <td>D</td>\n",
       "      <td>Eichenwalde</td>\n",
       "      <td>C</td>\n",
       "      <td>Temple of Anubis</td>\n",
       "      <td>C</td>\n",
       "      <td>Busan</td>\n",
       "      <td>D</td>\n",
       "      <td>D</td>\n",
       "    </tr>\n",
       "    <tr>\n",
       "      <th>2</th>\n",
       "      <td>E</td>\n",
       "      <td>F</td>\n",
       "      <td>1.0</td>\n",
       "      <td>True</td>\n",
       "      <td>Lijiang Tower</td>\n",
       "      <td>E</td>\n",
       "      <td>Dorado</td>\n",
       "      <td>E</td>\n",
       "      <td>King's Row</td>\n",
       "      <td>E</td>\n",
       "      <td>NaN</td>\n",
       "      <td>NaN</td>\n",
       "      <td>NaN</td>\n",
       "      <td>NaN</td>\n",
       "      <td>E</td>\n",
       "    </tr>\n",
       "    <tr>\n",
       "      <th>3</th>\n",
       "      <td>G</td>\n",
       "      <td>H</td>\n",
       "      <td>1.0</td>\n",
       "      <td>True</td>\n",
       "      <td>Lijiang Tower</td>\n",
       "      <td>H</td>\n",
       "      <td>Havana</td>\n",
       "      <td>G</td>\n",
       "      <td>King's Row</td>\n",
       "      <td>H</td>\n",
       "      <td>Temple of Anubis</td>\n",
       "      <td>H</td>\n",
       "      <td>NaN</td>\n",
       "      <td>NaN</td>\n",
       "      <td>H</td>\n",
       "    </tr>\n",
       "    <tr>\n",
       "      <th>4</th>\n",
       "      <td>I</td>\n",
       "      <td>J</td>\n",
       "      <td>1.0</td>\n",
       "      <td>True</td>\n",
       "      <td>Lijiang Tower</td>\n",
       "      <td>I</td>\n",
       "      <td>Dorado</td>\n",
       "      <td>J</td>\n",
       "      <td>Eichenwalde</td>\n",
       "      <td>J</td>\n",
       "      <td>Hanamura</td>\n",
       "      <td>J</td>\n",
       "      <td>NaN</td>\n",
       "      <td>NaN</td>\n",
       "      <td>J</td>\n",
       "    </tr>\n",
       "  </tbody>\n",
       "</table>\n",
       "</div>"
      ],
      "text/plain": [
       "  Team 1 Team 2  Week  Played?          Map 1 Winner   Map 2 Winner.1  \\\n",
       "0      A      B   1.0     True  Lijiang Tower      A  Dorado        A   \n",
       "1      C      D   1.0     True  Lijiang Tower      D  Havana        D   \n",
       "2      E      F   1.0     True  Lijiang Tower      E  Dorado        E   \n",
       "3      G      H   1.0     True  Lijiang Tower      H  Havana        G   \n",
       "4      I      J   1.0     True  Lijiang Tower      I  Dorado        J   \n",
       "\n",
       "         Map 3 Winner.2             Map 4 Winner.3  Map 5 Winner.4  \\\n",
       "0   King's Row        B          Hanamura        A    NaN      NaN   \n",
       "1  Eichenwalde        C  Temple of Anubis        C  Busan        D   \n",
       "2   King's Row        E               NaN      NaN    NaN      NaN   \n",
       "3   King's Row        H  Temple of Anubis        H    NaN      NaN   \n",
       "4  Eichenwalde        J          Hanamura        J    NaN      NaN   \n",
       "\n",
       "  Match Winner  \n",
       "0            A  \n",
       "1            D  \n",
       "2            E  \n",
       "3            H  \n",
       "4            J  "
      ]
     },
     "execution_count": 5,
     "metadata": {},
     "output_type": "execute_result"
    }
   ],
   "source": [
    "matches.head()"
   ]
  },
  {
   "cell_type": "code",
   "execution_count": 8,
   "id": "3620605a",
   "metadata": {
    "tags": []
   },
   "outputs": [],
   "source": [
    "# Define ELO model\n",
    "K = 125 # Update scaler\n",
    "Rm = 3200 # mean elo initialization\n",
    "delta = 500\n",
    "\n",
    "class Team:\n",
    "    def __init__(self, name, Rm=3200):\n",
    "        self.currentRating = Rm\n",
    "        self.opponentHist = []\n",
    "        self.ratingHist = []\n",
    "        self.currentRanking = 0\n",
    "        \n",
    "class Elo:\n",
    "    def __init__(self,Rm = 3200, k=125, g=1, delta=500):\n",
    "        self.ratingDict = {}\n",
    "        self.teamsDict = {}\n",
    "        self.k = k\n",
    "        self.g = g\n",
    "        self.rankings = {}\n",
    "\n",
    "    def addPlayer(self,name, Rm = 3200):\n",
    "        self.ratingDict[name] = Rm # update code by deleting this and subsuming into teams dict\n",
    "        self.teamsDict[name] = Team(name, Rm)\n",
    "\n",
    "    def gameOver(self, winner, loser):\n",
    "        # take single game, chop up number of maps & winner of each\n",
    "        # combine all updates at once\n",
    "        #   expectation =  expected score | number of maps & team elos\n",
    "        #   diff = total map wins (+.5 for draws) - expectation\n",
    "        result = self.expectResult(self.ratingDict[winner], self.ratingDict[loser]) # compute the expected result\n",
    "        \n",
    "        # redundancy\n",
    "        self.ratingDict[winner] = self.ratingDict[winner] + (self.k*self.g)*(1 - result)  # update elo rating based on error\n",
    "        self.ratingDict[loser] \t= self.ratingDict[loser] + (self.k*self.g)*(0 - (1 -result))\n",
    "        \n",
    "        self.teamsDict[winner].currentRating =  self.ratingDict[winner] + (self.k*self.g)*(1 - result)\n",
    "        self.teamsDict[loser].currentRating = self.ratingDict[loser] + (self.k*self.g)*(0 - (1 -result))  \n",
    "                                                                            \n",
    "        # update the histories\n",
    "        self.teamsDict[winner].opponentHist.append(loser)\n",
    "        self.teamsDict[winner].ratingHist.append(self.teamsDict[winner].currentRating)\n",
    "        self.teamsDict[loser].opponentHist.append(winner)\n",
    "        self.teamsDict[loser].ratingHist.append(self.teamsDict[loser].currentRating)\n",
    "                                                                            \n",
    "\n",
    "    def expectResult(self, p1, p2):\n",
    "        exp = (p2-p1)/delta\n",
    "        return 1/((10.0**(exp))+1)\n",
    "    \n",
    "    def update_rankings(self):\n",
    "        r = 1\n",
    "        for ranking in self.power_rankings():\n",
    "            team = ranking[1][0]\n",
    "            self.teamsDict[team].currentRanking = r\n",
    "            r += 1\n",
    "            \n",
    "    def power_rankings(self):\n",
    "        self.rankings = sorted(self.ratingDict.items(), key=itemgetter(1), reverse=True)\n",
    "        power = []\n",
    "        for i, x in enumerate(self.rankings):\n",
    "            power.append((i + 1, x))\n",
    "        return power"
   ]
  },
  {
   "cell_type": "markdown",
   "id": "ed4a77ff-c725-40c2-86e9-441b6308c965",
   "metadata": {},
   "source": [
    "# Testing Section"
   ]
  },
  {
   "cell_type": "markdown",
   "id": "81960ba3-cbc6-4958-859b-ec2697fab5e0",
   "metadata": {},
   "source": [
    "**MACRO TEST**\n"
   ]
  },
  {
   "cell_type": "code",
   "execution_count": 9,
   "id": "3a4b82ed-1d6a-439c-8430-0ce6211361bb",
   "metadata": {},
   "outputs": [
    {
     "data": {
      "text/plain": [
       "4"
      ]
     },
     "execution_count": 9,
     "metadata": {},
     "output_type": "execute_result"
    }
   ],
   "source": [
    "# initialize the elo model\n",
    "GWL = Elo()\n",
    "\n",
    "# initialize teams\n",
    "teams = ['A','B','C','D','E','F','G','H','I','J']\n",
    "for team in teams:\n",
    "    GWL.addPlayer(team)\n",
    "\n",
    "for i, game in matches.iterrows():\n",
    "    # Identify winner and loser\n",
    "    winner = game['Match Winner']\n",
    "    if game['Team 1'] == winner:\n",
    "        loser = game['Team 2']\n",
    "    else:\n",
    "         loser = game['Team 1']\n",
    "    # update elo\n",
    "    GWL.gameOver(winner,loser)\n",
    "    \n",
    "#vars(GWL.teamsDict['A'])\n",
    "GWL.update_rankings()\n",
    "GWL.teamsDict['A'].currentRanking"
   ]
  },
  {
   "cell_type": "code",
   "execution_count": 30,
   "id": "7d6391a0-861a-4cb2-92ea-11a9af457428",
   "metadata": {},
   "outputs": [
    {
     "data": {
      "text/plain": [
       "{'A': '{\"currentRating\": 3340.813330989171, \"opponentHist\": [\"B\", \"G\", \"D\", \"E\", \"C\"], \"ratingHist\": [3325.0, 3352.4837500492786, 3402.1698951821977, 3229.888665325035, 3340.813330989171], \"currentRanking\": 4}',\n",
       " 'B': '{\"currentRating\": 3474.526922938871, \"opponentHist\": [\"A\", \"C\", \"H\", \"D\", \"E\"], \"ratingHist\": [3075.0, 3262.5, 3355.3219798424416, 3367.6447399704994, 3474.526922938871], \"currentRanking\": 1}',\n",
       " 'C': '{\"currentRating\": 2934.381475848924, \"opponentHist\": [\"D\", \"B\", \"E\", \"I\", \"A\"], \"ratingHist\": [3075.0, 3012.5, 3014.936731661989, 2920.7016974167414, 2934.381475848924], \"currentRanking\": 10}',\n",
       " 'D': '{\"currentRating\": 3219.548407452145, \"opponentHist\": [\"C\", \"E\", \"A\", \"B\", \"J\"], \"ratingHist\": [3325.0, 3137.5, 3105.3219798424416, 3062.677239871942, 3219.548407452145], \"currentRanking\": 7}',\n",
       " 'E': '{\"currentRating\": 3265.6286860651862, \"opponentHist\": [\"F\", \"D\", \"C\", \"A\", \"B\"], \"ratingHist\": [3325.0, 3387.5, 3385.063268338011, 3479.9738539473888, 3265.6286860651862], \"currentRanking\": 3}',\n",
       " 'F': '{\"currentRating\": 3426.116603401726, \"opponentHist\": [\"E\", \"J\", \"I\", \"G\", \"H\"], \"ratingHist\": [3075.0, 3297.5162499507214, 3307.4918750246393, 3360.6604031416555, 3426.116603401726], \"currentRanking\": 2}',\n",
       " 'G': '{\"currentRating\": 2991.092212771507, \"opponentHist\": [\"H\", \"A\", \"J\", \"F\", \"I\"], \"ratingHist\": [3075.0, 3047.5162499507214, 3243.0431663695094, 3069.6152425307796, 2991.092212771507], \"currentRanking\": 8}',\n",
       " 'H': '{\"currentRating\": 3160.604263987165, \"opponentHist\": [\"G\", \"I\", \"B\", \"J\", \"F\"], \"ratingHist\": [3325.0, 3352.4837500492786, 3152.1698951821977, 3320.4504465327077, 3160.604263987165], \"currentRanking\": 5}',\n",
       " 'I': '{\"currentRating\": 3237.2528154879483, \"opponentHist\": [\"J\", \"H\", \"F\", \"C\", \"G\"], \"ratingHist\": [3075.0, 3047.5162499507214, 3002.524374926082, 3171.7829183649746, 3237.2528154879483], \"currentRanking\": 6}',\n",
       " 'J': '{\"currentRating\": 2950.0352810573568, \"opponentHist\": [\"I\", \"F\", \"G\", \"H\", \"D\"], \"ratingHist\": [3325.0, 3102.4837500492786, 3031.9568336304906, 3016.6047928982757, 2950.0352810573568], \"currentRanking\": 9}'}"
      ]
     },
     "execution_count": 30,
     "metadata": {},
     "output_type": "execute_result"
    }
   ],
   "source": [
    "# NEXT STEP: MASSAGE OUTPUT INTO FORMAT WE WANT (json)\n",
    "TeamsJSON = {}\n",
    "for team in GWL.teamsDict:\n",
    "    teamJSON = json.dumps(GWL.teamsDict[team].__dict__)\n",
    "    TeamsJSON[team] = teamJSON\n",
    "TeamsJSON"
   ]
  },
  {
   "cell_type": "code",
   "execution_count": 34,
   "id": "f63b43be-4686-41ac-b42e-efbe56846e60",
   "metadata": {},
   "outputs": [
    {
     "data": {
      "text/plain": [
       "{'currentRating': 3340.813330989171,\n",
       " 'opponentHist': ['B', 'G', 'D', 'E', 'C'],\n",
       " 'ratingHist': [3325.0,\n",
       "  3352.4837500492786,\n",
       "  3402.1698951821977,\n",
       "  3229.888665325035,\n",
       "  3340.813330989171],\n",
       " 'currentRanking': 4}"
      ]
     },
     "execution_count": 34,
     "metadata": {},
     "output_type": "execute_result"
    }
   ],
   "source": [
    "# To  Access the nested dicitonary requires the use of json.loads() and the team name (key) to be loaded\n",
    "json.loads(TeamsJSON['A'])"
   ]
  },
  {
   "cell_type": "code",
   "execution_count": null,
   "id": "41fe0618-4a99-412b-ba0c-cd3bde754ede",
   "metadata": {},
   "outputs": [],
   "source": [
    "# THE NEXT GOAL WILL BE TO OUTPUT A GRAPH OF THE HISTORIES, A Table W/ rankings and change of rankings between weeks, and confusion matrix?\n"
   ]
  }
 ],
 "metadata": {
  "kernelspec": {
   "display_name": "Python 3 (ipykernel)",
   "language": "python",
   "name": "python3"
  },
  "language_info": {
   "codemirror_mode": {
    "name": "ipython",
    "version": 3
   },
   "file_extension": ".py",
   "mimetype": "text/x-python",
   "name": "python",
   "nbconvert_exporter": "python",
   "pygments_lexer": "ipython3",
   "version": "3.9.12"
  }
 },
 "nbformat": 4,
 "nbformat_minor": 5
}
