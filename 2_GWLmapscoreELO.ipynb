{
 "cells": [
  {
   "cell_type": "markdown",
   "id": "ca78e55b-e2d3-4d89-9b0a-c169682c3f1a",
   "metadata": {},
   "source": [
    "# GWL - Map Score ELO Model Notebook"
   ]
  },
  {
   "cell_type": "markdown",
   "id": "bc185d60-9f39-4b42-aa72-03610c579a53",
   "metadata": {
    "tags": []
   },
   "source": [
    "## Pipeline Summary  \n",
    "The basic procedures contained within the notebook"
   ]
  },
  {
   "cell_type": "markdown",
   "id": "f32b94dd-c5a4-4651-b4d5-b13af68477a0",
   "metadata": {},
   "source": [
    "import spreadsheet -> preprocess matches (columns in toydata) ->  \n",
    "create elo class -> add players for teams-> init team dicts -> bymatch: expectation, gameOver, update dicts/rating ->  \n",
    "massage final results into output format -> save output -> websitey stuff"
   ]
  },
  {
   "cell_type": "markdown",
   "id": "2fc1645c-f94f-4e8c-9563-37bb2832cec6",
   "metadata": {
    "tags": []
   },
   "source": [
    "## Imports  \n",
    "All of the packages that will be used in this notebook"
   ]
  },
  {
   "cell_type": "code",
   "execution_count": 1,
   "id": "fe2fa06b",
   "metadata": {},
   "outputs": [],
   "source": [
    "#imports\n",
    "import openpyxl\n",
    "import pandas as pd\n",
    "import requests\n",
    "import json\n",
    "import math\n",
    "import dataframe_image as dfi\n",
    "import matplotlib.pyplot as plt\n",
    "from io import BytesIO\n",
    "from operator import itemgetter\n",
    "pd.set_option(\"display.precision\", 0)"
   ]
  },
  {
   "cell_type": "markdown",
   "id": "47686b7c-357b-4a41-8dfd-0e183df46c28",
   "metadata": {
    "tags": []
   },
   "source": [
    "## Import Spreadsheet data as a Pandas DataFrame"
   ]
  },
  {
   "cell_type": "code",
   "execution_count": 2,
   "id": "d3843c36-cdf7-44ea-9b97-5ce63466e302",
   "metadata": {},
   "outputs": [],
   "source": [
    "# Read in toy data spreadsheet tabs as separate dataframes in a list, season_data\n",
    "spreadsheetId = \"1HcmUMpPyTN3MwYlxGhms4OV3-gg4AbmrYimXM2eB4GY\" # Please set your Spreadsheet ID for the current GWL week ######################################################\n",
    "url = \"https://docs.google.com/spreadsheets/export?exportFormat=xlsx&id=\" + spreadsheetId\n",
    "res = requests.get(url)\n",
    "data = BytesIO(res.content)\n",
    "xlsx = openpyxl.load_workbook(filename=data)\n",
    "season_data = []\n",
    "for name in xlsx.sheetnames:\n",
    "    new_df = pd.read_excel(data, sheet_name=name)\n",
    "    new_df.name = name\n",
    "    season_data.append(new_df)\n",
    "\n",
    "# Need to remove some rows in the Match Records, filter via rows where matches are played\n",
    "matches = season_data[0]\n",
    "matches = matches[matches['Played?'] == True]\n",
    "season_data[0] = matches"
   ]
  },
  {
   "cell_type": "code",
   "execution_count": 3,
   "id": "1b8ba897-8793-44e6-a956-41711b57a099",
   "metadata": {},
   "outputs": [
    {
     "data": {
      "text/html": [
       "<div>\n",
       "<style scoped>\n",
       "    .dataframe tbody tr th:only-of-type {\n",
       "        vertical-align: middle;\n",
       "    }\n",
       "\n",
       "    .dataframe tbody tr th {\n",
       "        vertical-align: top;\n",
       "    }\n",
       "\n",
       "    .dataframe thead th {\n",
       "        text-align: right;\n",
       "    }\n",
       "</style>\n",
       "<table border=\"1\" class=\"dataframe\">\n",
       "  <thead>\n",
       "    <tr style=\"text-align: right;\">\n",
       "      <th></th>\n",
       "      <th>Tournament</th>\n",
       "      <th>Team 1</th>\n",
       "      <th>Team 2</th>\n",
       "      <th>IGNORE</th>\n",
       "      <th>Division?</th>\n",
       "      <th>Date</th>\n",
       "      <th>Time</th>\n",
       "      <th>Played?</th>\n",
       "      <th>Map1</th>\n",
       "      <th>Winner</th>\n",
       "      <th>...</th>\n",
       "      <th>Map6</th>\n",
       "      <th>Winner.5</th>\n",
       "      <th>Map7</th>\n",
       "      <th>Winner.6</th>\n",
       "      <th>Map8</th>\n",
       "      <th>Winner.7</th>\n",
       "      <th>Match Winner</th>\n",
       "      <th>VOD Link</th>\n",
       "      <th>Round #</th>\n",
       "      <th>MVP</th>\n",
       "    </tr>\n",
       "  </thead>\n",
       "  <tbody>\n",
       "    <tr>\n",
       "      <th>0</th>\n",
       "      <td>Season</td>\n",
       "      <td>Awesome Anglers</td>\n",
       "      <td>Iceland Imps</td>\n",
       "      <td>DRAW</td>\n",
       "      <td>NaN</td>\n",
       "      <td>2022-06-05</td>\n",
       "      <td>22:00:00</td>\n",
       "      <td>1</td>\n",
       "      <td>Lijiang Tower</td>\n",
       "      <td>Iceland Imps</td>\n",
       "      <td>...</td>\n",
       "      <td>NaN</td>\n",
       "      <td>NaN</td>\n",
       "      <td>NaN</td>\n",
       "      <td>NaN</td>\n",
       "      <td>NaN</td>\n",
       "      <td>NaN</td>\n",
       "      <td>Iceland Imps</td>\n",
       "      <td>NaN</td>\n",
       "      <td>1</td>\n",
       "      <td>NaN</td>\n",
       "    </tr>\n",
       "    <tr>\n",
       "      <th>1</th>\n",
       "      <td>Season</td>\n",
       "      <td>Arizona O-Teas</td>\n",
       "      <td>Chicago Cats</td>\n",
       "      <td>DRAW</td>\n",
       "      <td>NaN</td>\n",
       "      <td>2022-06-05</td>\n",
       "      <td>20:00:00</td>\n",
       "      <td>1</td>\n",
       "      <td>Lijiang Tower</td>\n",
       "      <td>Arizona O-Teas</td>\n",
       "      <td>...</td>\n",
       "      <td>NaN</td>\n",
       "      <td>NaN</td>\n",
       "      <td>NaN</td>\n",
       "      <td>NaN</td>\n",
       "      <td>NaN</td>\n",
       "      <td>NaN</td>\n",
       "      <td>Arizona O-Teas</td>\n",
       "      <td>https://www.youtube.com/watch?v=BnxCKOBygwo</td>\n",
       "      <td>1</td>\n",
       "      <td>RiddleDog#1377</td>\n",
       "    </tr>\n",
       "    <tr>\n",
       "      <th>2</th>\n",
       "      <td>Season</td>\n",
       "      <td>Pokhara Pusheens</td>\n",
       "      <td>Welsh Whales</td>\n",
       "      <td>DRAW</td>\n",
       "      <td>NaN</td>\n",
       "      <td>2022-06-04</td>\n",
       "      <td>20:00:00</td>\n",
       "      <td>1</td>\n",
       "      <td>Lijiang Tower</td>\n",
       "      <td>Welsh Whales</td>\n",
       "      <td>...</td>\n",
       "      <td>NaN</td>\n",
       "      <td>NaN</td>\n",
       "      <td>NaN</td>\n",
       "      <td>NaN</td>\n",
       "      <td>NaN</td>\n",
       "      <td>NaN</td>\n",
       "      <td>Pokhara Pusheens</td>\n",
       "      <td>https://www.youtube.com/watch?v=XiF-vka40vU</td>\n",
       "      <td>1</td>\n",
       "      <td>PurpleJesus#11579</td>\n",
       "    </tr>\n",
       "    <tr>\n",
       "      <th>3</th>\n",
       "      <td>Season</td>\n",
       "      <td>Ema Skies</td>\n",
       "      <td>Troubling Trout</td>\n",
       "      <td>DRAW</td>\n",
       "      <td>NaN</td>\n",
       "      <td>2022-06-04</td>\n",
       "      <td>20:00:00</td>\n",
       "      <td>1</td>\n",
       "      <td>Lijiang Tower</td>\n",
       "      <td>Ema Skies</td>\n",
       "      <td>...</td>\n",
       "      <td>NaN</td>\n",
       "      <td>NaN</td>\n",
       "      <td>NaN</td>\n",
       "      <td>NaN</td>\n",
       "      <td>NaN</td>\n",
       "      <td>NaN</td>\n",
       "      <td>Ema Skies</td>\n",
       "      <td>NaN</td>\n",
       "      <td>1</td>\n",
       "      <td>NaN</td>\n",
       "    </tr>\n",
       "    <tr>\n",
       "      <th>4</th>\n",
       "      <td>Season</td>\n",
       "      <td>Dorado Ducks</td>\n",
       "      <td>Phiji Phrogs</td>\n",
       "      <td>DRAW</td>\n",
       "      <td>NaN</td>\n",
       "      <td>2022-06-05</td>\n",
       "      <td>20:00:00</td>\n",
       "      <td>1</td>\n",
       "      <td>Lijiang Tower</td>\n",
       "      <td>Phiji Phrogs</td>\n",
       "      <td>...</td>\n",
       "      <td>NaN</td>\n",
       "      <td>NaN</td>\n",
       "      <td>NaN</td>\n",
       "      <td>NaN</td>\n",
       "      <td>NaN</td>\n",
       "      <td>NaN</td>\n",
       "      <td>Dorado Ducks</td>\n",
       "      <td>https://www.youtube.com/watch?v=xzOBt_dUndg</td>\n",
       "      <td>1</td>\n",
       "      <td>NaN</td>\n",
       "    </tr>\n",
       "    <tr>\n",
       "      <th>5</th>\n",
       "      <td>Season</td>\n",
       "      <td>Awesome Anglers</td>\n",
       "      <td>Arizona O-Teas</td>\n",
       "      <td>DRAW</td>\n",
       "      <td>NaN</td>\n",
       "      <td>2022-06-10</td>\n",
       "      <td>20:00:00</td>\n",
       "      <td>1</td>\n",
       "      <td>Ilios</td>\n",
       "      <td>Awesome Anglers</td>\n",
       "      <td>...</td>\n",
       "      <td>NaN</td>\n",
       "      <td>NaN</td>\n",
       "      <td>NaN</td>\n",
       "      <td>NaN</td>\n",
       "      <td>NaN</td>\n",
       "      <td>NaN</td>\n",
       "      <td>Awesome Anglers</td>\n",
       "      <td>https://www.youtube.com/watch?v=08N6bXGUmT0</td>\n",
       "      <td>2</td>\n",
       "      <td>sonicronic#1848</td>\n",
       "    </tr>\n",
       "    <tr>\n",
       "      <th>6</th>\n",
       "      <td>Season</td>\n",
       "      <td>Iceland Imps</td>\n",
       "      <td>Pokhara Pusheens</td>\n",
       "      <td>DRAW</td>\n",
       "      <td>NaN</td>\n",
       "      <td>2022-06-11</td>\n",
       "      <td>20:00:00</td>\n",
       "      <td>1</td>\n",
       "      <td>Ilios</td>\n",
       "      <td>Iceland Imps</td>\n",
       "      <td>...</td>\n",
       "      <td>NaN</td>\n",
       "      <td>NaN</td>\n",
       "      <td>NaN</td>\n",
       "      <td>NaN</td>\n",
       "      <td>NaN</td>\n",
       "      <td>NaN</td>\n",
       "      <td>Iceland Imps</td>\n",
       "      <td>https://www.youtube.com/watch?v=wimk3B06Ujg</td>\n",
       "      <td>2</td>\n",
       "      <td>Syn#13108</td>\n",
       "    </tr>\n",
       "  </tbody>\n",
       "</table>\n",
       "<p>7 rows × 28 columns</p>\n",
       "</div>"
      ],
      "text/plain": [
       "  Tournament            Team 1            Team 2 IGNORE  Division?       Date  \\\n",
       "0     Season   Awesome Anglers      Iceland Imps   DRAW        NaN 2022-06-05   \n",
       "1     Season    Arizona O-Teas      Chicago Cats   DRAW        NaN 2022-06-05   \n",
       "2     Season  Pokhara Pusheens      Welsh Whales   DRAW        NaN 2022-06-04   \n",
       "3     Season         Ema Skies   Troubling Trout   DRAW        NaN 2022-06-04   \n",
       "4     Season      Dorado Ducks      Phiji Phrogs   DRAW        NaN 2022-06-05   \n",
       "5     Season   Awesome Anglers    Arizona O-Teas   DRAW        NaN 2022-06-10   \n",
       "6     Season      Iceland Imps  Pokhara Pusheens   DRAW        NaN 2022-06-11   \n",
       "\n",
       "       Time  Played?           Map1           Winner  ... Map6 Winner.5 Map7  \\\n",
       "0  22:00:00        1  Lijiang Tower     Iceland Imps  ...  NaN      NaN  NaN   \n",
       "1  20:00:00        1  Lijiang Tower   Arizona O-Teas  ...  NaN      NaN  NaN   \n",
       "2  20:00:00        1  Lijiang Tower     Welsh Whales  ...  NaN      NaN  NaN   \n",
       "3  20:00:00        1  Lijiang Tower        Ema Skies  ...  NaN      NaN  NaN   \n",
       "4  20:00:00        1  Lijiang Tower     Phiji Phrogs  ...  NaN      NaN  NaN   \n",
       "5  20:00:00        1          Ilios  Awesome Anglers  ...  NaN      NaN  NaN   \n",
       "6  20:00:00        1          Ilios     Iceland Imps  ...  NaN      NaN  NaN   \n",
       "\n",
       "  Winner.6 Map8 Winner.7      Match Winner  \\\n",
       "0      NaN  NaN      NaN      Iceland Imps   \n",
       "1      NaN  NaN      NaN    Arizona O-Teas   \n",
       "2      NaN  NaN      NaN  Pokhara Pusheens   \n",
       "3      NaN  NaN      NaN         Ema Skies   \n",
       "4      NaN  NaN      NaN      Dorado Ducks   \n",
       "5      NaN  NaN      NaN   Awesome Anglers   \n",
       "6      NaN  NaN      NaN      Iceland Imps   \n",
       "\n",
       "                                      VOD Link  Round #                MVP  \n",
       "0                                          NaN        1                NaN  \n",
       "1  https://www.youtube.com/watch?v=BnxCKOBygwo        1     RiddleDog#1377  \n",
       "2  https://www.youtube.com/watch?v=XiF-vka40vU        1  PurpleJesus#11579  \n",
       "3                                          NaN        1                NaN  \n",
       "4  https://www.youtube.com/watch?v=xzOBt_dUndg        1                NaN  \n",
       "5  https://www.youtube.com/watch?v=08N6bXGUmT0        2    sonicronic#1848  \n",
       "6  https://www.youtube.com/watch?v=wimk3B06Ujg        2          Syn#13108  \n",
       "\n",
       "[7 rows x 28 columns]"
      ]
     },
     "execution_count": 3,
     "metadata": {},
     "output_type": "execute_result"
    }
   ],
   "source": [
    "matches.head(7)"
   ]
  },
  {
   "cell_type": "code",
   "execution_count": 4,
   "id": "5050dd84-2dd5-48b9-8a76-2418cc297d0c",
   "metadata": {},
   "outputs": [
    {
     "data": {
      "text/plain": [
       "Index(['Tournament', 'Team 1', 'Team 2', 'IGNORE', 'Division?', 'Date', 'Time',\n",
       "       'Played?', 'Map1', 'Winner', 'Map2', 'Winner.1', 'Map3', 'Winner.2',\n",
       "       'Map4', 'Winner.3', 'Map5', 'Winner.4', 'Map6', 'Winner.5', 'Map7',\n",
       "       'Winner.6', 'Map8', 'Winner.7', 'Match Winner', 'VOD Link', 'Round #',\n",
       "       'MVP'],\n",
       "      dtype='object')"
      ]
     },
     "execution_count": 4,
     "metadata": {},
     "output_type": "execute_result"
    }
   ],
   "source": [
    "matches.columns"
   ]
  },
  {
   "cell_type": "markdown",
   "id": "54c24a7b-b104-4e41-b805-2be9eecf0f84",
   "metadata": {
    "tags": []
   },
   "source": [
    "## Define the simple Elo model classes and functions "
   ]
  },
  {
   "cell_type": "code",
   "execution_count": 5,
   "id": "3620605a",
   "metadata": {
    "tags": []
   },
   "outputs": [],
   "source": [
    "# Define ELO model\n",
    "K = 24 # ELO update scaler\n",
    "Rm = 3200 # default elo initialization\n",
    "delta = 500 # scaler on rel(p(win|A,B), A-B) in elo calc's exponential (Q)\n",
    "\n",
    "class Team:\n",
    "    def __init__(self, name, Rm=3200):\n",
    "        self.currentRating = Rm # Current estimate elo rating\n",
    "        self.opponentHist = [] # sequence of opponents (weekly)\n",
    "        self.ratingHist = [] # sequence of rating estimates (weekly)\n",
    "        self.currentRanking = 11 # the team's current ranking among all teams (1-10 in GWL); 11 ~ unranked\n",
    "        self.rankingHist = [] # sequence of team's standing (weekly)\n",
    "        \n",
    "class Elo:\n",
    "    def __init__(self,Rm = 3200, k=125, g=1, delta=500):\n",
    "        self.ratingDict = {} # dictionary of all teams and their current ratings; redundant/will be removed. currently accessed by power_rankings()\n",
    "        self.teamsDict = {} # dictionary of all team objects and their attributes. this will be used for the json output\n",
    "        self.k = k # k-factor for scaling max change in rating for a match\n",
    "        self.g = g # g-factor, another modifier to the rating change; will be converted to a margin of victory at a later point.\n",
    "        self.rankings = {} #  dictionary of the current power rankings; written-to by power_rankings()\n",
    "\n",
    "    def addPlayer(self,name, Rm = 3200):\n",
    "        self.ratingDict[name] = Rm # update code by deleting this and subsuming into teams dict\n",
    "        self.teamsDict[name] = Team(name, Rm)\n",
    "\n",
    "    def gameOver(self, winner, loser):\n",
    "        # take single game, chop up number of maps & winner of each\n",
    "        # combine all updates at once\n",
    "        #   expectation =  expected score | number of maps & team elos\n",
    "        #   diff = total map wins (+.5 for draws) - expectation\n",
    "        result = self.expectResult(self.ratingDict[winner], self.ratingDict[loser]) # compute the expected result\n",
    "        \n",
    "        # redundancy\n",
    "        self.ratingDict[winner] = self.ratingDict[winner] + (self.k*self.g)*(1 - result)  # update elo rating based on error\n",
    "        self.ratingDict[loser] \t= self.ratingDict[loser] + (self.k*self.g)*(0 - (1 -result))\n",
    "        \n",
    "        self.teamsDict[winner].currentRating =  self.teamsDict[winner].currentRating + (self.k*self.g)*(1 - result)\n",
    "        self.teamsDict[loser].currentRating = self.teamsDict[loser].currentRating + (self.k*self.g)*(0 - (1 -result))  \n",
    "        \n",
    "        # update the histories\n",
    "        self.teamsDict[winner].opponentHist.append(loser) # update winner's opponent\n",
    "        self.teamsDict[winner].ratingHist.append(self.teamsDict[winner].currentRating) # update winner's rating history\n",
    "        #self.teamsDict[winner].rankingHist.append(self.teamsDict[winner].currentRanking) #  update winner's power ranking history\n",
    "        self.teamsDict[loser].opponentHist.append(winner)\n",
    "        self.teamsDict[loser].ratingHist.append(self.teamsDict[loser].currentRating)\n",
    "        #self.teamsDict[loser].rankingHist.append(self.teamsDict[loser].currentRanking)\n",
    "\n",
    "    def seriesOver(self, game):\n",
    "        # take a full series and compute the updated estiamtes after the sequence of maps\n",
    "        # each map will be treated like a single binary outcome with winner (score = 1), and  loser (score = 0)\n",
    "        map_counter = 0\n",
    "        t1_score = 0\n",
    "        t2_score = 0\n",
    "        t1_name = game['Team 1']\n",
    "        t2_name = game['Team 2']\n",
    "        for possible_map in range(7):\n",
    "            if possible_map == 0: # Winner, Winner.2\n",
    "                winner_col = 'Winner'\n",
    "            else:\n",
    "                winner_col =  'Winner.{}'.format(possible_map) # name of column with winner name for the map\n",
    "            if game[winner_col] != 'NaN': # If the map is played, continue\n",
    "                winner = game[winner_col] # winner's name\n",
    "                if t1_name == winner:  # if team 1 is the winner\n",
    "                    t1_score += 1 # add  1 to winner's map score\n",
    "                elif t2_name == winner:\n",
    "                    t2_score +=  1\n",
    "                else: # draw, may need to edit for error if draw presents differently\n",
    "                    t1_score += .5\n",
    "                    t2_score += .5\n",
    "                map_counter += 1\n",
    "    \n",
    "            \n",
    "        result = self.expectResult(self.ratingDict[t1_name], self.ratingDict[t2_name]) # compute the expected result that t1 is the winner\n",
    "                \n",
    "        # redundancy in how ratings are stored due to differing uses for powerranking/other. can be fixed at a later date for parsimony\n",
    "        \n",
    "        \n",
    "        # actual score will be the number of maps taken. this is maybe a faulty assumption, but is the simplest case for now... Implementation of map diffs may be more appropriate\n",
    "        self.ratingDict[t1_name] = self.ratingDict[t1_name] + (self.k*self.g)*(t1_score - result*map_counter)  # update elo rating based on error (map score - pwin_map * nmaps\n",
    "        self.ratingDict[t2_name] \t= self.ratingDict[t2_name] + (self.k*self.g)*(t2_score - (1 -result)*map_counter)\n",
    "\n",
    "        self.teamsDict[t1_name].currentRating =  self.teamsDict[t1_name].currentRating + (self.k*self.g)*(t1_score - result*map_counter)\n",
    "        self.teamsDict[t2_name].currentRating = self.teamsDict[t2_name].currentRating + (self.k*self.g)*(t2_score - (1 -result)*map_counter)  \n",
    "\n",
    "        # update the histories\n",
    "        self.teamsDict[t1_name].opponentHist.append(t2_name) # update winner's opponent\n",
    "        self.teamsDict[t1_name].ratingHist.append(self.teamsDict[t1_name].currentRating) # update winner's rating history\n",
    "        #self.teamsDict[winner].rankingHist.append(self.teamsDict[winner].currentRanking) #  update winner's power ranking history\n",
    "        self.teamsDict[t2_name].opponentHist.append(t1_name)\n",
    "        self.teamsDict[t2_name].ratingHist.append(self.teamsDict[t2_name].currentRating)\n",
    "        #self.teamsDict[loser].rankingHist.append(self.teamsDict[loser].currentRanking)                                                                            \n",
    "\n",
    "    def expectResult(self, p1, p2):\n",
    "        exp = (p2-p1)/delta\n",
    "        return 1/((10.0**(exp))+1)\n",
    "    \n",
    "    def update_rankings(self):\n",
    "        r = 1\n",
    "        rankings  = []\n",
    "        for ranking in self.power_rankings():\n",
    "            team = ranking[1][0]\n",
    "            self.teamsDict[team].currentRanking = r  #  update  the current ranking\n",
    "            self.teamsDict[team].rankingHist.append(self.teamsDict[team].currentRanking) # update the ranking history with the new ranking\n",
    "            rankings.append(r)\n",
    "            r += 1\n",
    "        return rankings\n",
    "\n",
    "    def power_rankings(self):\n",
    "        self.rankings = sorted(self.ratingDict.items(), key=itemgetter(1), reverse=True)\n",
    "        power = []\n",
    "        for i, x in enumerate(self.rankings):\n",
    "            power.append((i + 1, x))\n",
    "        return power"
   ]
  },
  {
   "cell_type": "markdown",
   "id": "ed4a77ff-c725-40c2-86e9-441b6308c965",
   "metadata": {
    "tags": []
   },
   "source": [
    "## Model Implementation/ Testing"
   ]
  },
  {
   "cell_type": "markdown",
   "id": "81960ba3-cbc6-4958-859b-ec2697fab5e0",
   "metadata": {},
   "source": [
    "**MACRO TEST**\n"
   ]
  },
  {
   "cell_type": "code",
   "execution_count": 6,
   "id": "f7560b81-7c4c-4fd6-8c01-5e984e46148d",
   "metadata": {},
   "outputs": [],
   "source": [
    "# # Code for checking that the maps and winners are being read/reported correctly\n",
    "# game = matches.iloc[1]\n",
    "# map_counter = 0\n",
    "# t1_score = 0\n",
    "# t2_score = 0\n",
    "# t1_name = game['Team 1']\n",
    "# t2_name = game['Team 2']\n",
    "# for possible_map in range(7):\n",
    "#     if possible_map == 0: # Winner, Winner.2\n",
    "#         winner_col = 'Winner'\n",
    "#     else:\n",
    "#         winner_col =  'Winner.{}'.format(possible_map) # name of column with winner name for the map\n",
    "#     print(game[winner_col] + ' will win map {}.'.format(possible_map+1))\n",
    "#     if game[winner_col] != 'NaN': # If the map is played, continue\n",
    "#         print('Map {} is being played.'.format(possible_map+1))\n",
    "#         winner = game[winner_col] # winner's name\n",
    "#         if t1_name == winner:  # if team 1 is the winner\n",
    "#             t1_score += 1 # add  1 to winner's map score\n",
    "#             print(\"{} have now won {} maps.\".format(winner,t1_score))\n",
    "#         elif t2_name == winner:\n",
    "#             t2_score +=  1\n",
    "#             print(\"{} have now won {} maps\".format(winner,t2_score))\n",
    "#         else: # draw, may need to edit for error if draw presents differently\n",
    "#             print('A \"draw\" has been detected.')\n",
    "#             t1_score += .5\n",
    "#             t2_score += .5\n",
    "#         map_counter += 1"
   ]
  },
  {
   "cell_type": "code",
   "execution_count": 7,
   "id": "4fbf0a4c-fbfb-415c-84c6-3976072781d9",
   "metadata": {},
   "outputs": [],
   "source": [
    "# # Just run week 1 matches\n",
    "# # initialize the elo model\n",
    "# GWL = Elo()\n",
    "\n",
    "# # initialize teams\n",
    "# teams = ['Iceland Imps', 'Ema Skies', 'Arizona O-Teas', 'Troubling Trout', 'Dorado Ducks','Awesome Anglers','Phiji Phrogs','Pokhara Pusheens','Chicago Cats','Welsh Whales']\n",
    "# for team in teams:\n",
    "#     GWL.addPlayer(team)\n",
    "\n",
    "# week = 1\n",
    "# for i, game in matches.iterrows():\n",
    "#     if week == 1:\n",
    "#         GWL.seriesOver(game) # update ELO's from the series\n",
    "#         if (game['Round #'] > week) or (i == len(matches)-1): # update the power rankings at the end of a week\n",
    "#             GWL.update_rankings()\n",
    "#             week +=1"
   ]
  },
  {
   "cell_type": "code",
   "execution_count": 8,
   "id": "3a4b82ed-1d6a-439c-8430-0ce6211361bb",
   "metadata": {},
   "outputs": [],
   "source": [
    "# initialize the elo model\n",
    "GWL = Elo()\n",
    "\n",
    "# initialize teams\n",
    "teams = ['Iceland Imps', 'Ema Skies', 'Arizona O-Teas', 'Troubling Trout', 'Dorado Ducks','Awesome Anglers','Phiji Phrogs','Pokhara Pusheens','Chicago Cats','Welsh Whales']\n",
    "for team in teams:\n",
    "    GWL.addPlayer(team)\n",
    "\n",
    "week = 1\n",
    "for i, game in matches.iterrows():\n",
    "    GWL.seriesOver(game) # update ELO's from the series\n",
    "    if (game['Round #'] > week) or (i == len(matches)-1): # update the power rankings at the end of a week\n",
    "        GWL.update_rankings()\n",
    "        week +=1\n",
    "#vars(GWL.teamsDict['A'])\n",
    "#GWL.update_rankings()\n",
    "#GWL.teamsDict['A'].rankingHist"
   ]
  },
  {
   "cell_type": "markdown",
   "id": "e836ff79-0d22-4c4a-802d-e9b11acd19d6",
   "metadata": {
    "tags": []
   },
   "source": [
    "## Output and save model results"
   ]
  },
  {
   "cell_type": "code",
   "execution_count": 9,
   "id": "7d6391a0-861a-4cb2-92ea-11a9af457428",
   "metadata": {},
   "outputs": [
    {
     "data": {
      "text/plain": [
       "{'Iceland Imps': '{\"currentRating\": 3449.9697722676665, \"opponentHist\": [\"Awesome Anglers\", \"Pokhara Pusheens\"], \"ratingHist\": [3387.5, 3449.9697722676665], \"currentRanking\": 1, \"rankingHist\": [2, 1]}',\n",
       " 'Ema Skies': '{\"currentRating\": 3387.4697722676665, \"opponentHist\": [\"Troubling Trout\", \"Dorado Ducks\"], \"ratingHist\": [3325.0, 3387.4697722676665], \"currentRanking\": 3, \"rankingHist\": [3, 3]}',\n",
       " 'Arizona O-Teas': '{\"currentRating\": 2847.7214391830366, \"opponentHist\": [\"Chicago Cats\", \"Awesome Anglers\"], \"ratingHist\": [3262.5, 2847.7214391830366], \"currentRanking\": 10, \"rankingHist\": [10, 10]}',\n",
       " 'Troubling Trout': '{\"currentRating\": 3200.0, \"opponentHist\": [\"Ema Skies\", \"Welsh Whales\"], \"ratingHist\": [3075.0, 3200.0], \"currentRanking\": 6, \"rankingHist\": [8, 6]}',\n",
       " 'Dorado Ducks': '{\"currentRating\": 3200.0302277323335, \"opponentHist\": [\"Phiji Phrogs\", \"Ema Skies\"], \"ratingHist\": [3262.5, 3200.0302277323335], \"currentRanking\": 5, \"rankingHist\": [5, 5]}',\n",
       " 'Awesome Anglers': '{\"currentRating\": 3427.2785608169634, \"opponentHist\": [\"Iceland Imps\", \"Arizona O-Teas\"], \"ratingHist\": [3012.5, 3427.2785608169634], \"currentRanking\": 2, \"rankingHist\": [1, 2]}',\n",
       " 'Phiji Phrogs': '{\"currentRating\": 3200.0, \"opponentHist\": [\"Dorado Ducks\", \"Chicago Cats\"], \"ratingHist\": [3137.5, 3200.0], \"currentRanking\": 7, \"rankingHist\": [6, 7]}',\n",
       " 'Pokhara Pusheens': '{\"currentRating\": 3262.5302277323335, \"opponentHist\": [\"Welsh Whales\", \"Iceland Imps\"], \"ratingHist\": [3325.0, 3262.5302277323335], \"currentRanking\": 4, \"rankingHist\": [4, 4]}',\n",
       " 'Chicago Cats': '{\"currentRating\": 3075.0, \"opponentHist\": [\"Arizona O-Teas\", \"Phiji Phrogs\"], \"ratingHist\": [3137.5, 3075.0], \"currentRanking\": 8, \"rankingHist\": [7, 8]}',\n",
       " 'Welsh Whales': '{\"currentRating\": 2950.0, \"opponentHist\": [\"Pokhara Pusheens\", \"Troubling Trout\"], \"ratingHist\": [3075.0, 2950.0], \"currentRanking\": 9, \"rankingHist\": [9, 9]}'}"
      ]
     },
     "execution_count": 9,
     "metadata": {},
     "output_type": "execute_result"
    }
   ],
   "source": [
    "# NEXT STEP: MASSAGE OUTPUT INTO FORMAT WE WANT (json)\n",
    "TeamsJSON = {}\n",
    "for team in GWL.teamsDict:\n",
    "    teamJSON = json.dumps(GWL.teamsDict[team].__dict__)\n",
    "    TeamsJSON[team] = teamJSON\n",
    "TeamsJSON"
   ]
  },
  {
   "cell_type": "code",
   "execution_count": 10,
   "id": "f63b43be-4686-41ac-b42e-efbe56846e60",
   "metadata": {},
   "outputs": [
    {
     "data": {
      "text/plain": [
       "{'currentRating': 3449.9697722676665,\n",
       " 'opponentHist': ['Awesome Anglers', 'Pokhara Pusheens'],\n",
       " 'ratingHist': [3387.5, 3449.9697722676665],\n",
       " 'currentRanking': 1,\n",
       " 'rankingHist': [2, 1]}"
      ]
     },
     "execution_count": 10,
     "metadata": {},
     "output_type": "execute_result"
    }
   ],
   "source": [
    "# To  Access the nested dicitonary requires the use of json.loads() and the team name (key) to be loaded\n",
    "json.loads(TeamsJSON['Iceland Imps'])"
   ]
  },
  {
   "cell_type": "code",
   "execution_count": 11,
   "id": "a08e3501-4bdf-4d93-93f4-7d81b8e1f8ed",
   "metadata": {},
   "outputs": [],
   "source": [
    "# write out a json file.\n",
    "with open('GWLweek2output_mapmodel.json', 'w') as outfile:\n",
    "    json.dump(TeamsJSON,outfile)   "
   ]
  },
  {
   "cell_type": "code",
   "execution_count": 12,
   "id": "0486b9a0-9dcf-4c60-a768-7b51f6389d87",
   "metadata": {},
   "outputs": [
    {
     "name": "stdout",
     "output_type": "stream",
     "text": [
      "{'Iceland Imps': '{\"currentRating\": 3449.9697722676665, \"opponentHist\": [\"Awesome Anglers\", \"Pokhara Pusheens\"], \"ratingHist\": [3387.5, 3449.9697722676665], \"currentRanking\": 1, \"rankingHist\": [2, 1]}', 'Ema Skies': '{\"currentRating\": 3387.4697722676665, \"opponentHist\": [\"Troubling Trout\", \"Dorado Ducks\"], \"ratingHist\": [3325.0, 3387.4697722676665], \"currentRanking\": 3, \"rankingHist\": [3, 3]}', 'Arizona O-Teas': '{\"currentRating\": 2847.7214391830366, \"opponentHist\": [\"Chicago Cats\", \"Awesome Anglers\"], \"ratingHist\": [3262.5, 2847.7214391830366], \"currentRanking\": 10, \"rankingHist\": [10, 10]}', 'Troubling Trout': '{\"currentRating\": 3200.0, \"opponentHist\": [\"Ema Skies\", \"Welsh Whales\"], \"ratingHist\": [3075.0, 3200.0], \"currentRanking\": 6, \"rankingHist\": [8, 6]}', 'Dorado Ducks': '{\"currentRating\": 3200.0302277323335, \"opponentHist\": [\"Phiji Phrogs\", \"Ema Skies\"], \"ratingHist\": [3262.5, 3200.0302277323335], \"currentRanking\": 5, \"rankingHist\": [5, 5]}', 'Awesome Anglers': '{\"currentRating\": 3427.2785608169634, \"opponentHist\": [\"Iceland Imps\", \"Arizona O-Teas\"], \"ratingHist\": [3012.5, 3427.2785608169634], \"currentRanking\": 2, \"rankingHist\": [1, 2]}', 'Phiji Phrogs': '{\"currentRating\": 3200.0, \"opponentHist\": [\"Dorado Ducks\", \"Chicago Cats\"], \"ratingHist\": [3137.5, 3200.0], \"currentRanking\": 7, \"rankingHist\": [6, 7]}', 'Pokhara Pusheens': '{\"currentRating\": 3262.5302277323335, \"opponentHist\": [\"Welsh Whales\", \"Iceland Imps\"], \"ratingHist\": [3325.0, 3262.5302277323335], \"currentRanking\": 4, \"rankingHist\": [4, 4]}', 'Chicago Cats': '{\"currentRating\": 3075.0, \"opponentHist\": [\"Arizona O-Teas\", \"Phiji Phrogs\"], \"ratingHist\": [3137.5, 3075.0], \"currentRanking\": 8, \"rankingHist\": [7, 8]}', 'Welsh Whales': '{\"currentRating\": 2950.0, \"opponentHist\": [\"Pokhara Pusheens\", \"Troubling Trout\"], \"ratingHist\": [3075.0, 2950.0], \"currentRanking\": 9, \"rankingHist\": [9, 9]}'}\n"
     ]
    }
   ],
   "source": [
    "# A quick check to see that the output is correct:\n",
    "with open('GWLweek2output_mapmodel.json') as json_file:\n",
    "    data = json.load(json_file)\n",
    "    print(data)"
   ]
  },
  {
   "cell_type": "markdown",
   "id": "3a02a41d-872d-4f60-8e0f-68898ff8bf17",
   "metadata": {},
   "source": [
    "### This output looks good for a json file!"
   ]
  },
  {
   "cell_type": "markdown",
   "id": "0c8b1c7b-5521-4df9-90ab-592e5f5a7f41",
   "metadata": {
    "tags": []
   },
   "source": [
    "## Visualization"
   ]
  },
  {
   "cell_type": "code",
   "execution_count": 13,
   "id": "41fe0618-4a99-412b-ba0c-cd3bde754ede",
   "metadata": {},
   "outputs": [
    {
     "data": {
      "image/png": "[encoded data removed]",
      "text/plain": [
       "<Figure size 720x504 with 1 Axes>"
      ]
     },
     "metadata": {
      "needs_background": "light"
     },
     "output_type": "display_data"
    }
   ],
   "source": [
    "# Figure for Elo rating history\n",
    "n_weeks =  len(GWL.teamsDict['Iceland Imps'].ratingHist)\n",
    "title = 'GWL Power Rankings: Week {}'.format(n_weeks)\n",
    "xlab = 'Week'\n",
    "ylab = 'ELO rating'\n",
    "\n",
    "# Maybe make a table for team colors\n",
    "\n",
    "for team in GWL.teamsDict:\n",
    "    plt.plot(GWL.teamsDict[team].ratingHist, label=team); # need line colors\n",
    "#to include: figure sizes\n",
    "fig = plt.gcf();\n",
    "fig.set_size_inches(10,7);\n",
    "plt.title(title);\n",
    "plt.xlabel(xlab);\n",
    "plt.ylabel(ylab);\n",
    "plt.xticks(list(range(n_weeks)),list(range(1,n_weeks+1)));\n",
    "plt.legend(loc='right',bbox_to_anchor = (1.25,.8));\n",
    "plt.savefig('elo_histories_mapw2.png'); # uncomment to save figure"
   ]
  },
  {
   "cell_type": "code",
   "execution_count": 14,
   "id": "7e1fb765-364e-4487-9418-359bfa9911e6",
   "metadata": {},
   "outputs": [
    {
     "name": "stderr",
     "output_type": "stream",
     "text": [
      "C:\\Users\\Rory\\anaconda3\\lib\\site-packages\\dataframe_image\\_pandas_accessor.py:69: FutureWarning: this method is deprecated in favour of `Styler.to_html()`\n",
      "  html = '<div>' + obj.render() + '</div>'\n"
     ]
    },
    {
     "data": {
      "text/html": [
       "<style type=\"text/css\">\n",
       "</style>\n",
       "<table id=\"T_7982a\">\n",
       "  <thead>\n",
       "    <tr>\n",
       "      <th class=\"blank level0\" >&nbsp;</th>\n",
       "      <th id=\"T_7982a_level0_col0\" class=\"col_heading level0 col0\" > </th>\n",
       "      <th id=\"T_7982a_level0_col1\" class=\"col_heading level0 col1\" >Team</th>\n",
       "      <th id=\"T_7982a_level0_col2\" class=\"col_heading level0 col2\" >ELO rating</th>\n",
       "      <th id=\"T_7982a_level0_col3\" class=\"col_heading level0 col3\" >  </th>\n",
       "    </tr>\n",
       "    <tr>\n",
       "      <th class=\"index_name level0\" >Rank</th>\n",
       "      <th class=\"blank col0\" >&nbsp;</th>\n",
       "      <th class=\"blank col1\" >&nbsp;</th>\n",
       "      <th class=\"blank col2\" >&nbsp;</th>\n",
       "      <th class=\"blank col3\" >&nbsp;</th>\n",
       "    </tr>\n",
       "  </thead>\n",
       "  <tbody>\n",
       "    <tr>\n",
       "      <th id=\"T_7982a_level0_row0\" class=\"row_heading level0 row0\" >1</th>\n",
       "      <td id=\"T_7982a_row0_col0\" class=\"data row0 col0\" >+1</td>\n",
       "      <td id=\"T_7982a_row0_col1\" class=\"data row0 col1\" >Iceland Imps</td>\n",
       "      <td id=\"T_7982a_row0_col2\" class=\"data row0 col2\" >3450</td>\n",
       "      <td id=\"T_7982a_row0_col3\" class=\"data row0 col3\" >+62</td>\n",
       "    </tr>\n",
       "    <tr>\n",
       "      <th id=\"T_7982a_level0_row1\" class=\"row_heading level0 row1\" >2</th>\n",
       "      <td id=\"T_7982a_row1_col0\" class=\"data row1 col0\" >-1</td>\n",
       "      <td id=\"T_7982a_row1_col1\" class=\"data row1 col1\" >Awesome Anglers</td>\n",
       "      <td id=\"T_7982a_row1_col2\" class=\"data row1 col2\" >3427</td>\n",
       "      <td id=\"T_7982a_row1_col3\" class=\"data row1 col3\" >+415</td>\n",
       "    </tr>\n",
       "    <tr>\n",
       "      <th id=\"T_7982a_level0_row2\" class=\"row_heading level0 row2\" >3</th>\n",
       "      <td id=\"T_7982a_row2_col0\" class=\"data row2 col0\" > </td>\n",
       "      <td id=\"T_7982a_row2_col1\" class=\"data row2 col1\" >Ema Skies</td>\n",
       "      <td id=\"T_7982a_row2_col2\" class=\"data row2 col2\" >3387</td>\n",
       "      <td id=\"T_7982a_row2_col3\" class=\"data row2 col3\" >+62</td>\n",
       "    </tr>\n",
       "    <tr>\n",
       "      <th id=\"T_7982a_level0_row3\" class=\"row_heading level0 row3\" >4</th>\n",
       "      <td id=\"T_7982a_row3_col0\" class=\"data row3 col0\" > </td>\n",
       "      <td id=\"T_7982a_row3_col1\" class=\"data row3 col1\" >Pokhara Pusheens</td>\n",
       "      <td id=\"T_7982a_row3_col2\" class=\"data row3 col2\" >3263</td>\n",
       "      <td id=\"T_7982a_row3_col3\" class=\"data row3 col3\" >-62</td>\n",
       "    </tr>\n",
       "    <tr>\n",
       "      <th id=\"T_7982a_level0_row4\" class=\"row_heading level0 row4\" >5</th>\n",
       "      <td id=\"T_7982a_row4_col0\" class=\"data row4 col0\" > </td>\n",
       "      <td id=\"T_7982a_row4_col1\" class=\"data row4 col1\" >Dorado Ducks</td>\n",
       "      <td id=\"T_7982a_row4_col2\" class=\"data row4 col2\" >3200</td>\n",
       "      <td id=\"T_7982a_row4_col3\" class=\"data row4 col3\" >-62</td>\n",
       "    </tr>\n",
       "    <tr>\n",
       "      <th id=\"T_7982a_level0_row5\" class=\"row_heading level0 row5\" >6</th>\n",
       "      <td id=\"T_7982a_row5_col0\" class=\"data row5 col0\" >+2</td>\n",
       "      <td id=\"T_7982a_row5_col1\" class=\"data row5 col1\" >Troubling Trout</td>\n",
       "      <td id=\"T_7982a_row5_col2\" class=\"data row5 col2\" >3200</td>\n",
       "      <td id=\"T_7982a_row5_col3\" class=\"data row5 col3\" >+125</td>\n",
       "    </tr>\n",
       "    <tr>\n",
       "      <th id=\"T_7982a_level0_row6\" class=\"row_heading level0 row6\" >7</th>\n",
       "      <td id=\"T_7982a_row6_col0\" class=\"data row6 col0\" >-1</td>\n",
       "      <td id=\"T_7982a_row6_col1\" class=\"data row6 col1\" >Phiji Phrogs</td>\n",
       "      <td id=\"T_7982a_row6_col2\" class=\"data row6 col2\" >3200</td>\n",
       "      <td id=\"T_7982a_row6_col3\" class=\"data row6 col3\" >+62</td>\n",
       "    </tr>\n",
       "    <tr>\n",
       "      <th id=\"T_7982a_level0_row7\" class=\"row_heading level0 row7\" >8</th>\n",
       "      <td id=\"T_7982a_row7_col0\" class=\"data row7 col0\" >-1</td>\n",
       "      <td id=\"T_7982a_row7_col1\" class=\"data row7 col1\" >Chicago Cats</td>\n",
       "      <td id=\"T_7982a_row7_col2\" class=\"data row7 col2\" >3075</td>\n",
       "      <td id=\"T_7982a_row7_col3\" class=\"data row7 col3\" >-62</td>\n",
       "    </tr>\n",
       "    <tr>\n",
       "      <th id=\"T_7982a_level0_row8\" class=\"row_heading level0 row8\" >9</th>\n",
       "      <td id=\"T_7982a_row8_col0\" class=\"data row8 col0\" > </td>\n",
       "      <td id=\"T_7982a_row8_col1\" class=\"data row8 col1\" >Welsh Whales</td>\n",
       "      <td id=\"T_7982a_row8_col2\" class=\"data row8 col2\" >2950</td>\n",
       "      <td id=\"T_7982a_row8_col3\" class=\"data row8 col3\" >-125</td>\n",
       "    </tr>\n",
       "    <tr>\n",
       "      <th id=\"T_7982a_level0_row9\" class=\"row_heading level0 row9\" >10</th>\n",
       "      <td id=\"T_7982a_row9_col0\" class=\"data row9 col0\" > </td>\n",
       "      <td id=\"T_7982a_row9_col1\" class=\"data row9 col1\" >Arizona O-Teas</td>\n",
       "      <td id=\"T_7982a_row9_col2\" class=\"data row9 col2\" >2848</td>\n",
       "      <td id=\"T_7982a_row9_col3\" class=\"data row9 col3\" >-415</td>\n",
       "    </tr>\n",
       "  </tbody>\n",
       "</table>\n"
      ],
      "text/plain": [
       "<pandas.io.formats.style.Styler at 0x207fa272a30>"
      ]
     },
     "execution_count": 14,
     "metadata": {},
     "output_type": "execute_result"
    }
   ],
   "source": [
    "# Table for power rankings\n",
    "\n",
    "#  First, to create a dataframe which will contain the data for the table\n",
    "# initialize dataframe for 10 slots and labels 1-10, column names\n",
    "power_table = pd.DataFrame(index = pd.RangeIndex(1,11,name='Rank'), columns = [' ','Team', 'ELO rating', '  '])\n",
    "\n",
    "# iterate over each team and fill in their row of the dataframe\n",
    "for team in GWL.teamsDict:\n",
    "    r = GWL.teamsDict[team].currentRanking # team's ranking\n",
    "    rr  = power_table.loc[r] # row for team's ranking\n",
    "    \n",
    "    # calculate ranking change\n",
    "    dr =  GWL.teamsDict[team].rankingHist[-2] - GWL.teamsDict[team].currentRanking\n",
    "    \n",
    "    # calculate rating change\n",
    "    dELO = round(GWL.teamsDict[team].currentRating - GWL.teamsDict[team].ratingHist[-2])\n",
    "    \n",
    "    # update power_table with team's values\n",
    "    # ranking change\n",
    "    if dr > 0:\n",
    "        rr[0] = '+{}'.format(dr)\n",
    "    elif dr == 0:\n",
    "        rr[0] = ' '\n",
    "    else:\n",
    "        rr[0] = dr\n",
    "    # team name\n",
    "    rr[1] = team\n",
    "    # ELO rating\n",
    "    rr[2] = round(GWL.teamsDict[team].currentRating)\n",
    "    # ELO change\n",
    "    if  dELO  >0:\n",
    "        rr[3] = '+{}'.format(dELO)\n",
    "    elif dELO  == 0:\n",
    "        rr[3] = '   '\n",
    "    else:\n",
    "        rr[3] = dELO\n",
    "df_styled = power_table.style.background_gradient(); # may want to do more  styling/sizing here and in next line\n",
    "dfi.export(df_styled,\"GWLweek2_map_power_rankings.png\");  # uncomment to save table\n",
    "df_styled"
   ]
  },
  {
   "cell_type": "code",
   "execution_count": 15,
   "id": "99e1ec3d-eb80-4f80-aa50-cbb94eb6469d",
   "metadata": {},
   "outputs": [],
   "source": [
    "# A quick  chunk of code just to check that rankings/ratings are ok\n",
    "# for team in GWL.teamsDict:\n",
    "#     r = GWL.teamsDict[team].currentRanking # team's ranking\n",
    "#     rr  = power_table.loc[r] # row for team's ranking\n",
    "    \n",
    "#     # calculate ranking change\n",
    "#     dr =  GWL.teamsDict[team].rankingHist[-2] - GWL.teamsDict[team].currentRanking\n",
    "    \n",
    "#     # calculate rating change\n",
    "#     dELO = round(GWL.teamsDict[team].currentRating - GWL.teamsDict[team].ratingHist[-2])\n",
    "    \n",
    "#     prior_rating = GWL.teamsDict[team].ratingHist[-2]\n",
    "#     prior_rank = GWL.teamsDict[team].rankingHist[-2]\n",
    "#     print('current rank: {}, '.format(r) +'prior rank: {} \\n'.format(prior_rank) + 'change: {} '.format(dr) + 'len games: {}'.format(len(GWL.teamsDict[team].rankingHist)))"
   ]
  },
  {
   "cell_type": "code",
   "execution_count": 16,
   "id": "6f72ba30-1c4b-4ba6-8cc8-b8cf559fa3e7",
   "metadata": {},
   "outputs": [
    {
     "name": "stderr",
     "output_type": "stream",
     "text": [
      "C:\\Users\\Rory\\AppData\\Local\\Temp\\ipykernel_7312\\335669301.py:27: FutureWarning: this method is deprecated in favour of `Styler.hide(axis='index')`\n",
      "  preds_styled = nweek_preds.style.hide_index();\n",
      "C:\\Users\\Rory\\anaconda3\\lib\\site-packages\\dataframe_image\\_pandas_accessor.py:69: FutureWarning: this method is deprecated in favour of `Styler.to_html()`\n",
      "  html = '<div>' + obj.render() + '</div>'\n"
     ]
    },
    {
     "data": {
      "text/html": [
       "<style type=\"text/css\">\n",
       "</style>\n",
       "<table id=\"T_887b3\">\n",
       "  <thead>\n",
       "    <tr>\n",
       "      <th id=\"T_887b3_level0_col0\" class=\"col_heading level0 col0\" >Rank</th>\n",
       "      <th id=\"T_887b3_level0_col1\" class=\"col_heading level0 col1\" >Team</th>\n",
       "      <th id=\"T_887b3_level0_col2\" class=\"col_heading level0 col2\" >% Win</th>\n",
       "      <th id=\"T_887b3_level0_col3\" class=\"col_heading level0 col3\" >% Win </th>\n",
       "      <th id=\"T_887b3_level0_col4\" class=\"col_heading level0 col4\" >Team </th>\n",
       "      <th id=\"T_887b3_level0_col5\" class=\"col_heading level0 col5\" >Rank </th>\n",
       "    </tr>\n",
       "  </thead>\n",
       "  <tbody>\n",
       "    <tr>\n",
       "      <td id=\"T_887b3_row0_col0\" class=\"data row0 col0\" >4</td>\n",
       "      <td id=\"T_887b3_row0_col1\" class=\"data row0 col1\" >Pokhara Pusheens</td>\n",
       "      <td id=\"T_887b3_row0_col2\" class=\"data row0 col2\" >70</td>\n",
       "      <td id=\"T_887b3_row0_col3\" class=\"data row0 col3\" >30</td>\n",
       "      <td id=\"T_887b3_row0_col4\" class=\"data row0 col4\" >Chicago Cats</td>\n",
       "      <td id=\"T_887b3_row0_col5\" class=\"data row0 col5\" >8</td>\n",
       "    </tr>\n",
       "    <tr>\n",
       "      <td id=\"T_887b3_row1_col0\" class=\"data row1 col0\" >1</td>\n",
       "      <td id=\"T_887b3_row1_col1\" class=\"data row1 col1\" >Iceland Imps</td>\n",
       "      <td id=\"T_887b3_row1_col2\" class=\"data row1 col2\" >94</td>\n",
       "      <td id=\"T_887b3_row1_col3\" class=\"data row1 col3\" >6</td>\n",
       "      <td id=\"T_887b3_row1_col4\" class=\"data row1 col4\" >Arizona O-Teas</td>\n",
       "      <td id=\"T_887b3_row1_col5\" class=\"data row1 col5\" >10</td>\n",
       "    </tr>\n",
       "    <tr>\n",
       "      <td id=\"T_887b3_row2_col0\" class=\"data row2 col0\" >2</td>\n",
       "      <td id=\"T_887b3_row2_col1\" class=\"data row2 col1\" >Awesome Anglers</td>\n",
       "      <td id=\"T_887b3_row2_col2\" class=\"data row2 col2\" >55</td>\n",
       "      <td id=\"T_887b3_row2_col3\" class=\"data row2 col3\" >45</td>\n",
       "      <td id=\"T_887b3_row2_col4\" class=\"data row2 col4\" >Ema Skies</td>\n",
       "      <td id=\"T_887b3_row2_col5\" class=\"data row2 col5\" >3</td>\n",
       "    </tr>\n",
       "    <tr>\n",
       "      <td id=\"T_887b3_row3_col0\" class=\"data row3 col0\" >9</td>\n",
       "      <td id=\"T_887b3_row3_col1\" class=\"data row3 col1\" >Welsh Whales</td>\n",
       "      <td id=\"T_887b3_row3_col2\" class=\"data row3 col2\" >24</td>\n",
       "      <td id=\"T_887b3_row3_col3\" class=\"data row3 col3\" >76</td>\n",
       "      <td id=\"T_887b3_row3_col4\" class=\"data row3 col4\" >Phiji Phrogs</td>\n",
       "      <td id=\"T_887b3_row3_col5\" class=\"data row3 col5\" >7</td>\n",
       "    </tr>\n",
       "    <tr>\n",
       "      <td id=\"T_887b3_row4_col0\" class=\"data row4 col0\" >6</td>\n",
       "      <td id=\"T_887b3_row4_col1\" class=\"data row4 col1\" >Troubling Trout</td>\n",
       "      <td id=\"T_887b3_row4_col2\" class=\"data row4 col2\" >50</td>\n",
       "      <td id=\"T_887b3_row4_col3\" class=\"data row4 col3\" >50</td>\n",
       "      <td id=\"T_887b3_row4_col4\" class=\"data row4 col4\" >Dorado Ducks</td>\n",
       "      <td id=\"T_887b3_row4_col5\" class=\"data row4 col5\" >5</td>\n",
       "    </tr>\n",
       "  </tbody>\n",
       "</table>\n"
      ],
      "text/plain": [
       "<pandas.io.formats.style.Styler at 0x207f9eb78e0>"
      ]
     },
     "execution_count": 16,
     "metadata": {},
     "output_type": "execute_result"
    }
   ],
   "source": [
    "# Next week match  preds table\n",
    "# Want table with columns for team 1 /2 : ELO, rank, likelihood of victory\n",
    "nweek_preds =  pd.DataFrame(columns= ['Rank', 'Team', '% Win', '% Win ', 'Team ', 'Rank ']);\n",
    "\n",
    "# List of teams  for next week in order of Team 1  vs Team 2, Team 3 vs Team 4, etc...\n",
    "nweek_teams = ['Pokhara Pusheens','Chicago Cats','Iceland Imps','Arizona O-Teas','Awesome Anglers','Ema Skies','Welsh Whales','Phiji Phrogs','Troubling Trout','Dorado Ducks']\n",
    "# get the ranks for each\n",
    "nweek_ranks  = []\n",
    "for team in nweek_teams:\n",
    "    nweek_ranks.append(GWL.teamsDict[team].currentRanking)\n",
    "# compute the likelihoods\n",
    "odds = []\n",
    "teamnum = 0\n",
    "for team  in nweek_teams:\n",
    "    if (teamnum % 2)  == 0: #if even\n",
    "        odds.append(int(round(100*GWL.expectResult(GWL.teamsDict[team].currentRating,GWL.teamsDict[nweek_teams[teamnum+1]].currentRating))))\n",
    "        teamnum += 1\n",
    "    else:\n",
    "        odds.append(int(round(100*GWL.expectResult(GWL.teamsDict[team].currentRating,GWL.teamsDict[nweek_teams[teamnum-1]].currentRating))))\n",
    "        teamnum += 1\n",
    "# fill in the dataframe with the appropriate info from the lists\n",
    "for mnum in range(int((len(nweek_teams)+1)/2)):\n",
    "    t1num = mnum*2\n",
    "    t2num = mnum*2+1\n",
    "    nweek_preds.loc[mnum,:] = [nweek_ranks[t1num],nweek_teams[t1num],odds[t1num],odds[t2num],nweek_teams[t2num],nweek_ranks[t2num]]\n",
    "#preds_styled = nweek_preds.style.background_gradient();\n",
    "preds_styled = nweek_preds.style.hide_index();\n",
    "dfi.export(preds_styled,\"nweek_preds_mapmodel.png\");  # uncomment to save table\n",
    "preds_styled"
   ]
  },
  {
   "cell_type": "code",
   "execution_count": 18,
   "id": "642e2b3d-068b-4b55-8157-9ff7eb4b10c6",
   "metadata": {},
   "outputs": [
    {
     "data": {
      "text/plain": [
       "0.5261004763717704"
      ]
     },
     "execution_count": 18,
     "metadata": {},
     "output_type": "execute_result"
    }
   ],
   "source": [
    "# Create Match predictions - Map score likelihoods table, when model is updated to map  score\n",
    "GWL.expectResult(GWL.teamsDict['Iceland Imps'].currentRating,GWL.teamsDict['Awesome Anglers'].currentRating)"
   ]
  },
  {
   "cell_type": "markdown",
   "id": "452a52fb-f84f-4ba7-8432-801c36a3b017",
   "metadata": {
    "tags": []
   },
   "source": [
    "##  To Do's: \n",
    "- make graphs look better (e.g. minor  offsets, line colors, etc)"
   ]
  }
 ],
 "metadata": {
  "kernelspec": {
   "display_name": "Python 3 (ipykernel)",
   "language": "python",
   "name": "python3"
  },
  "language_info": {
   "codemirror_mode": {
    "name": "ipython",
    "version": 3
   },
   "file_extension": ".py",
   "mimetype": "text/x-python",
   "name": "python",
   "nbconvert_exporter": "python",
   "pygments_lexer": "ipython3",
   "version": "3.9.12"
  }
 },
 "nbformat": 4,
 "nbformat_minor": 5
}
