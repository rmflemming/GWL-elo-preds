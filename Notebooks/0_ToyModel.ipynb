{
 "cells": [
  {
   "cell_type": "markdown",
   "id": "ca78e55b-e2d3-4d89-9b0a-c169682c3f1a",
   "metadata": {},
   "source": [
    "# Toy GWL ELO Model Notebook"
   ]
  },
  {
   "cell_type": "markdown",
   "id": "bc185d60-9f39-4b42-aa72-03610c579a53",
   "metadata": {
    "jp-MarkdownHeadingCollapsed": true,
    "tags": []
   },
   "source": [
    "## Pipeline Summary  \n",
    "The basic procedures contained within the notebook"
   ]
  },
  {
   "cell_type": "markdown",
   "id": "f32b94dd-c5a4-4651-b4d5-b13af68477a0",
   "metadata": {},
   "source": [
    "import spreadsheet -> preprocess matches (columns in toydata) ->  \n",
    "create elo class -> add players for teams-> init team dicts -> bymatch: expectation, gameOver, update dicts/rating ->  \n",
    "massage final results into output format -> save output -> websitey stuff"
   ]
  },
  {
   "cell_type": "markdown",
   "id": "2fc1645c-f94f-4e8c-9563-37bb2832cec6",
   "metadata": {
    "tags": []
   },
   "source": [
    "## Imports  \n",
    "All of the packages that will be used in this notebook"
   ]
  },
  {
   "cell_type": "code",
   "execution_count": 3,
   "id": "fe2fa06b",
   "metadata": {},
   "outputs": [],
   "source": [
    "#imports\n",
    "import openpyxl\n",
    "import pandas as pd\n",
    "import requests\n",
    "import json\n",
    "import dataframe_image as dfi\n",
    "import matplotlib.pyplot as plt\n",
    "from io import BytesIO\n",
    "from operator import itemgetter"
   ]
  },
  {
   "cell_type": "markdown",
   "id": "47686b7c-357b-4a41-8dfd-0e183df46c28",
   "metadata": {
    "jp-MarkdownHeadingCollapsed": true,
    "tags": []
   },
   "source": [
    "## Import Spreadsheet data as a Pandas DataFrame"
   ]
  },
  {
   "cell_type": "code",
   "execution_count": 2,
   "id": "d3843c36-cdf7-44ea-9b97-5ce63466e302",
   "metadata": {},
   "outputs": [],
   "source": [
    "# Read in toy data spreadsheet tabs as separate dataframes in a list, season_data\n",
    "spreadsheetId = \"1mH_HUNLF_hj2lekOxKMOKM7RiTko4HvjdJryC5M69bM\" # Please set your Spreadsheet ID.\n",
    "url = \"https://docs.google.com/spreadsheets/export?exportFormat=xlsx&id=\" + spreadsheetId\n",
    "res = requests.get(url)\n",
    "data = BytesIO(res.content)\n",
    "xlsx = openpyxl.load_workbook(filename=data)\n",
    "season_data = []\n",
    "for name in xlsx.sheetnames:\n",
    "    new_df = pd.read_excel(data, sheet_name=name)\n",
    "    new_df.name = name\n",
    "    season_data.append(new_df)\n",
    "\n",
    "# Need to remove some rows in the Match Records, filter via rows where matches are played\n",
    "matches = season_data[0]\n",
    "matches = matches[matches['Played?'] == True]\n",
    "season_data[0] = matches"
   ]
  },
  {
   "cell_type": "code",
   "execution_count": 4,
   "id": "1b8ba897-8793-44e6-a956-41711b57a099",
   "metadata": {},
   "outputs": [
    {
     "data": {
      "text/html": [
       "<div>\n",
       "<style scoped>\n",
       "    .dataframe tbody tr th:only-of-type {\n",
       "        vertical-align: middle;\n",
       "    }\n",
       "\n",
       "    .dataframe tbody tr th {\n",
       "        vertical-align: top;\n",
       "    }\n",
       "\n",
       "    .dataframe thead th {\n",
       "        text-align: right;\n",
       "    }\n",
       "</style>\n",
       "<table border=\"1\" class=\"dataframe\">\n",
       "  <thead>\n",
       "    <tr style=\"text-align: right;\">\n",
       "      <th></th>\n",
       "      <th>Team 1</th>\n",
       "      <th>Team 2</th>\n",
       "      <th>Week</th>\n",
       "      <th>Played?</th>\n",
       "      <th>Map 1</th>\n",
       "      <th>Winner</th>\n",
       "      <th>Map 2</th>\n",
       "      <th>Winner.1</th>\n",
       "      <th>Map 3</th>\n",
       "      <th>Winner.2</th>\n",
       "      <th>Map 4</th>\n",
       "      <th>Winner.3</th>\n",
       "      <th>Map 5</th>\n",
       "      <th>Winner.4</th>\n",
       "      <th>Match Winner</th>\n",
       "    </tr>\n",
       "  </thead>\n",
       "  <tbody>\n",
       "    <tr>\n",
       "      <th>0</th>\n",
       "      <td>A</td>\n",
       "      <td>B</td>\n",
       "      <td>1.0</td>\n",
       "      <td>True</td>\n",
       "      <td>Lijiang Tower</td>\n",
       "      <td>A</td>\n",
       "      <td>Dorado</td>\n",
       "      <td>A</td>\n",
       "      <td>King's Row</td>\n",
       "      <td>B</td>\n",
       "      <td>Hanamura</td>\n",
       "      <td>A</td>\n",
       "      <td>NaN</td>\n",
       "      <td>NaN</td>\n",
       "      <td>A</td>\n",
       "    </tr>\n",
       "    <tr>\n",
       "      <th>1</th>\n",
       "      <td>C</td>\n",
       "      <td>D</td>\n",
       "      <td>1.0</td>\n",
       "      <td>True</td>\n",
       "      <td>Lijiang Tower</td>\n",
       "      <td>D</td>\n",
       "      <td>Havana</td>\n",
       "      <td>D</td>\n",
       "      <td>Eichenwalde</td>\n",
       "      <td>C</td>\n",
       "      <td>Temple of Anubis</td>\n",
       "      <td>C</td>\n",
       "      <td>Busan</td>\n",
       "      <td>D</td>\n",
       "      <td>D</td>\n",
       "    </tr>\n",
       "    <tr>\n",
       "      <th>2</th>\n",
       "      <td>E</td>\n",
       "      <td>F</td>\n",
       "      <td>1.0</td>\n",
       "      <td>True</td>\n",
       "      <td>Lijiang Tower</td>\n",
       "      <td>E</td>\n",
       "      <td>Dorado</td>\n",
       "      <td>E</td>\n",
       "      <td>King's Row</td>\n",
       "      <td>E</td>\n",
       "      <td>NaN</td>\n",
       "      <td>NaN</td>\n",
       "      <td>NaN</td>\n",
       "      <td>NaN</td>\n",
       "      <td>E</td>\n",
       "    </tr>\n",
       "    <tr>\n",
       "      <th>3</th>\n",
       "      <td>G</td>\n",
       "      <td>H</td>\n",
       "      <td>1.0</td>\n",
       "      <td>True</td>\n",
       "      <td>Lijiang Tower</td>\n",
       "      <td>H</td>\n",
       "      <td>Havana</td>\n",
       "      <td>G</td>\n",
       "      <td>King's Row</td>\n",
       "      <td>H</td>\n",
       "      <td>Temple of Anubis</td>\n",
       "      <td>H</td>\n",
       "      <td>NaN</td>\n",
       "      <td>NaN</td>\n",
       "      <td>H</td>\n",
       "    </tr>\n",
       "    <tr>\n",
       "      <th>4</th>\n",
       "      <td>I</td>\n",
       "      <td>J</td>\n",
       "      <td>1.0</td>\n",
       "      <td>True</td>\n",
       "      <td>Lijiang Tower</td>\n",
       "      <td>I</td>\n",
       "      <td>Dorado</td>\n",
       "      <td>J</td>\n",
       "      <td>Eichenwalde</td>\n",
       "      <td>J</td>\n",
       "      <td>Hanamura</td>\n",
       "      <td>J</td>\n",
       "      <td>NaN</td>\n",
       "      <td>NaN</td>\n",
       "      <td>J</td>\n",
       "    </tr>\n",
       "  </tbody>\n",
       "</table>\n",
       "</div>"
      ],
      "text/plain": [
       "  Team 1 Team 2  Week  Played?          Map 1 Winner   Map 2 Winner.1  \\\n",
       "0      A      B   1.0     True  Lijiang Tower      A  Dorado        A   \n",
       "1      C      D   1.0     True  Lijiang Tower      D  Havana        D   \n",
       "2      E      F   1.0     True  Lijiang Tower      E  Dorado        E   \n",
       "3      G      H   1.0     True  Lijiang Tower      H  Havana        G   \n",
       "4      I      J   1.0     True  Lijiang Tower      I  Dorado        J   \n",
       "\n",
       "         Map 3 Winner.2             Map 4 Winner.3  Map 5 Winner.4  \\\n",
       "0   King's Row        B          Hanamura        A    NaN      NaN   \n",
       "1  Eichenwalde        C  Temple of Anubis        C  Busan        D   \n",
       "2   King's Row        E               NaN      NaN    NaN      NaN   \n",
       "3   King's Row        H  Temple of Anubis        H    NaN      NaN   \n",
       "4  Eichenwalde        J          Hanamura        J    NaN      NaN   \n",
       "\n",
       "  Match Winner  \n",
       "0            A  \n",
       "1            D  \n",
       "2            E  \n",
       "3            H  \n",
       "4            J  "
      ]
     },
     "execution_count": 4,
     "metadata": {},
     "output_type": "execute_result"
    }
   ],
   "source": [
    "matches.head()"
   ]
  },
  {
   "cell_type": "markdown",
   "id": "54c24a7b-b104-4e41-b805-2be9eecf0f84",
   "metadata": {
    "jp-MarkdownHeadingCollapsed": true,
    "tags": []
   },
   "source": [
    "## Define the simple Elo model classes and functions "
   ]
  },
  {
   "cell_type": "code",
   "execution_count": 5,
   "id": "3620605a",
   "metadata": {
    "tags": []
   },
   "outputs": [],
   "source": [
    "# Define ELO model\n",
    "K = 125 # ELO update scaler\n",
    "Rm = 3200 # default elo initialization\n",
    "delta = 500 # scaler on rel(p(win|A,B), A-B) in elo calc's exponential (Q)\n",
    "\n",
    "class Team:\n",
    "    def __init__(self, name, Rm=3200):\n",
    "        self.currentRating = Rm # Current estimate elo rating\n",
    "        self.opponentHist = [] # sequence of opponents (weekly)\n",
    "        self.ratingHist = [] # sequence of rating estimates (weekly)\n",
    "        self.currentRanking = 0 # the team's current ranking among all teams (1-10 in GWL); 0 ~ unranked\n",
    "        self.rankingHist = [] # sequence of team's standing (weekly)\n",
    "        \n",
    "class Elo:\n",
    "    def __init__(self,Rm = 3200, k=125, g=1, delta=500):\n",
    "        self.ratingDict = {} # dictionary of all teams and their current ratings; redundant/will be removed. currently accessed by power_rankings()\n",
    "        self.teamsDict = {} # dictionary of all team objects and their attributes. this will be used for the json output\n",
    "        self.k = k # k-factor for scaling max change in rating for a match\n",
    "        self.g = g # g-factor, another modifier to the rating change; will be converted to a margin of victory at a later point.\n",
    "        self.rankings = {} #  dictionary of the current power rankings; written-to by power_rankings()\n",
    "\n",
    "    def addPlayer(self,name, Rm = 3200):\n",
    "        self.ratingDict[name] = Rm # update code by deleting this and subsuming into teams dict\n",
    "        self.teamsDict[name] = Team(name, Rm)\n",
    "\n",
    "    def gameOver(self, winner, loser):\n",
    "        # take single game, chop up number of maps & winner of each\n",
    "        # combine all updates at once\n",
    "        #   expectation =  expected score | number of maps & team elos\n",
    "        #   diff = total map wins (+.5 for draws) - expectation\n",
    "        result = self.expectResult(self.ratingDict[winner], self.ratingDict[loser]) # compute the expected result\n",
    "        \n",
    "        # redundancy\n",
    "        self.ratingDict[winner] = self.ratingDict[winner] + (self.k*self.g)*(1 - result)  # update elo rating based on error\n",
    "        self.ratingDict[loser] \t= self.ratingDict[loser] + (self.k*self.g)*(0 - (1 -result))\n",
    "        \n",
    "        self.teamsDict[winner].currentRating =  self.ratingDict[winner] + (self.k*self.g)*(1 - result)\n",
    "        self.teamsDict[loser].currentRating = self.ratingDict[loser] + (self.k*self.g)*(0 - (1 -result))  \n",
    "        \n",
    "        # update the histories\n",
    "        self.teamsDict[winner].opponentHist.append(loser) # update winner's opponent\n",
    "        self.teamsDict[winner].ratingHist.append(self.teamsDict[winner].currentRating) # update winner's rating history\n",
    "        self.teamsDict[winner].rankingHist.append(self.teamsDict[winner].currentRanking) #  update winner's power ranking history\n",
    "        self.teamsDict[loser].opponentHist.append(winner)\n",
    "        self.teamsDict[loser].ratingHist.append(self.teamsDict[loser].currentRating)\n",
    "        self.teamsDict[loser].rankingHist.append(self.teamsDict[loser].currentRanking)\n",
    "                                                                            \n",
    "\n",
    "    def expectResult(self, p1, p2):\n",
    "        exp = (p2-p1)/delta\n",
    "        return 1/((10.0**(exp))+1)\n",
    "    \n",
    "    def update_rankings(self):\n",
    "        r = 1\n",
    "        rankings  = []\n",
    "        for ranking in self.power_rankings():\n",
    "            team = ranking[1][0]\n",
    "            self.teamsDict[team].currentRanking = r\n",
    "            rankings.append(r)\n",
    "            r += 1\n",
    "        return rankings\n",
    "\n",
    "    def power_rankings(self):\n",
    "        self.rankings = sorted(self.ratingDict.items(), key=itemgetter(1), reverse=True)\n",
    "        power = []\n",
    "        for i, x in enumerate(self.rankings):\n",
    "            power.append((i + 1, x))\n",
    "        return power"
   ]
  },
  {
   "cell_type": "markdown",
   "id": "ed4a77ff-c725-40c2-86e9-441b6308c965",
   "metadata": {
    "jp-MarkdownHeadingCollapsed": true,
    "tags": []
   },
   "source": [
    "## Model Implementation/ Testing"
   ]
  },
  {
   "cell_type": "markdown",
   "id": "81960ba3-cbc6-4958-859b-ec2697fab5e0",
   "metadata": {},
   "source": [
    "**MACRO TEST**\n"
   ]
  },
  {
   "cell_type": "code",
   "execution_count": 6,
   "id": "3a4b82ed-1d6a-439c-8430-0ce6211361bb",
   "metadata": {},
   "outputs": [],
   "source": [
    "# initialize the elo model\n",
    "GWL = Elo()\n",
    "\n",
    "# initialize teams\n",
    "teams = ['A','B','C','D','E','F','G','H','I','J']\n",
    "for team in teams:\n",
    "    GWL.addPlayer(team)\n",
    "\n",
    "week = 1\n",
    "for i, game in matches.iterrows():\n",
    "    # Identify winner and loser\n",
    "    winner = game['Match Winner']\n",
    "    if game['Team 1'] == winner:\n",
    "        loser = game['Team 2']\n",
    "    else:\n",
    "         loser = game['Team 1']\n",
    "    # update elo\n",
    "    GWL.gameOver(winner,loser)\n",
    "    if (game['Week'] > week) or (i == len(matches)-1): # update the power rankings at the end of a week\n",
    "        GWL.update_rankings()\n",
    "        week +=1\n",
    "#vars(GWL.teamsDict['A'])\n",
    "#GWL.update_rankings()\n",
    "#GWL.teamsDict['A'].rankingHist"
   ]
  },
  {
   "cell_type": "markdown",
   "id": "e836ff79-0d22-4c4a-802d-e9b11acd19d6",
   "metadata": {
    "jp-MarkdownHeadingCollapsed": true,
    "tags": []
   },
   "source": [
    "## Output and save model results"
   ]
  },
  {
   "cell_type": "code",
   "execution_count": 7,
   "id": "7d6391a0-861a-4cb2-92ea-11a9af457428",
   "metadata": {},
   "outputs": [
    {
     "data": {
      "text/plain": [
       "{'A': '{\"currentRating\": 3340.813330989171, \"opponentHist\": [\"B\", \"G\", \"D\", \"E\", \"C\"], \"ratingHist\": [3325.0, 3352.4837500492786, 3402.1698951821977, 3229.888665325035, 3340.813330989171], \"currentRanking\": 4, \"rankingHist\": [0, 0, 2, 2, 2]}',\n",
       " 'B': '{\"currentRating\": 3474.526922938871, \"opponentHist\": [\"A\", \"C\", \"H\", \"D\", \"E\"], \"ratingHist\": [3075.0, 3262.5, 3355.3219798424416, 3367.6447399704994, 3474.526922938871], \"currentRanking\": 1, \"rankingHist\": [0, 6, 6, 3, 2]}',\n",
       " 'C': '{\"currentRating\": 2934.381475848924, \"opponentHist\": [\"D\", \"B\", \"E\", \"I\", \"A\"], \"ratingHist\": [3075.0, 3012.5, 3014.936731661989, 2920.7016974167414, 2934.381475848924], \"currentRanking\": 10, \"rankingHist\": [0, 7, 10, 10, 10]}',\n",
       " 'D': '{\"currentRating\": 3219.548407452145, \"opponentHist\": [\"C\", \"E\", \"A\", \"B\", \"J\"], \"ratingHist\": [3325.0, 3137.5, 3105.3219798424416, 3062.677239871942, 3219.548407452145], \"currentRanking\": 7, \"rankingHist\": [0, 2, 6, 7, 8]}',\n",
       " 'E': '{\"currentRating\": 3265.6286860651862, \"opponentHist\": [\"F\", \"D\", \"C\", \"A\", \"B\"], \"ratingHist\": [3325.0, 3387.5, 3385.063268338011, 3479.9738539473888, 3265.6286860651862], \"currentRanking\": 3, \"rankingHist\": [0, 3, 1, 1, 1]}',\n",
       " 'F': '{\"currentRating\": 3426.116603401726, \"opponentHist\": [\"E\", \"J\", \"I\", \"G\", \"H\"], \"ratingHist\": [3075.0, 3297.5162499507214, 3307.4918750246393, 3360.6604031416555, 3426.116603401726], \"currentRanking\": 2, \"rankingHist\": [0, 8, 5, 4, 4]}',\n",
       " 'G': '{\"currentRating\": 2991.092212771507, \"opponentHist\": [\"H\", \"A\", \"J\", \"F\", \"I\"], \"ratingHist\": [3075.0, 3047.5162499507214, 3243.0431663695094, 3069.6152425307796, 2991.092212771507], \"currentRanking\": 8, \"rankingHist\": [0, 0, 8, 6, 6]}',\n",
       " 'H': '{\"currentRating\": 3160.604263987165, \"opponentHist\": [\"G\", \"I\", \"B\", \"J\", \"F\"], \"ratingHist\": [3325.0, 3352.4837500492786, 3152.1698951821977, 3320.4504465327077, 3160.604263987165], \"currentRanking\": 5, \"rankingHist\": [0, 4, 4, 5, 5]}',\n",
       " 'I': '{\"currentRating\": 3237.2528154879483, \"opponentHist\": [\"J\", \"H\", \"F\", \"C\", \"G\"], \"ratingHist\": [3075.0, 3047.5162499507214, 3002.524374926082, 3171.7829183649746, 3237.2528154879483], \"currentRanking\": 6, \"rankingHist\": [0, 9, 9, 9, 7]}',\n",
       " 'J': '{\"currentRating\": 2950.0352810573568, \"opponentHist\": [\"I\", \"F\", \"G\", \"H\", \"D\"], \"ratingHist\": [3325.0, 3102.4837500492786, 3031.9568336304906, 3016.6047928982757, 2950.0352810573568], \"currentRanking\": 9, \"rankingHist\": [0, 5, 7, 8, 9]}'}"
      ]
     },
     "execution_count": 7,
     "metadata": {},
     "output_type": "execute_result"
    }
   ],
   "source": [
    "# NEXT STEP: MASSAGE OUTPUT INTO FORMAT WE WANT (json)\n",
    "TeamsJSON = {}\n",
    "for team in GWL.teamsDict:\n",
    "    teamJSON = json.dumps(GWL.teamsDict[team].__dict__)\n",
    "    TeamsJSON[team] = teamJSON\n",
    "TeamsJSON"
   ]
  },
  {
   "cell_type": "code",
   "execution_count": 8,
   "id": "f63b43be-4686-41ac-b42e-efbe56846e60",
   "metadata": {},
   "outputs": [
    {
     "data": {
      "text/plain": [
       "{'currentRating': 3340.813330989171,\n",
       " 'opponentHist': ['B', 'G', 'D', 'E', 'C'],\n",
       " 'ratingHist': [3325.0,\n",
       "  3352.4837500492786,\n",
       "  3402.1698951821977,\n",
       "  3229.888665325035,\n",
       "  3340.813330989171],\n",
       " 'currentRanking': 4,\n",
       " 'rankingHist': [0, 0, 2, 2, 2]}"
      ]
     },
     "execution_count": 8,
     "metadata": {},
     "output_type": "execute_result"
    }
   ],
   "source": [
    "# To  Access the nested dicitonary requires the use of json.loads() and the team name (key) to be loaded\n",
    "json.loads(TeamsJSON['A'])"
   ]
  },
  {
   "cell_type": "code",
   "execution_count": 9,
   "id": "a08e3501-4bdf-4d93-93f4-7d81b8e1f8ed",
   "metadata": {},
   "outputs": [],
   "source": [
    "# write out a json file.\n",
    "with open('toy_output.json', 'w') as outfile:\n",
    "    json.dump(TeamsJSON,outfile)   "
   ]
  },
  {
   "cell_type": "code",
   "execution_count": 10,
   "id": "0486b9a0-9dcf-4c60-a768-7b51f6389d87",
   "metadata": {},
   "outputs": [
    {
     "name": "stdout",
     "output_type": "stream",
     "text": [
      "{'A': '{\"currentRating\": 3340.813330989171, \"opponentHist\": [\"B\", \"G\", \"D\", \"E\", \"C\"], \"ratingHist\": [3325.0, 3352.4837500492786, 3402.1698951821977, 3229.888665325035, 3340.813330989171], \"currentRanking\": 4, \"rankingHist\": [0, 0, 2, 2, 2]}', 'B': '{\"currentRating\": 3474.526922938871, \"opponentHist\": [\"A\", \"C\", \"H\", \"D\", \"E\"], \"ratingHist\": [3075.0, 3262.5, 3355.3219798424416, 3367.6447399704994, 3474.526922938871], \"currentRanking\": 1, \"rankingHist\": [0, 6, 6, 3, 2]}', 'C': '{\"currentRating\": 2934.381475848924, \"opponentHist\": [\"D\", \"B\", \"E\", \"I\", \"A\"], \"ratingHist\": [3075.0, 3012.5, 3014.936731661989, 2920.7016974167414, 2934.381475848924], \"currentRanking\": 10, \"rankingHist\": [0, 7, 10, 10, 10]}', 'D': '{\"currentRating\": 3219.548407452145, \"opponentHist\": [\"C\", \"E\", \"A\", \"B\", \"J\"], \"ratingHist\": [3325.0, 3137.5, 3105.3219798424416, 3062.677239871942, 3219.548407452145], \"currentRanking\": 7, \"rankingHist\": [0, 2, 6, 7, 8]}', 'E': '{\"currentRating\": 3265.6286860651862, \"opponentHist\": [\"F\", \"D\", \"C\", \"A\", \"B\"], \"ratingHist\": [3325.0, 3387.5, 3385.063268338011, 3479.9738539473888, 3265.6286860651862], \"currentRanking\": 3, \"rankingHist\": [0, 3, 1, 1, 1]}', 'F': '{\"currentRating\": 3426.116603401726, \"opponentHist\": [\"E\", \"J\", \"I\", \"G\", \"H\"], \"ratingHist\": [3075.0, 3297.5162499507214, 3307.4918750246393, 3360.6604031416555, 3426.116603401726], \"currentRanking\": 2, \"rankingHist\": [0, 8, 5, 4, 4]}', 'G': '{\"currentRating\": 2991.092212771507, \"opponentHist\": [\"H\", \"A\", \"J\", \"F\", \"I\"], \"ratingHist\": [3075.0, 3047.5162499507214, 3243.0431663695094, 3069.6152425307796, 2991.092212771507], \"currentRanking\": 8, \"rankingHist\": [0, 0, 8, 6, 6]}', 'H': '{\"currentRating\": 3160.604263987165, \"opponentHist\": [\"G\", \"I\", \"B\", \"J\", \"F\"], \"ratingHist\": [3325.0, 3352.4837500492786, 3152.1698951821977, 3320.4504465327077, 3160.604263987165], \"currentRanking\": 5, \"rankingHist\": [0, 4, 4, 5, 5]}', 'I': '{\"currentRating\": 3237.2528154879483, \"opponentHist\": [\"J\", \"H\", \"F\", \"C\", \"G\"], \"ratingHist\": [3075.0, 3047.5162499507214, 3002.524374926082, 3171.7829183649746, 3237.2528154879483], \"currentRanking\": 6, \"rankingHist\": [0, 9, 9, 9, 7]}', 'J': '{\"currentRating\": 2950.0352810573568, \"opponentHist\": [\"I\", \"F\", \"G\", \"H\", \"D\"], \"ratingHist\": [3325.0, 3102.4837500492786, 3031.9568336304906, 3016.6047928982757, 2950.0352810573568], \"currentRanking\": 9, \"rankingHist\": [0, 5, 7, 8, 9]}'}\n"
     ]
    }
   ],
   "source": [
    "# A quick check to see that the output is correct:\n",
    "with open('toy_output.json') as json_file:\n",
    "    data = json.load(json_file)\n",
    "    print(data)"
   ]
  },
  {
   "cell_type": "markdown",
   "id": "3a02a41d-872d-4f60-8e0f-68898ff8bf17",
   "metadata": {},
   "source": [
    "### This output looks good for a json file!"
   ]
  },
  {
   "cell_type": "markdown",
   "id": "0c8b1c7b-5521-4df9-90ab-592e5f5a7f41",
   "metadata": {
    "jp-MarkdownHeadingCollapsed": true,
    "tags": []
   },
   "source": [
    "## Visualization"
   ]
  },
  {
   "cell_type": "code",
   "execution_count": 11,
   "id": "41fe0618-4a99-412b-ba0c-cd3bde754ede",
   "metadata": {},
   "outputs": [
    {
     "data": {
      "image/png": "[encoded data removed]",
      "text/plain": [
       "<Figure size 432x288 with 1 Axes>"
      ]
     },
     "metadata": {
      "needs_background": "light"
     },
     "output_type": "display_data"
    }
   ],
   "source": [
    "# Figure for Elo rating history\n",
    "n_weeks =  len(GWL.teamsDict['A'].ratingHist)\n",
    "title = 'GWL Power Rankings: Week {}'.format(n_weeks)\n",
    "xlab = 'Week'\n",
    "ylab = 'ELO rating'\n",
    "\n",
    "for team in GWL.teamsDict:\n",
    "    fig = plt.plot(GWL.teamsDict[team].ratingHist, label=team[0]); # need line colors\n",
    "#to include: figure sizes\n",
    "plt.title(title);\n",
    "plt.xlabel(xlab);\n",
    "plt.ylabel(ylab);\n",
    "plt.xticks(list(range(5)),list(range(1,n_weeks+1)));\n",
    "plt.legend(loc='right',bbox_to_anchor = (1.2,0.5));\n",
    "#plt.savefig('elo_histories.png'); # uncomment to save figure"
   ]
  },
  {
   "cell_type": "code",
   "execution_count": 14,
   "id": "7e1fb765-364e-4487-9418-359bfa9911e6",
   "metadata": {},
   "outputs": [
    {
     "name": "stderr",
     "output_type": "stream",
     "text": [
      "C:\\Users\\Rory\\anaconda3\\lib\\site-packages\\dataframe_image\\_pandas_accessor.py:69: FutureWarning: this method is deprecated in favour of `Styler.to_html()`\n",
      "  html = '<div>' + obj.render() + '</div>'\n"
     ]
    },
    {
     "data": {
      "text/html": [
       "<style type=\"text/css\">\n",
       "</style>\n",
       "<table id=\"T_05f07\">\n",
       "  <thead>\n",
       "    <tr>\n",
       "      <th class=\"blank level0\" >&nbsp;</th>\n",
       "      <th id=\"T_05f07_level0_col0\" class=\"col_heading level0 col0\" > </th>\n",
       "      <th id=\"T_05f07_level0_col1\" class=\"col_heading level0 col1\" >Team</th>\n",
       "      <th id=\"T_05f07_level0_col2\" class=\"col_heading level0 col2\" >ELO rating</th>\n",
       "      <th id=\"T_05f07_level0_col3\" class=\"col_heading level0 col3\" >dELO</th>\n",
       "    </tr>\n",
       "    <tr>\n",
       "      <th class=\"index_name level0\" >Rank</th>\n",
       "      <th class=\"blank col0\" >&nbsp;</th>\n",
       "      <th class=\"blank col1\" >&nbsp;</th>\n",
       "      <th class=\"blank col2\" >&nbsp;</th>\n",
       "      <th class=\"blank col3\" >&nbsp;</th>\n",
       "    </tr>\n",
       "  </thead>\n",
       "  <tbody>\n",
       "    <tr>\n",
       "      <th id=\"T_05f07_level0_row0\" class=\"row_heading level0 row0\" >1</th>\n",
       "      <td id=\"T_05f07_row0_col0\" class=\"data row0 col0\" >+2</td>\n",
       "      <td id=\"T_05f07_row0_col1\" class=\"data row0 col1\" >B</td>\n",
       "      <td id=\"T_05f07_row0_col2\" class=\"data row0 col2\" >3475</td>\n",
       "      <td id=\"T_05f07_row0_col3\" class=\"data row0 col3\" >+107</td>\n",
       "    </tr>\n",
       "    <tr>\n",
       "      <th id=\"T_05f07_level0_row1\" class=\"row_heading level0 row1\" >2</th>\n",
       "      <td id=\"T_05f07_row1_col0\" class=\"data row1 col0\" >+2</td>\n",
       "      <td id=\"T_05f07_row1_col1\" class=\"data row1 col1\" >F</td>\n",
       "      <td id=\"T_05f07_row1_col2\" class=\"data row1 col2\" >3426</td>\n",
       "      <td id=\"T_05f07_row1_col3\" class=\"data row1 col3\" >+65</td>\n",
       "    </tr>\n",
       "    <tr>\n",
       "      <th id=\"T_05f07_level0_row2\" class=\"row_heading level0 row2\" >3</th>\n",
       "      <td id=\"T_05f07_row2_col0\" class=\"data row2 col0\" >-2</td>\n",
       "      <td id=\"T_05f07_row2_col1\" class=\"data row2 col1\" >E</td>\n",
       "      <td id=\"T_05f07_row2_col2\" class=\"data row2 col2\" >3266</td>\n",
       "      <td id=\"T_05f07_row2_col3\" class=\"data row2 col3\" >-214</td>\n",
       "    </tr>\n",
       "    <tr>\n",
       "      <th id=\"T_05f07_level0_row3\" class=\"row_heading level0 row3\" >4</th>\n",
       "      <td id=\"T_05f07_row3_col0\" class=\"data row3 col0\" >-2</td>\n",
       "      <td id=\"T_05f07_row3_col1\" class=\"data row3 col1\" >A</td>\n",
       "      <td id=\"T_05f07_row3_col2\" class=\"data row3 col2\" >3341</td>\n",
       "      <td id=\"T_05f07_row3_col3\" class=\"data row3 col3\" >+111</td>\n",
       "    </tr>\n",
       "    <tr>\n",
       "      <th id=\"T_05f07_level0_row4\" class=\"row_heading level0 row4\" >5</th>\n",
       "      <td id=\"T_05f07_row4_col0\" class=\"data row4 col0\" > </td>\n",
       "      <td id=\"T_05f07_row4_col1\" class=\"data row4 col1\" >H</td>\n",
       "      <td id=\"T_05f07_row4_col2\" class=\"data row4 col2\" >3161</td>\n",
       "      <td id=\"T_05f07_row4_col3\" class=\"data row4 col3\" >-160</td>\n",
       "    </tr>\n",
       "    <tr>\n",
       "      <th id=\"T_05f07_level0_row5\" class=\"row_heading level0 row5\" >6</th>\n",
       "      <td id=\"T_05f07_row5_col0\" class=\"data row5 col0\" >+3</td>\n",
       "      <td id=\"T_05f07_row5_col1\" class=\"data row5 col1\" >I</td>\n",
       "      <td id=\"T_05f07_row5_col2\" class=\"data row5 col2\" >3237</td>\n",
       "      <td id=\"T_05f07_row5_col3\" class=\"data row5 col3\" >+65</td>\n",
       "    </tr>\n",
       "    <tr>\n",
       "      <th id=\"T_05f07_level0_row6\" class=\"row_heading level0 row6\" >7</th>\n",
       "      <td id=\"T_05f07_row6_col0\" class=\"data row6 col0\" > </td>\n",
       "      <td id=\"T_05f07_row6_col1\" class=\"data row6 col1\" >D</td>\n",
       "      <td id=\"T_05f07_row6_col2\" class=\"data row6 col2\" >3220</td>\n",
       "      <td id=\"T_05f07_row6_col3\" class=\"data row6 col3\" >+157</td>\n",
       "    </tr>\n",
       "    <tr>\n",
       "      <th id=\"T_05f07_level0_row7\" class=\"row_heading level0 row7\" >8</th>\n",
       "      <td id=\"T_05f07_row7_col0\" class=\"data row7 col0\" >-2</td>\n",
       "      <td id=\"T_05f07_row7_col1\" class=\"data row7 col1\" >G</td>\n",
       "      <td id=\"T_05f07_row7_col2\" class=\"data row7 col2\" >2991</td>\n",
       "      <td id=\"T_05f07_row7_col3\" class=\"data row7 col3\" >-79</td>\n",
       "    </tr>\n",
       "    <tr>\n",
       "      <th id=\"T_05f07_level0_row8\" class=\"row_heading level0 row8\" >9</th>\n",
       "      <td id=\"T_05f07_row8_col0\" class=\"data row8 col0\" >-1</td>\n",
       "      <td id=\"T_05f07_row8_col1\" class=\"data row8 col1\" >J</td>\n",
       "      <td id=\"T_05f07_row8_col2\" class=\"data row8 col2\" >2950</td>\n",
       "      <td id=\"T_05f07_row8_col3\" class=\"data row8 col3\" >-67</td>\n",
       "    </tr>\n",
       "    <tr>\n",
       "      <th id=\"T_05f07_level0_row9\" class=\"row_heading level0 row9\" >10</th>\n",
       "      <td id=\"T_05f07_row9_col0\" class=\"data row9 col0\" > </td>\n",
       "      <td id=\"T_05f07_row9_col1\" class=\"data row9 col1\" >C</td>\n",
       "      <td id=\"T_05f07_row9_col2\" class=\"data row9 col2\" >2934</td>\n",
       "      <td id=\"T_05f07_row9_col3\" class=\"data row9 col3\" >+14</td>\n",
       "    </tr>\n",
       "  </tbody>\n",
       "</table>\n"
      ],
      "text/plain": [
       "<pandas.io.formats.style.Styler at 0x1a957230a90>"
      ]
     },
     "execution_count": 14,
     "metadata": {},
     "output_type": "execute_result"
    }
   ],
   "source": [
    "# Table for power rankings\n",
    "\n",
    "#  First, to create a dataframe which will contain the data for the table\n",
    "# initialize dataframe for 10 slots and labels 1-10, column names\n",
    "power_table = pd.DataFrame(index = pd.RangeIndex(1,11,name='Rank'), columns = [' ','Team', 'ELO rating', 'dELO'])\n",
    "\n",
    "# iterate over each team and fill in their row of the dataframe\n",
    "for team in GWL.teamsDict:\n",
    "    r = GWL.teamsDict[team].currentRanking # team's ranking\n",
    "    rr  = power_table.loc[r] # row for team's ranking\n",
    "    \n",
    "    # calculate ranking change\n",
    "    dr =  GWL.teamsDict[team].rankingHist[-2] - GWL.teamsDict[team].currentRanking\n",
    "    \n",
    "    # calculate rating change\n",
    "    dELO = round(GWL.teamsDict[team].currentRating - GWL.teamsDict[team].ratingHist[-2])\n",
    "    \n",
    "    # update power_table with team's values\n",
    "    # ranking change\n",
    "    if dr > 0:\n",
    "        rr[0] = '+{}'.format(dr)\n",
    "    elif dr == 0:\n",
    "        rr[0] = ' '\n",
    "    else:\n",
    "        rr[0] = dr\n",
    "    # team name\n",
    "    rr[1] = team\n",
    "    # ELO rating\n",
    "    rr[2] = round(GWL.teamsDict[team].currentRating)\n",
    "    # ELO change\n",
    "    if  dELO  >0:\n",
    "        rr[3] = '+{}'.format(dELO)\n",
    "    elif dELO  == 0:\n",
    "        rr[3] = '   '\n",
    "    else:\n",
    "        rr[3] = dELO\n",
    "df_styled = power_table.style.background_gradient(); # may want to do more  styling/sizing here and in next line\n",
    "#dfi.export(df_styled,\"power_rankings.png\");  # uncomment to save table\n",
    "df_styled"
   ]
  },
  {
   "cell_type": "code",
   "execution_count": 15,
   "id": "99e1ec3d-eb80-4f80-aa50-cbb94eb6469d",
   "metadata": {},
   "outputs": [],
   "source": [
    "# A quick  chunk of code just to check that rankings/ratings are ok\n",
    "# for team in GWL.teamsDict:\n",
    "#     r = GWL.teamsDict[team].currentRanking # team's ranking\n",
    "#     rr  = power_table.loc[r] # row for team's ranking\n",
    "    \n",
    "#     # calculate ranking change\n",
    "#     dr =  GWL.teamsDict[team].rankingHist[-2] - GWL.teamsDict[team].currentRanking\n",
    "    \n",
    "#     # calculate rating change\n",
    "#     dELO = round(GWL.teamsDict[team].currentRating - GWL.teamsDict[team].ratingHist[-2])\n",
    "    \n",
    "#     prior_rating = GWL.teamsDict[team].ratingHist[-2]\n",
    "#     prior_rank = GWL.teamsDict[team].rankingHist[-2]\n",
    "#     print('current rank: {}, '.format(r) +'prior rank: {} \\n'.format(prior_rank) + 'change: {} '.format(dr) + 'len games: {}'.format(len(GWL.teamsDict[team].rankingHist)))"
   ]
  },
  {
   "cell_type": "code",
   "execution_count": null,
   "id": "6f72ba30-1c4b-4ba6-8cc8-b8cf559fa3e7",
   "metadata": {},
   "outputs": [],
   "source": [
    "# Next week match  preds table"
   ]
  },
  {
   "cell_type": "code",
   "execution_count": 1,
   "id": "642e2b3d-068b-4b55-8157-9ff7eb4b10c6",
   "metadata": {},
   "outputs": [],
   "source": [
    "# Create Match predictions - Map score likelihoods table, when model is updated to map  score\n"
   ]
  },
  {
   "cell_type": "markdown",
   "id": "452a52fb-f84f-4ba7-8432-801c36a3b017",
   "metadata": {
    "jp-MarkdownHeadingCollapsed": true,
    "tags": []
   },
   "source": [
    "##  To Do's:  \n",
    "- match pred this week"
   ]
  }
 ],
 "metadata": {
  "kernelspec": {
   "display_name": "Python 3 (ipykernel)",
   "language": "python",
   "name": "python3"
  },
  "language_info": {
   "codemirror_mode": {
    "name": "ipython",
    "version": 3
   },
   "file_extension": ".py",
   "mimetype": "text/x-python",
   "name": "python",
   "nbconvert_exporter": "python",
   "pygments_lexer": "ipython3",
   "version": "3.9.12"
  }
 },
 "nbformat": 4,
 "nbformat_minor": 5
}
