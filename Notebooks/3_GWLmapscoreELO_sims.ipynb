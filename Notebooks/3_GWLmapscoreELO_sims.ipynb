{
 "cells": [
  {
   "cell_type": "markdown",
   "id": "ca78e55b-e2d3-4d89-9b0a-c169682c3f1a",
   "metadata": {},
   "source": [
    "# GWL - Map Score ELO Model Notebook"
   ]
  },
  {
   "cell_type": "markdown",
   "id": "bc185d60-9f39-4b42-aa72-03610c579a53",
   "metadata": {
    "tags": []
   },
   "source": [
    "## Pipeline Summary  \n",
    "The basic procedures contained within the notebook"
   ]
  },
  {
   "cell_type": "markdown",
   "id": "f32b94dd-c5a4-4651-b4d5-b13af68477a0",
   "metadata": {},
   "source": [
    "import spreadsheet -> preprocess matches (columns in toydata) ->  \n",
    "create elo class -> add players for teams-> init team dicts -> bymatch: expectation, gameOver, update dicts/rating ->  \n",
    "massage final results into output format -> save output -> websitey stuff"
   ]
  },
  {
   "cell_type": "markdown",
   "id": "2fc1645c-f94f-4e8c-9563-37bb2832cec6",
   "metadata": {
    "tags": []
   },
   "source": [
    "## Imports  \n",
    "All of the packages that will be used in this notebook"
   ]
  },
  {
   "cell_type": "code",
   "execution_count": 5,
   "id": "fe2fa06b",
   "metadata": {},
   "outputs": [],
   "source": [
    "#imports\n",
    "import openpyxl\n",
    "import pandas as pd\n",
    "import requests\n",
    "import json\n",
    "import math\n",
    "import random\n",
    "import dataframe_image as dfi\n",
    "import matplotlib.pyplot as plt\n",
    "from io import BytesIO\n",
    "from operator import itemgetter\n",
    "pd.set_option(\"display.precision\", 0)"
   ]
  },
  {
   "cell_type": "markdown",
   "id": "47686b7c-357b-4a41-8dfd-0e183df46c28",
   "metadata": {
    "tags": []
   },
   "source": [
    "## Import Spreadsheet data as a Pandas DataFrame"
   ]
  },
  {
   "cell_type": "code",
   "execution_count": 2,
   "id": "d3843c36-cdf7-44ea-9b97-5ce63466e302",
   "metadata": {},
   "outputs": [],
   "source": [
    "# Read in toy data spreadsheet tabs as separate dataframes in a list, season_data\n",
    "spreadsheetId = \"1pYdi5HpVSsOUekqMLw8em5YsfqLW9u_2sMY6kh5Clv8\" # Please set your Spreadsheet ID for the current GWL week ######################################################\n",
    "url = \"https://docs.google.com/spreadsheets/export?exportFormat=xlsx&id=\" + spreadsheetId\n",
    "res = requests.get(url)\n",
    "data = BytesIO(res.content)\n",
    "xlsx = openpyxl.load_workbook(filename=data)\n",
    "season_data = []\n",
    "for name in xlsx.sheetnames:\n",
    "    new_df = pd.read_excel(data, sheet_name=name)\n",
    "    new_df.name = name\n",
    "    season_data.append(new_df)\n",
    "\n",
    "# Need to remove some rows in the Match Records, filter via rows where matches are played\n",
    "matches = season_data[0]\n",
    "matches = matches[matches['Played?'] == True]\n",
    "season_data[0] = matches"
   ]
  },
  {
   "cell_type": "markdown",
   "id": "54c24a7b-b104-4e41-b805-2be9eecf0f84",
   "metadata": {
    "tags": []
   },
   "source": [
    "## Define the simple Elo model classes and functions "
   ]
  },
  {
   "cell_type": "code",
   "execution_count": 77,
   "id": "3620605a",
   "metadata": {
    "tags": []
   },
   "outputs": [],
   "source": [
    "# Define ELO model\n",
    "k = 24 # ELO update scaler\n",
    "Rm = 3200 # default elo initialization\n",
    "delta = 500 # scaler on rel(p(win|A,B), A-B) in elo calc's exponential (Q)\n",
    "\n",
    "class Team:\n",
    "    def __init__(self, name, Rm=3200):\n",
    "        self.currentRating = Rm # Current estimate elo rating\n",
    "        self.opponentHist = [] # sequence of opponents (weekly)\n",
    "        self.ratingHist = [] # sequence of rating estimates (weekly)\n",
    "        self.currentRanking = 11 # the team's current ranking among all teams (1-10 in GWL); 11 ~ unranked\n",
    "        self.rankingHist = [] # sequence of team's standing (weekly)\n",
    "        \n",
    "class Elo:\n",
    "    def __init__(self,Rm = 3200, k=24, g=1, delta=500):\n",
    "        self.ratingDict = {} # dictionary of all teams and their current ratings; redundant/will be removed. currently accessed by power_rankings()\n",
    "        self.teamsDict = {} # dictionary of all team objects and their attributes. this will be used for the json output\n",
    "        self.k = k # k-factor for scaling max change in rating for a match\n",
    "        self.g = g # g-factor, another modifier to the rating change; will be converted to a margin of victory at a later point.\n",
    "        self.rankings = {} #  dictionary of the current power rankings; written-to by power_rankings()\n",
    "\n",
    "    def addPlayer(self,name, Rm = 3200):\n",
    "        self.ratingDict[name] = Rm # update code by deleting this and subsuming into teams dict\n",
    "        self.teamsDict[name] = Team(name, Rm)\n",
    "\n",
    "    def gameOver(self, winner, loser):\n",
    "        # take single game, chop up number of maps & winner of each\n",
    "        # combine all updates at once\n",
    "        #   expectation =  expected score | number of maps & team elos\n",
    "        #   diff = total map wins (+.5 for draws) - expectation\n",
    "        result = self.expectResult(self.ratingDict[winner], self.ratingDict[loser]) # compute the expected result\n",
    "        \n",
    "        # redundancy\n",
    "        self.ratingDict[winner] = self.ratingDict[winner] + (self.k*self.g)*(1 - result)  # update elo rating based on error\n",
    "        self.ratingDict[loser] \t= self.ratingDict[loser] + (self.k*self.g)*(0 - (1 -result))\n",
    "        \n",
    "        self.teamsDict[winner].currentRating =  self.teamsDict[winner].currentRating + (self.k*self.g)*(1 - result)\n",
    "        self.teamsDict[loser].currentRating = self.teamsDict[loser].currentRating + (self.k*self.g)*(0 - (1 -result))  \n",
    "        \n",
    "        # update the histories\n",
    "        self.teamsDict[winner].opponentHist.append(loser) # update winner's opponent\n",
    "        self.teamsDict[winner].ratingHist.append(self.teamsDict[winner].currentRating) # update winner's rating history\n",
    "        #self.teamsDict[winner].rankingHist.append(self.teamsDict[winner].currentRanking) #  update winner's power ranking history\n",
    "        self.teamsDict[loser].opponentHist.append(winner)\n",
    "        self.teamsDict[loser].ratingHist.append(self.teamsDict[loser].currentRating)\n",
    "        #self.teamsDict[loser].rankingHist.append(self.teamsDict[loser].currentRanking)\n",
    "\n",
    "    def seriesOver(self, game):\n",
    "        # take a full series and compute the updated estiamtes after the sequence of maps\n",
    "        # each map will be treated like a single binary outcome with winner (score = 1), and  loser (score = 0)\n",
    "        map_counter = 0\n",
    "        t1_score = 0\n",
    "        t2_score = 0\n",
    "        t1_name = game['Team 1']\n",
    "        t2_name = game['Team 2']\n",
    "        for possible_map in range(7):\n",
    "            if possible_map == 0: # Winner, Winner.2\n",
    "                winner_col = 'Winner'\n",
    "            else:\n",
    "                winner_col =  'Winner.{}'.format(possible_map) # name of column with winner name for the map\n",
    "            try:\n",
    "                if (not math.isnan(game[winner_col])) and (game[winner_col] != 'nan') and (game[winner_col] != 'NaN'): # If the map is played, continue\n",
    "                    winner = game[winner_col] # winner's name\n",
    "                    if t1_name == winner:  # if team 1 is the winner\n",
    "                        t1_score += 1 # add  1 to winner's map score\n",
    "                    elif t2_name == winner:\n",
    "                        t2_score +=  1\n",
    "                    elif winner == 'Draw': # draw, may need to edit for error if draw presents differently\n",
    "                        t1_score += .5\n",
    "                        t2_score += .5\n",
    "                    map_counter += 1\n",
    "            except:\n",
    "                if (game[winner_col] != 'nan') and (game[winner_col] != 'NaN'): # If the map is played, continue\n",
    "                    winner = game[winner_col] # winner's name\n",
    "                    if t1_name == winner:  # if team 1 is the winner\n",
    "                        t1_score += 1 # add  1 to winner's map score\n",
    "                    elif t2_name == winner:\n",
    "                        t2_score +=  1\n",
    "                    elif winner == 'Draw': # draw, may need to edit for error if draw presents differently\n",
    "                        t1_score += .5\n",
    "                        t2_score += .5\n",
    "                    map_counter += 1\n",
    "            \n",
    "        result = self.expectResult(self.ratingDict[t1_name], self.ratingDict[t2_name]) # compute the expected result that t1 is the winner\n",
    "                \n",
    "        # redundancy in how ratings are stored due to differing uses for powerranking/other. can be fixed at a later date for parsimony\n",
    "        \n",
    "        \n",
    "        # actual score will be the number of maps taken. this is maybe a faulty assumption, but is the simplest case for now... Implementation of map diffs may be more appropriate\n",
    "        self.ratingDict[t1_name] = self.ratingDict[t1_name] + (self.k*self.g)*(t1_score - result*map_counter)  # update elo rating based on error (map score - pwin_map * nmaps\n",
    "        self.ratingDict[t2_name] = self.ratingDict[t2_name] + (self.k*self.g)*(t2_score - (1 -result)*map_counter)\n",
    "\n",
    "        self.teamsDict[t1_name].currentRating =  self.teamsDict[t1_name].currentRating + (self.k*self.g)*(t1_score - result*map_counter)\n",
    "        self.teamsDict[t2_name].currentRating = self.teamsDict[t2_name].currentRating + (self.k*self.g)*(t2_score - (1 -result)*map_counter)  \n",
    "\n",
    "        # update the histories\n",
    "        self.teamsDict[t1_name].opponentHist.append(t2_name) # update winner's opponent\n",
    "        self.teamsDict[t1_name].ratingHist.append(self.teamsDict[t1_name].currentRating) # update winner's rating history\n",
    "        #self.teamsDict[winner].rankingHist.append(self.teamsDict[winner].currentRanking) #  update winner's power ranking history\n",
    "        self.teamsDict[t2_name].opponentHist.append(t1_name)\n",
    "        self.teamsDict[t2_name].ratingHist.append(self.teamsDict[t2_name].currentRating)\n",
    "        #self.teamsDict[loser].rankingHist.append(self.teamsDict[loser].currentRanking)                                                                            \n",
    "\n",
    "    def expectResult(self, p1, p2):\n",
    "        exp = (p2-p1)/delta\n",
    "        return 1/((10.0**(exp))+1)\n",
    "    \n",
    "    def update_rankings(self):\n",
    "        r = 1\n",
    "        rankings  = []\n",
    "        for ranking in self.power_rankings():\n",
    "            team = ranking[1][0]\n",
    "            self.teamsDict[team].currentRanking = r  #  update  the current ranking\n",
    "            self.teamsDict[team].rankingHist.append(self.teamsDict[team].currentRanking) # update the ranking history with the new ranking\n",
    "            rankings.append(r)\n",
    "            r += 1\n",
    "        return rankings\n",
    "\n",
    "    def power_rankings(self):\n",
    "        self.rankings = sorted(self.ratingDict.items(), key=itemgetter(1), reverse=True)\n",
    "        power = []\n",
    "        for i, x in enumerate(self.rankings):\n",
    "            power.append((i + 1, x))\n",
    "        return power\n",
    "    \n",
    "    def sim_mapscores(self, team1name, team2name, nsims=1000, outfile = None):\n",
    "        # initialize storage\n",
    "        outcomes = ['3-0','3-1','3-2','2-3','1-3','0-3'] # we will not simulate draws since that requires scores within the map to simulate, so the elo's WILL miss out on some information.\n",
    "        outcomesDict = {}\n",
    "        for outcome in outcomes:\n",
    "            outcomesDict[outcome] = 0  # initialize dict to keep track of the result of each simulation\n",
    "        \n",
    "        # while loop for simulations\n",
    "        i = 1\n",
    "        while i < nsims:\n",
    "            #  simulate a series\n",
    "            t1score, t2score = self.sim_series(self.teamsDict[team1name].currentRating, self.teamsDict[team2name].currentRating)\n",
    "            scorestr = '{}-{}'.format(t1score,t2score)\n",
    "            outcomesDict[scorestr] += 1\n",
    "            i += 1    \n",
    "        #update outcomes to be likelihoods instead of raw counts\n",
    "        for key in outcomesDict:\n",
    "            outcomesDict[key] = round(outcomesDict[key]/nsims,2)\n",
    "        # create graph of outcomes\n",
    "        fig, ax = plt.subplots();\n",
    "        names = list(outcomesDict.keys())\n",
    "        values = list(outcomesDict.values())\n",
    "        bars = ax.barh(names,values);\n",
    "        ax.set_xlabel('Probability of Outcome');\n",
    "        ax.set_title('{} vs. {} Map Score Predictions'.format(team1name,team2name));\n",
    "        ax.bar_label(bars);\n",
    "        plt.show();\n",
    "        if outfile == 'default':\n",
    "            plt.savefig('{}_{}_mappreds.png'.format(team1name[:3],team2name[:3]));\n",
    "        elif outfile.type() == str:\n",
    "            plt.savefig(outfile);\n",
    "        outcomesDict['team1'] = team1name # store which team is which for later decoding if dict is exported for use\n",
    "        outcomesDict['team2'] = team2name\n",
    "        return outcomesDict\n",
    "                    \n",
    "    def sim_result(self,elo1,elo2):\n",
    "        rv = random.random() # random variable [0,1)\n",
    "        p1win = self.expectResult(elo1,elo2)\n",
    "        if rv <= p1win:\n",
    "            return 1\n",
    "        else:\n",
    "            return 0\n",
    "    def sim_series(self,elo1,elo2):\n",
    "        t1score = 0\n",
    "        t2score = 0\n",
    "        while (t1score < 3) and (t2score < 3):\n",
    "            if self.sim_result(elo1,elo2):\n",
    "                t1score += 1\n",
    "                elo1 = elo1 + (self.k*self.g)*(1 - self.expectResult(elo1,elo2)) # updating elos after each map for  the simulation\n",
    "                elo2 = elo2 + (self.k*self.g)*(0 - self.expectResult(elo1,elo2))\n",
    "            else:\n",
    "                t2score += 1\n",
    "                elo1 = elo1 + (self.k*self.g)*(0 - self.expectResult(elo1,elo2))\n",
    "                elo2 = elo2 + (self.k*self.g)*(1 - self.expectResult(elo1,elo2))\n",
    "        return t1score, t2score"
   ]
  },
  {
   "cell_type": "markdown",
   "id": "ed4a77ff-c725-40c2-86e9-441b6308c965",
   "metadata": {
    "tags": []
   },
   "source": [
    "## Model Implementation/ Testing"
   ]
  },
  {
   "cell_type": "code",
   "execution_count": 78,
   "id": "3a4b82ed-1d6a-439c-8430-0ce6211361bb",
   "metadata": {},
   "outputs": [],
   "source": [
    "# initialize the elo model\n",
    "GWL = Elo(Rm = 3200, k=100, g=1, delta=1000)\n",
    "\n",
    "# initialize teams\n",
    "teams = ['Iceland Imps', 'Ema Skies', 'Arizona O-Teas', 'Troubling Trout', 'Dorado Ducks','Awesome Anglers','Phiji Phrogs','Pokhara Pusheens','Chicago Cats','Welsh Whales']\n",
    "for team in teams:\n",
    "    GWL.addPlayer(team)\n",
    "\n",
    "week = 1\n",
    "for i, game in matches.iterrows():\n",
    "    GWL.seriesOver(game) # update ELO's from the series\n",
    "    if (game['Round #'] > week) or (i == len(matches)-1): # update the power rankings at the end of a week\n",
    "        GWL.update_rankings()\n",
    "        week +=1\n",
    "#vars(GWL.teamsDict['A'])\n",
    "#GWL.update_rankings()\n",
    "#GWL.teamsDict['A'].rankingHist"
   ]
  },
  {
   "cell_type": "code",
   "execution_count": 79,
   "id": "f95f0907-3fdd-430f-8449-7a810c112fe8",
   "metadata": {},
   "outputs": [
    {
     "data": {
      "image/png": "[encoded data removed]",
      "text/plain": [
       "<Figure size 432x288 with 1 Axes>"
      ]
     },
     "metadata": {
      "needs_background": "light"
     },
     "output_type": "display_data"
    },
    {
     "data": {
      "text/plain": [
       "<Figure size 432x288 with 0 Axes>"
      ]
     },
     "metadata": {},
     "output_type": "display_data"
    }
   ],
   "source": [
    "# Feel free to put in any two teams to test likelihoods! (Just change t1/t2 to the teams you want)\n",
    "t1= 'Iceland Imps'\n",
    "t2 = 'Awesome Anglers'\n",
    "results = GWL.sim_mapscores(t1,t2,nsims = 10000, outfile= 'default')"
   ]
  },
  {
   "cell_type": "markdown",
   "id": "e836ff79-0d22-4c4a-802d-e9b11acd19d6",
   "metadata": {
    "tags": []
   },
   "source": [
    "## Output and save model results"
   ]
  },
  {
   "cell_type": "markdown",
   "id": "0c8b1c7b-5521-4df9-90ab-592e5f5a7f41",
   "metadata": {
    "tags": []
   },
   "source": [
    "## Visualization"
   ]
  },
  {
   "cell_type": "code",
   "execution_count": 142,
   "id": "6f72ba30-1c4b-4ba6-8cc8-b8cf559fa3e7",
   "metadata": {},
   "outputs": [
    {
     "name": "stderr",
     "output_type": "stream",
     "text": [
      "C:\\Users\\Rory\\AppData\\Local\\Temp\\ipykernel_11568\\3294299372.py:27: FutureWarning: this method is deprecated in favour of `Styler.hide(axis='index')`\n",
      "  preds_styled = nweek_preds.style.hide_index();\n",
      "C:\\Users\\Rory\\anaconda3\\lib\\site-packages\\dataframe_image\\_pandas_accessor.py:69: FutureWarning: this method is deprecated in favour of `Styler.to_html()`\n",
      "  html = '<div>' + obj.render() + '</div>'\n"
     ]
    },
    {
     "data": {
      "text/html": [
       "<style type=\"text/css\">\n",
       "</style>\n",
       "<table id=\"T_4a8ef\">\n",
       "  <thead>\n",
       "    <tr>\n",
       "      <th id=\"T_4a8ef_level0_col0\" class=\"col_heading level0 col0\" >Rank</th>\n",
       "      <th id=\"T_4a8ef_level0_col1\" class=\"col_heading level0 col1\" >Team</th>\n",
       "      <th id=\"T_4a8ef_level0_col2\" class=\"col_heading level0 col2\" >% Win</th>\n",
       "      <th id=\"T_4a8ef_level0_col3\" class=\"col_heading level0 col3\" >% Win </th>\n",
       "      <th id=\"T_4a8ef_level0_col4\" class=\"col_heading level0 col4\" >Team </th>\n",
       "      <th id=\"T_4a8ef_level0_col5\" class=\"col_heading level0 col5\" >Rank </th>\n",
       "    </tr>\n",
       "  </thead>\n",
       "  <tbody>\n",
       "    <tr>\n",
       "      <td id=\"T_4a8ef_row0_col0\" class=\"data row0 col0\" >5</td>\n",
       "      <td id=\"T_4a8ef_row0_col1\" class=\"data row0 col1\" >Awesome Anglers</td>\n",
       "      <td id=\"T_4a8ef_row0_col2\" class=\"data row0 col2\" >44</td>\n",
       "      <td id=\"T_4a8ef_row0_col3\" class=\"data row0 col3\" >56</td>\n",
       "      <td id=\"T_4a8ef_row0_col4\" class=\"data row0 col4\" >Pokhara Pusheens</td>\n",
       "      <td id=\"T_4a8ef_row0_col5\" class=\"data row0 col5\" >4</td>\n",
       "    </tr>\n",
       "    <tr>\n",
       "      <td id=\"T_4a8ef_row1_col0\" class=\"data row1 col0\" >1</td>\n",
       "      <td id=\"T_4a8ef_row1_col1\" class=\"data row1 col1\" >Iceland Imps</td>\n",
       "      <td id=\"T_4a8ef_row1_col2\" class=\"data row1 col2\" >90</td>\n",
       "      <td id=\"T_4a8ef_row1_col3\" class=\"data row1 col3\" >10</td>\n",
       "      <td id=\"T_4a8ef_row1_col4\" class=\"data row1 col4\" >Chicago Cats</td>\n",
       "      <td id=\"T_4a8ef_row1_col5\" class=\"data row1 col5\" >10</td>\n",
       "    </tr>\n",
       "    <tr>\n",
       "      <td id=\"T_4a8ef_row2_col0\" class=\"data row2 col0\" >9</td>\n",
       "      <td id=\"T_4a8ef_row2_col1\" class=\"data row2 col1\" >Arizona O-Teas</td>\n",
       "      <td id=\"T_4a8ef_row2_col2\" class=\"data row2 col2\" >17</td>\n",
       "      <td id=\"T_4a8ef_row2_col3\" class=\"data row2 col3\" >83</td>\n",
       "      <td id=\"T_4a8ef_row2_col4\" class=\"data row2 col4\" >Dorado Ducks</td>\n",
       "      <td id=\"T_4a8ef_row2_col5\" class=\"data row2 col5\" >3</td>\n",
       "    </tr>\n",
       "    <tr>\n",
       "      <td id=\"T_4a8ef_row3_col0\" class=\"data row3 col0\" >2</td>\n",
       "      <td id=\"T_4a8ef_row3_col1\" class=\"data row3 col1\" >Ema Skies</td>\n",
       "      <td id=\"T_4a8ef_row3_col2\" class=\"data row3 col2\" >80</td>\n",
       "      <td id=\"T_4a8ef_row3_col3\" class=\"data row3 col3\" >20</td>\n",
       "      <td id=\"T_4a8ef_row3_col4\" class=\"data row3 col4\" >Welsh Whales</td>\n",
       "      <td id=\"T_4a8ef_row3_col5\" class=\"data row3 col5\" >7</td>\n",
       "    </tr>\n",
       "    <tr>\n",
       "      <td id=\"T_4a8ef_row4_col0\" class=\"data row4 col0\" >8</td>\n",
       "      <td id=\"T_4a8ef_row4_col1\" class=\"data row4 col1\" >Troubling Trout</td>\n",
       "      <td id=\"T_4a8ef_row4_col2\" class=\"data row4 col2\" >38</td>\n",
       "      <td id=\"T_4a8ef_row4_col3\" class=\"data row4 col3\" >62</td>\n",
       "      <td id=\"T_4a8ef_row4_col4\" class=\"data row4 col4\" >Phiji Phrogs</td>\n",
       "      <td id=\"T_4a8ef_row4_col5\" class=\"data row4 col5\" >6</td>\n",
       "    </tr>\n",
       "  </tbody>\n",
       "</table>\n"
      ],
      "text/plain": [
       "<pandas.io.formats.style.Styler at 0x249f4ca7190>"
      ]
     },
     "execution_count": 142,
     "metadata": {},
     "output_type": "execute_result"
    }
   ],
   "source": [
    "# Next week match  preds table\n",
    "# Want table with columns for team 1 /2 : ELO, rank, likelihood of victory\n",
    "nweek_preds =  pd.DataFrame(columns= ['Rank', 'Team', '% Win', '% Win ', 'Team ', 'Rank ']);\n",
    "\n",
    "# List of teams  for next week in order of Team 1  vs Team 2, Team 3 vs Team 4, etc...\n",
    "nweek_teams = ['Awesome Anglers','Pokhara Pusheens','Iceland Imps','Chicago Cats','Arizona O-Teas','Dorado Ducks','Ema Skies','Welsh Whales','Troubling Trout','Phiji Phrogs']\n",
    "# get the ranks for each\n",
    "nweek_ranks  = []\n",
    "for team in nweek_teams:\n",
    "    nweek_ranks.append(GWL.teamsDict[team].currentRanking)\n",
    "# compute the likelihoods\n",
    "odds = []\n",
    "teamnum = 0\n",
    "for team  in nweek_teams:\n",
    "    if (teamnum % 2)  == 0: #if even\n",
    "        odds.append(int(round(100*GWL.expectResult(GWL.teamsDict[team].currentRating,GWL.teamsDict[nweek_teams[teamnum+1]].currentRating))))\n",
    "        teamnum += 1\n",
    "    else:\n",
    "        odds.append(int(round(100*GWL.expectResult(GWL.teamsDict[team].currentRating,GWL.teamsDict[nweek_teams[teamnum-1]].currentRating))))\n",
    "        teamnum += 1\n",
    "# fill in the dataframe with the appropriate info from the lists\n",
    "for mnum in range(int((len(nweek_teams)+1)/2)):\n",
    "    t1num = mnum*2\n",
    "    t2num = mnum*2+1\n",
    "    nweek_preds.loc[mnum,:] = [nweek_ranks[t1num],nweek_teams[t1num],odds[t1num],odds[t2num],nweek_teams[t2num],nweek_ranks[t2num]]\n",
    "#preds_styled = nweek_preds.style.background_gradient();\n",
    "preds_styled = nweek_preds.style.hide_index();\n",
    "dfi.export(preds_styled,\"nweek_preds_mapmodel.png\");  # uncomment to save table\n",
    "preds_styled"
   ]
  },
  {
   "cell_type": "code",
   "execution_count": 81,
   "id": "3d024edb-44d6-45a6-98b1-a76356d31e13",
   "metadata": {},
   "outputs": [
    {
     "data": {
      "image/png": "[encoded data removed]",
      "text/plain": [
       "<Figure size 432x288 with 1 Axes>"
      ]
     },
     "metadata": {
      "needs_background": "light"
     },
     "output_type": "display_data"
    },
    {
     "data": {
      "text/plain": [
       "<Figure size 432x288 with 0 Axes>"
      ]
     },
     "metadata": {},
     "output_type": "display_data"
    },
    {
     "data": {
      "image/png": "[encoded data removed]",
      "text/plain": [
       "<Figure size 432x288 with 1 Axes>"
      ]
     },
     "metadata": {
      "needs_background": "light"
     },
     "output_type": "display_data"
    },
    {
     "data": {
      "text/plain": [
       "<Figure size 432x288 with 0 Axes>"
      ]
     },
     "metadata": {},
     "output_type": "display_data"
    },
    {
     "data": {
      "image/png": "[encoded data removed]",
      "text/plain": [
       "<Figure size 432x288 with 1 Axes>"
      ]
     },
     "metadata": {
      "needs_background": "light"
     },
     "output_type": "display_data"
    },
    {
     "data": {
      "text/plain": [
       "<Figure size 432x288 with 0 Axes>"
      ]
     },
     "metadata": {},
     "output_type": "display_data"
    },
    {
     "data": {
      "image/png": "[encoded data removed]",
      "text/plain": [
       "<Figure size 432x288 with 1 Axes>"
      ]
     },
     "metadata": {
      "needs_background": "light"
     },
     "output_type": "display_data"
    },
    {
     "data": {
      "text/plain": [
       "<Figure size 432x288 with 0 Axes>"
      ]
     },
     "metadata": {},
     "output_type": "display_data"
    },
    {
     "data": {
      "image/png": "[encoded data removed]",
      "text/plain": [
       "<Figure size 432x288 with 1 Axes>"
      ]
     },
     "metadata": {
      "needs_background": "light"
     },
     "output_type": "display_data"
    },
    {
     "data": {
      "text/plain": [
       "<Figure size 432x288 with 0 Axes>"
      ]
     },
     "metadata": {},
     "output_type": "display_data"
    }
   ],
   "source": [
    "# Next week likelihoods\n",
    "nweek_teams = ['Awesome Anglers','Pokhara Pusheens','Iceland Imps','Chicago Cats','Arizona O-Teas','Dorado Ducks','Ema Skies','Welsh Whales','Troubling Trout','Phiji Phrogs']\n",
    "n_matches = 5\n",
    "for m in range(n_matches):\n",
    "    t1 = nweek_teams[m*2]\n",
    "    t2 = nweek_teams[2*m+1]\n",
    "    GWL.sim_mapscores(t1,t2,nsims = 10000, outfile= 'default')"
   ]
  },
  {
   "cell_type": "markdown",
   "id": "452a52fb-f84f-4ba7-8432-801c36a3b017",
   "metadata": {
    "tags": []
   },
   "source": [
    "##  To Do's: \n",
    "- make graphs look better (e.g. minor  offsets, line colors, etc)"
   ]
  }
 ],
 "metadata": {
  "kernelspec": {
   "display_name": "Python 3 (ipykernel)",
   "language": "python",
   "name": "python3"
  },
  "language_info": {
   "codemirror_mode": {
    "name": "ipython",
    "version": 3
   },
   "file_extension": ".py",
   "mimetype": "text/x-python",
   "name": "python",
   "nbconvert_exporter": "python",
   "pygments_lexer": "ipython3",
   "version": "3.9.12"
  }
 },
 "nbformat": 4,
 "nbformat_minor": 5
}
