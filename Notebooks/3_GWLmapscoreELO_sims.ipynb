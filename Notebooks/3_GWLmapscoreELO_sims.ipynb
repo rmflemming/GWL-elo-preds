{
 "cells": [
  {
   "cell_type": "markdown",
   "id": "ca78e55b-e2d3-4d89-9b0a-c169682c3f1a",
   "metadata": {},
   "source": [
    "# GWL - Map Score ELO Model Notebook"
   ]
  },
  {
   "cell_type": "markdown",
   "id": "bc185d60-9f39-4b42-aa72-03610c579a53",
   "metadata": {
    "tags": []
   },
   "source": [
    "## Pipeline Summary  \n",
    "The basic procedures contained within the notebook"
   ]
  },
  {
   "cell_type": "markdown",
   "id": "f32b94dd-c5a4-4651-b4d5-b13af68477a0",
   "metadata": {},
   "source": [
    "import spreadsheet -> preprocess matches (columns in toydata) ->  \n",
    "create elo class -> add players for teams-> init team dicts -> bymatch: expectation, gameOver, update dicts/rating ->  \n",
    "massage final results into output format -> save output -> websitey stuff"
   ]
  },
  {
   "cell_type": "markdown",
   "id": "2fc1645c-f94f-4e8c-9563-37bb2832cec6",
   "metadata": {
    "tags": []
   },
   "source": [
    "## Imports  \n",
    "All of the packages that will be used in this notebook"
   ]
  },
  {
   "cell_type": "code",
   "execution_count": 1,
   "id": "fe2fa06b",
   "metadata": {},
   "outputs": [],
   "source": [
    "#imports\n",
    "import openpyxl\n",
    "import pandas as pd\n",
    "import requests\n",
    "import json\n",
    "import math\n",
    "import random\n",
    "import dataframe_image as dfi\n",
    "import matplotlib.pyplot as plt\n",
    "from io import BytesIO\n",
    "from operator import itemgetter\n",
    "pd.set_option(\"display.precision\", 0)\n",
    "import plotly.express as px\n",
    "import plotly.graph_objects as go"
   ]
  },
  {
   "cell_type": "markdown",
   "id": "47686b7c-357b-4a41-8dfd-0e183df46c28",
   "metadata": {
    "tags": []
   },
   "source": [
    "## Import Spreadsheet data as a Pandas DataFrame"
   ]
  },
  {
   "cell_type": "code",
   "execution_count": 2,
   "id": "d3843c36-cdf7-44ea-9b97-5ce63466e302",
   "metadata": {},
   "outputs": [],
   "source": [
    "# Read in toy data spreadsheet tabs as separate dataframes in a list, season_data\n",
    "spreadsheetId = \"1pYdi5HpVSsOUekqMLw8em5YsfqLW9u_2sMY6kh5Clv8\" # Please set your Spreadsheet ID for the current GWL week ######################################################\n",
    "url = \"https://docs.google.com/spreadsheets/export?exportFormat=xlsx&id=\" + spreadsheetId\n",
    "res = requests.get(url)\n",
    "data = BytesIO(res.content)\n",
    "xlsx = openpyxl.load_workbook(filename=data)\n",
    "season_data = []\n",
    "for name in xlsx.sheetnames:\n",
    "    new_df = pd.read_excel(data, sheet_name=name)\n",
    "    new_df.name = name\n",
    "    season_data.append(new_df)\n",
    "\n",
    "# Need to remove some rows in the Match Records, filter via rows where matches are played\n",
    "matches = season_data[0]\n",
    "matches = matches[matches['Played?'] == True]\n",
    "season_data[0] = matches"
   ]
  },
  {
   "cell_type": "markdown",
   "id": "54c24a7b-b104-4e41-b805-2be9eecf0f84",
   "metadata": {
    "tags": []
   },
   "source": [
    "## Define the simple Elo model classes and functions "
   ]
  },
  {
   "cell_type": "code",
   "execution_count": 3,
   "id": "3620605a",
   "metadata": {
    "tags": []
   },
   "outputs": [],
   "source": [
    "# Define ELO model\n",
    "k = 24 # ELO update scaler\n",
    "Rm = 3200 # default elo initialization\n",
    "delta = 500 # scaler on rel(p(win|A,B), A-B) in elo calc's exponential (Q)\n",
    "\n",
    "class Team:\n",
    "    def __init__(self, name, Rm=3200):\n",
    "        self.currentRating = Rm # Current estimate elo rating\n",
    "        self.opponentHist = [] # sequence of opponents (weekly)\n",
    "        self.ratingHist = [] # sequence of rating estimates (weekly)\n",
    "        self.currentRanking = 11 # the team's current ranking among all teams (1-10 in GWL); 11 ~ unranked\n",
    "        self.rankingHist = [] # sequence of team's standing (weekly)\n",
    "\n",
    "class Elo:\n",
    "    def __init__(self,Rm = 3200, k=24, g=1, delta=500):\n",
    "        self.ratingDict = {} # dictionary of all teams and their current ratings; redundant/will be removed. currently accessed by power_rankings()\n",
    "        self.teamsDict = {} # dictionary of all team objects and their attributes. this will be used for the json output\n",
    "        self.k = k # k-factor for scaling max change in rating for a match\n",
    "        self.g = g # g-factor, another modifier to the rating change; will be converted to a margin of victory at a later point.\n",
    "        self.rankings = {} #  dictionary of the current power rankings; written-to by power_rankings()\n",
    "\n",
    "    def addPlayer(self,name, Rm = 3200):\n",
    "        self.ratingDict[name] = Rm # update code by deleting this and subsuming into teams dict\n",
    "        self.teamsDict[name] = Team(name, Rm)\n",
    "\n",
    "    def gameOver(self, winner, loser):\n",
    "        # take single game, chop up number of maps & winner of each\n",
    "        # combine all updates at once\n",
    "        #   expectation =  expected score | number of maps & team elos\n",
    "        #   diff = total map wins (+.5 for draws) - expectation\n",
    "        result = self.expectResult(self.ratingDict[winner], self.ratingDict[loser]) # compute the expected result\n",
    "        \n",
    "        # redundancy\n",
    "        self.ratingDict[winner] = self.ratingDict[winner] + (self.k*self.g)*(1 - result)  # update elo rating based on error\n",
    "        self.ratingDict[loser] \t= self.ratingDict[loser] + (self.k*self.g)*(0 - (1 -result))\n",
    "        \n",
    "        self.teamsDict[winner].currentRating =  self.teamsDict[winner].currentRating + (self.k*self.g)*(1 - result)\n",
    "        self.teamsDict[loser].currentRating = self.teamsDict[loser].currentRating + (self.k*self.g)*(0 - (1 -result))  \n",
    "        \n",
    "        # update the histories\n",
    "        self.teamsDict[winner].opponentHist.append(loser) # update winner's opponent\n",
    "        self.teamsDict[winner].ratingHist.append(self.teamsDict[winner].currentRating) # update winner's rating history\n",
    "        #self.teamsDict[winner].rankingHist.append(self.teamsDict[winner].currentRanking) #  update winner's power ranking history\n",
    "        self.teamsDict[loser].opponentHist.append(winner)\n",
    "        self.teamsDict[loser].ratingHist.append(self.teamsDict[loser].currentRating)\n",
    "        #self.teamsDict[loser].rankingHist.append(self.teamsDict[loser].currentRanking)\n",
    "\n",
    "    def seriesOver(self, game):\n",
    "        # take a full series and compute the updated estiamtes after the sequence of maps\n",
    "        # each map will be treated like a single binary outcome with winner (score = 1), and  loser (score = 0)\n",
    "        map_counter = 0\n",
    "        t1_score = 0\n",
    "        t2_score = 0\n",
    "        t1_name = game['Team 1']\n",
    "        t2_name = game['Team 2']\n",
    "        for possible_map in range(7):\n",
    "            if possible_map == 0: # Winner, Winner.2\n",
    "                winner_col = 'Winner'\n",
    "            else:\n",
    "                winner_col =  'Winner.{}'.format(possible_map) # name of column with winner name for the map\n",
    "            try:\n",
    "                if (not math.isnan(game[winner_col])) and (game[winner_col] != 'nan') and (game[winner_col] != 'NaN'): # If the map is played, continue\n",
    "                    winner = game[winner_col] # winner's name\n",
    "                    if t1_name == winner:  # if team 1 is the winner\n",
    "                        t1_score += 1 # add  1 to winner's map score\n",
    "                    elif t2_name == winner:\n",
    "                        t2_score +=  1\n",
    "                    elif winner == 'Draw': # draw, may need to edit for error if draw presents differently\n",
    "                        t1_score += .5\n",
    "                        t2_score += .5\n",
    "                    map_counter += 1\n",
    "            except:\n",
    "                if (game[winner_col] != 'nan') and (game[winner_col] != 'NaN'): # If the map is played, continue\n",
    "                    winner = game[winner_col] # winner's name\n",
    "                    if t1_name == winner:  # if team 1 is the winner\n",
    "                        t1_score += 1 # add  1 to winner's map score\n",
    "                    elif t2_name == winner:\n",
    "                        t2_score +=  1\n",
    "                    elif winner == 'Draw': # draw, may need to edit for error if draw presents differently\n",
    "                        t1_score += .5\n",
    "                        t2_score += .5\n",
    "                    map_counter += 1\n",
    "            \n",
    "        result = self.expectResult(self.ratingDict[t1_name], self.ratingDict[t2_name]) # compute the expected result that t1 is the winner\n",
    "                \n",
    "        # redundancy in how ratings are stored due to differing uses for powerranking/other. can be fixed at a later date for parsimony\n",
    "        \n",
    "        \n",
    "        # actual score will be the number of maps taken. this is maybe a faulty assumption, but is the simplest case for now... Implementation of map diffs may be more appropriate\n",
    "        self.ratingDict[t1_name] = self.ratingDict[t1_name] + (self.k*self.g)*(t1_score - result*map_counter)  # update elo rating based on error (map score - pwin_map * nmaps\n",
    "        self.ratingDict[t2_name] = self.ratingDict[t2_name] + (self.k*self.g)*(t2_score - (1 -result)*map_counter)\n",
    "\n",
    "        self.teamsDict[t1_name].currentRating =  self.teamsDict[t1_name].currentRating + (self.k*self.g)*(t1_score - result*map_counter)\n",
    "        self.teamsDict[t2_name].currentRating = self.teamsDict[t2_name].currentRating + (self.k*self.g)*(t2_score - (1 -result)*map_counter)  \n",
    "\n",
    "        # update the histories\n",
    "        self.teamsDict[t1_name].opponentHist.append(t2_name) # update winner's opponent\n",
    "        self.teamsDict[t1_name].ratingHist.append(self.teamsDict[t1_name].currentRating) # update winner's rating history\n",
    "        #self.teamsDict[winner].rankingHist.append(self.teamsDict[winner].currentRanking) #  update winner's power ranking history\n",
    "        self.teamsDict[t2_name].opponentHist.append(t1_name)\n",
    "        self.teamsDict[t2_name].ratingHist.append(self.teamsDict[t2_name].currentRating)\n",
    "        #self.teamsDict[loser].rankingHist.append(self.teamsDict[loser].currentRanking)                                                                            \n",
    "\n",
    "    def expectResult(self, p1, p2):\n",
    "        exp = (p2-p1)/delta\n",
    "        return 1/((10.0**(exp))+1)\n",
    "    \n",
    "    def update_rankings(self):\n",
    "        r = 1\n",
    "        rankings  = []\n",
    "        for ranking in self.power_rankings():\n",
    "            team = ranking[1][0]\n",
    "            self.teamsDict[team].currentRanking = r  #  update  the current ranking\n",
    "            self.teamsDict[team].rankingHist.append(self.teamsDict[team].currentRanking) # update the ranking history with the new ranking\n",
    "            rankings.append(r)\n",
    "            r += 1\n",
    "        return rankings\n",
    "\n",
    "    def power_rankings(self):\n",
    "        self.rankings = sorted(self.ratingDict.items(), key=itemgetter(1), reverse=True)\n",
    "        power = []\n",
    "        for i, x in enumerate(self.rankings):\n",
    "            power.append((i + 1, x))\n",
    "        return power\n",
    "    \n",
    "    def sim_mapscores(self, team1name, team2name, nsims=1000, outfile = None):\n",
    "        # initialize storage\n",
    "        outcomes = ['3-0','3-1','3-2','2-3','1-3','0-3'] # we will not simulate draws since that requires scores within the map to simulate, so the elo's WILL miss out on some information.\n",
    "        outcomesDict = {}\n",
    "        for outcome in outcomes:\n",
    "            outcomesDict[outcome] = 0  # initialize dict to keep track of the result of each simulation\n",
    "        \n",
    "        # while loop for simulations\n",
    "        i = 1\n",
    "        while i < nsims:\n",
    "            #  simulate a series\n",
    "            t1score, t2score = self.sim_series(self.teamsDict[team1name].currentRating, self.teamsDict[team2name].currentRating)\n",
    "            scorestr = '{}-{}'.format(t1score,t2score)\n",
    "            outcomesDict[scorestr] += 1\n",
    "            i += 1    \n",
    "        #update outcomes to be likelihoods instead of raw counts\n",
    "        for key in outcomesDict:\n",
    "            outcomesDict[key] = round(outcomesDict[key]/nsims,2)\n",
    "        # create graph of outcomes\n",
    "        fig, ax = plt.subplots();\n",
    "        names = list(outcomesDict.keys())\n",
    "        values = list(outcomesDict.values())\n",
    "        bars = ax.barh(names,values);\n",
    "        ax.set_xlabel('Probability of Outcome');\n",
    "        ax.set_title('{} vs. {} Map Score Predictions'.format(team1name,team2name));\n",
    "        ax.bar_label(bars);\n",
    "        plt.show();\n",
    "        if outfile == 'default':\n",
    "            plt.savefig('{}_{}_mappreds.png'.format(team1name[:3],team2name[:3]));\n",
    "        elif type(outfile) == str:\n",
    "            plt.savefig(outfile);\n",
    "        outcomesDict['team1'] = team1name # store which team is which for later decoding if dict is exported for use\n",
    "        outcomesDict['team2'] = team2name\n",
    "        return outcomesDict\n",
    "                    \n",
    "    def sim_result(self,elo1,elo2):\n",
    "        rv = random.random() # random variable [0,1)\n",
    "        p1win = self.expectResult(elo1,elo2)\n",
    "        if rv <= p1win:\n",
    "            return 1\n",
    "        else:\n",
    "            return 0\n",
    "    def sim_series(self,elo1,elo2):\n",
    "        t1score = 0\n",
    "        t2score = 0\n",
    "        while (t1score < 3) and (t2score < 3):\n",
    "            if self.sim_result(elo1,elo2):\n",
    "                t1score += 1\n",
    "                elo1 = elo1 + (self.k/4*self.g)*(1 - self.expectResult(elo1,elo2)) # updating elos after each map for  the simulation\n",
    "                elo2 = elo2 + (self.k/4*self.g)*(0 - self.expectResult(elo1,elo2))\n",
    "            else:\n",
    "                t2score += 1\n",
    "                elo1 = elo1 + (self.k/4*self.g)*(0 - self.expectResult(elo1,elo2))\n",
    "                elo2 = elo2 + (self.k/4*self.g)*(1 - self.expectResult(elo1,elo2))\n",
    "        return t1score, t2score"
   ]
  },
  {
   "cell_type": "markdown",
   "id": "ed4a77ff-c725-40c2-86e9-441b6308c965",
   "metadata": {
    "tags": []
   },
   "source": [
    "## Model Implementation/ Testing"
   ]
  },
  {
   "cell_type": "code",
   "execution_count": 4,
   "id": "3a4b82ed-1d6a-439c-8430-0ce6211361bb",
   "metadata": {},
   "outputs": [],
   "source": [
    "# initialize the elo model\n",
    "GWL = Elo(Rm = 3200, k=100, g=1, delta=1000)\n",
    "\n",
    "# initialize teams\n",
    "teams = ['Arizona O-Teas','Awesome Anglers','Chicago Cats','Dorado Ducks','Ema Skies','Iceland Imps','Phiji Phrogs','Pokhara Pusheens','Troubling Trout','Welsh Whales']\n",
    "colors = ['rgb(18, 233, 195)','rgb(54, 57, 63)','rgb(223, 19, 223)','rgb(0, 110, 46)','rgb(223, 87, 127)','rgb(114, 137, 218)','rgb(158, 255, 208)',\n",
    "          'rgb(79, 38, 131)','rgb(2, 127, 181)','rgb(133, 144, 143)']\n",
    "tcDict = {'team names':teams, 'colors':colors}\n",
    "for team in teams:\n",
    "    GWL.addPlayer(team)\n",
    "\n",
    "week = 1\n",
    "for i, game in matches.iterrows():\n",
    "    GWL.seriesOver(game) # update ELO's from the series\n",
    "    if (game['Round #'] > week) or (i == len(matches)-1): # update the power rankings at the end of a week\n",
    "        GWL.update_rankings()\n",
    "        week +=1\n",
    "#vars(GWL.teamsDict['A'])\n",
    "#GWL.update_rankings()\n",
    "#GWL.teamsDict['A'].rankingHist"
   ]
  },
  {
   "cell_type": "code",
   "execution_count": 5,
   "id": "f95f0907-3fdd-430f-8449-7a810c112fe8",
   "metadata": {},
   "outputs": [],
   "source": [
    "# Feel free to put in any two teams to test likelihoods! (Just change t1/t2 to the teams you want)\n",
    "# t1= 'Iceland Imps'\n",
    "# t2 = 'Awesome Anglers'\n",
    "# results = GWL.sim_mapscores(t1,t2,nsims = 10000, outfile= 'default')"
   ]
  },
  {
   "cell_type": "markdown",
   "id": "e836ff79-0d22-4c4a-802d-e9b11acd19d6",
   "metadata": {
    "tags": []
   },
   "source": [
    "## Output and save model results"
   ]
  },
  {
   "cell_type": "markdown",
   "id": "0c8b1c7b-5521-4df9-90ab-592e5f5a7f41",
   "metadata": {
    "tags": []
   },
   "source": [
    "## Visualization"
   ]
  },
  {
   "cell_type": "code",
   "execution_count": 6,
   "id": "16245b8f-e2da-41d8-8722-5a6b9852dee5",
   "metadata": {},
   "outputs": [
    {
     "data": {
      "image/png": "[encoded data removed]",
      "text/plain": [
       "<Figure size 720x504 with 1 Axes>"
      ]
     },
     "metadata": {
      "needs_background": "light"
     },
     "output_type": "display_data"
    }
   ],
   "source": [
    "# Figure for Elo rating history\n",
    "n_weeks =  len(GWL.teamsDict['Iceland Imps'].ratingHist)\n",
    "title = 'GWL Power Rankings: Week {}'.format(n_weeks)\n",
    "xlab = 'Week'\n",
    "ylab = 'ELO rating'\n",
    "\n",
    "# Maybe make a table for team colors\n",
    "\n",
    "for team in GWL.teamsDict:\n",
    "    plt.plot(GWL.teamsDict[team].ratingHist, label=team); # need line colors\n",
    "#to include: figure sizes\n",
    "fig = plt.gcf();\n",
    "fig.set_size_inches(10,7);\n",
    "plt.title(title);\n",
    "plt.xlabel(xlab);\n",
    "plt.ylabel(ylab);\n",
    "plt.xticks(list(range(n_weeks)),list(range(1,n_weeks+1)));\n",
    "plt.legend(loc='right',bbox_to_anchor = (1.25,.8));\n",
    "#plt.savefig('elo_histories_mapw{}.png'.format(n_weeks)); # uncomment to save figure"
   ]
  },
  {
   "cell_type": "code",
   "execution_count": 9,
   "id": "97acc2fd-0444-4b69-b83f-4ee48dd2fee7",
   "metadata": {},
   "outputs": [
    {
     "data": {
      "application/vnd.plotly.v1+json": {
       "config": {
        "plotlyServerURL": "https://plot.ly"
       },
       "data": [
        {
         "line": {
          "color": "rgb(18, 233, 195)",
          "width": 3.5
         },
         "mode": "lines",
         "name": "Arizona O-Teas",
         "type": "scatter",
         "x": [
          1,
          2,
          3
         ],
         "y": [
          3250,
          3035.4241746852404,
          2993.000892879174
         ]
        },
        {
         "line": {
          "color": "rgb(54, 57, 63)",
          "width": 3.5
         },
         "mode": "lines",
         "name": "Awesome Anglers",
         "type": "scatter",
         "x": [
          1,
          2,
          3
         ],
         "y": [
          3050,
          3264.5758253147596,
          3277.925108215716
         ]
        },
        {
         "line": {
          "color": "rgb(223, 19, 223)",
          "width": 3.5
         },
         "mode": "lines",
         "name": "Chicago Cats",
         "type": "scatter",
         "x": [
          1,
          2,
          3
         ],
         "y": [
          3150,
          3100,
          2991.358069527594
         ]
        },
        {
         "line": {
          "color": "rgb(0, 110, 46)",
          "width": 3.5
         },
         "mode": "lines",
         "name": "Dorado Ducks",
         "type": "scatter",
         "x": [
          1,
          2,
          3
         ],
         "y": [
          3250,
          3172.924653504917,
          3332.2640502564036
         ]
        },
        {
         "line": {
          "color": "rgb(223, 87, 127)",
          "width": 3.5
         },
         "mode": "lines",
         "name": "Ema Skies",
         "type": "scatter",
         "x": [
          1,
          2,
          3
         ],
         "y": [
          3300,
          3377.075346495083,
          3363.7260635941266
         ]
        },
        {
         "line": {
          "color": "rgb(114, 137, 218)",
          "width": 3.5
         },
         "mode": "lines",
         "name": "Iceland Imps",
         "type": "scatter",
         "x": [
          1,
          2,
          3
         ],
         "y": [
          3350,
          3427.075346495083,
          3469.4986283011494
         ]
        },
        {
         "line": {
          "color": "rgb(158, 255, 208)",
          "width": 3.5
         },
         "mode": "lines",
         "name": "Phiji Phrogs",
         "type": "scatter",
         "x": [
          1,
          2,
          3
         ],
         "y": [
          3150,
          3200,
          3142.373624475401
         ]
        },
        {
         "line": {
          "color": "rgb(79, 38, 131)",
          "width": 3.5
         },
         "mode": "lines",
         "name": "Pokhara Pusheens",
         "type": "scatter",
         "x": [
          1,
          2,
          3
         ],
         "y": [
          3300,
          3222.924653504917,
          3331.566583977323
         ]
        },
        {
         "line": {
          "color": "rgb(2, 127, 181)",
          "width": 3.5
         },
         "mode": "lines",
         "name": "Troubling Trout",
         "type": "scatter",
         "x": [
          1,
          2,
          3
         ],
         "y": [
          3100,
          3200,
          3040.6606032485133
         ]
        },
        {
         "line": {
          "color": "rgb(133, 144, 143)",
          "width": 3.5
         },
         "mode": "lines",
         "name": "Welsh Whales",
         "type": "scatter",
         "x": [
          1,
          2,
          3
         ],
         "y": [
          3100,
          3000,
          3057.626375524599
         ]
        }
       ],
       "layout": {
        "height": 700,
        "legend": {
         "font": {
          "size": 14
         },
         "title": {
          "font": {
           "size": 20
          },
          "side": "top",
          "text": "Team"
         },
         "tracegroupgap": 0
        },
        "template": {
         "data": {
          "bar": [
           {
            "error_x": {
             "color": "rgb(36,36,36)"
            },
            "error_y": {
             "color": "rgb(36,36,36)"
            },
            "marker": {
             "line": {
              "color": "white",
              "width": 0.5
             },
             "pattern": {
              "fillmode": "overlay",
              "size": 10,
              "solidity": 0.2
             }
            },
            "type": "bar"
           }
          ],
          "barpolar": [
           {
            "marker": {
             "line": {
              "color": "white",
              "width": 0.5
             },
             "pattern": {
              "fillmode": "overlay",
              "size": 10,
              "solidity": 0.2
             }
            },
            "type": "barpolar"
           }
          ],
          "carpet": [
           {
            "aaxis": {
             "endlinecolor": "rgb(36,36,36)",
             "gridcolor": "white",
             "linecolor": "white",
             "minorgridcolor": "white",
             "startlinecolor": "rgb(36,36,36)"
            },
            "baxis": {
             "endlinecolor": "rgb(36,36,36)",
             "gridcolor": "white",
             "linecolor": "white",
             "minorgridcolor": "white",
             "startlinecolor": "rgb(36,36,36)"
            },
            "type": "carpet"
           }
          ],
          "choropleth": [
           {
            "colorbar": {
             "outlinewidth": 1,
             "tickcolor": "rgb(36,36,36)",
             "ticks": "outside"
            },
            "type": "choropleth"
           }
          ],
          "contour": [
           {
            "colorbar": {
             "outlinewidth": 1,
             "tickcolor": "rgb(36,36,36)",
             "ticks": "outside"
            },
            "colorscale": [
             [
              0,
              "#440154"
             ],
             [
              0.1111111111111111,
              "#482878"
             ],
             [
              0.2222222222222222,
              "#3e4989"
             ],
             [
              0.3333333333333333,
              "#31688e"
             ],
             [
              0.4444444444444444,
              "#26828e"
             ],
             [
              0.5555555555555556,
              "#1f9e89"
             ],
             [
              0.6666666666666666,
              "#35b779"
             ],
             [
              0.7777777777777778,
              "#6ece58"
             ],
             [
              0.8888888888888888,
              "#b5de2b"
             ],
             [
              1,
              "#fde725"
             ]
            ],
            "type": "contour"
           }
          ],
          "contourcarpet": [
           {
            "colorbar": {
             "outlinewidth": 1,
             "tickcolor": "rgb(36,36,36)",
             "ticks": "outside"
            },
            "type": "contourcarpet"
           }
          ],
          "heatmap": [
           {
            "colorbar": {
             "outlinewidth": 1,
             "tickcolor": "rgb(36,36,36)",
             "ticks": "outside"
            },
            "colorscale": [
             [
              0,
              "#440154"
             ],
             [
              0.1111111111111111,
              "#482878"
             ],
             [
              0.2222222222222222,
              "#3e4989"
             ],
             [
              0.3333333333333333,
              "#31688e"
             ],
             [
              0.4444444444444444,
              "#26828e"
             ],
             [
              0.5555555555555556,
              "#1f9e89"
             ],
             [
              0.6666666666666666,
              "#35b779"
             ],
             [
              0.7777777777777778,
              "#6ece58"
             ],
             [
              0.8888888888888888,
              "#b5de2b"
             ],
             [
              1,
              "#fde725"
             ]
            ],
            "type": "heatmap"
           }
          ],
          "heatmapgl": [
           {
            "colorbar": {
             "outlinewidth": 1,
             "tickcolor": "rgb(36,36,36)",
             "ticks": "outside"
            },
            "colorscale": [
             [
              0,
              "#440154"
             ],
             [
              0.1111111111111111,
              "#482878"
             ],
             [
              0.2222222222222222,
              "#3e4989"
             ],
             [
              0.3333333333333333,
              "#31688e"
             ],
             [
              0.4444444444444444,
              "#26828e"
             ],
             [
              0.5555555555555556,
              "#1f9e89"
             ],
             [
              0.6666666666666666,
              "#35b779"
             ],
             [
              0.7777777777777778,
              "#6ece58"
             ],
             [
              0.8888888888888888,
              "#b5de2b"
             ],
             [
              1,
              "#fde725"
             ]
            ],
            "type": "heatmapgl"
           }
          ],
          "histogram": [
           {
            "marker": {
             "line": {
              "color": "white",
              "width": 0.6
             }
            },
            "type": "histogram"
           }
          ],
          "histogram2d": [
           {
            "colorbar": {
             "outlinewidth": 1,
             "tickcolor": "rgb(36,36,36)",
             "ticks": "outside"
            },
            "colorscale": [
             [
              0,
              "#440154"
             ],
             [
              0.1111111111111111,
              "#482878"
             ],
             [
              0.2222222222222222,
              "#3e4989"
             ],
             [
              0.3333333333333333,
              "#31688e"
             ],
             [
              0.4444444444444444,
              "#26828e"
             ],
             [
              0.5555555555555556,
              "#1f9e89"
             ],
             [
              0.6666666666666666,
              "#35b779"
             ],
             [
              0.7777777777777778,
              "#6ece58"
             ],
             [
              0.8888888888888888,
              "#b5de2b"
             ],
             [
              1,
              "#fde725"
             ]
            ],
            "type": "histogram2d"
           }
          ],
          "histogram2dcontour": [
           {
            "colorbar": {
             "outlinewidth": 1,
             "tickcolor": "rgb(36,36,36)",
             "ticks": "outside"
            },
            "colorscale": [
             [
              0,
              "#440154"
             ],
             [
              0.1111111111111111,
              "#482878"
             ],
             [
              0.2222222222222222,
              "#3e4989"
             ],
             [
              0.3333333333333333,
              "#31688e"
             ],
             [
              0.4444444444444444,
              "#26828e"
             ],
             [
              0.5555555555555556,
              "#1f9e89"
             ],
             [
              0.6666666666666666,
              "#35b779"
             ],
             [
              0.7777777777777778,
              "#6ece58"
             ],
             [
              0.8888888888888888,
              "#b5de2b"
             ],
             [
              1,
              "#fde725"
             ]
            ],
            "type": "histogram2dcontour"
           }
          ],
          "mesh3d": [
           {
            "colorbar": {
             "outlinewidth": 1,
             "tickcolor": "rgb(36,36,36)",
             "ticks": "outside"
            },
            "type": "mesh3d"
           }
          ],
          "parcoords": [
           {
            "line": {
             "colorbar": {
              "outlinewidth": 1,
              "tickcolor": "rgb(36,36,36)",
              "ticks": "outside"
             }
            },
            "type": "parcoords"
           }
          ],
          "pie": [
           {
            "automargin": true,
            "type": "pie"
           }
          ],
          "scatter": [
           {
            "marker": {
             "colorbar": {
              "outlinewidth": 1,
              "tickcolor": "rgb(36,36,36)",
              "ticks": "outside"
             }
            },
            "type": "scatter"
           }
          ],
          "scatter3d": [
           {
            "line": {
             "colorbar": {
              "outlinewidth": 1,
              "tickcolor": "rgb(36,36,36)",
              "ticks": "outside"
             }
            },
            "marker": {
             "colorbar": {
              "outlinewidth": 1,
              "tickcolor": "rgb(36,36,36)",
              "ticks": "outside"
             }
            },
            "type": "scatter3d"
           }
          ],
          "scattercarpet": [
           {
            "marker": {
             "colorbar": {
              "outlinewidth": 1,
              "tickcolor": "rgb(36,36,36)",
              "ticks": "outside"
             }
            },
            "type": "scattercarpet"
           }
          ],
          "scattergeo": [
           {
            "marker": {
             "colorbar": {
              "outlinewidth": 1,
              "tickcolor": "rgb(36,36,36)",
              "ticks": "outside"
             }
            },
            "type": "scattergeo"
           }
          ],
          "scattergl": [
           {
            "marker": {
             "colorbar": {
              "outlinewidth": 1,
              "tickcolor": "rgb(36,36,36)",
              "ticks": "outside"
             }
            },
            "type": "scattergl"
           }
          ],
          "scattermapbox": [
           {
            "marker": {
             "colorbar": {
              "outlinewidth": 1,
              "tickcolor": "rgb(36,36,36)",
              "ticks": "outside"
             }
            },
            "type": "scattermapbox"
           }
          ],
          "scatterpolar": [
           {
            "marker": {
             "colorbar": {
              "outlinewidth": 1,
              "tickcolor": "rgb(36,36,36)",
              "ticks": "outside"
             }
            },
            "type": "scatterpolar"
           }
          ],
          "scatterpolargl": [
           {
            "marker": {
             "colorbar": {
              "outlinewidth": 1,
              "tickcolor": "rgb(36,36,36)",
              "ticks": "outside"
             }
            },
            "type": "scatterpolargl"
           }
          ],
          "scatterternary": [
           {
            "marker": {
             "colorbar": {
              "outlinewidth": 1,
              "tickcolor": "rgb(36,36,36)",
              "ticks": "outside"
             }
            },
            "type": "scatterternary"
           }
          ],
          "surface": [
           {
            "colorbar": {
             "outlinewidth": 1,
             "tickcolor": "rgb(36,36,36)",
             "ticks": "outside"
            },
            "colorscale": [
             [
              0,
              "#440154"
             ],
             [
              0.1111111111111111,
              "#482878"
             ],
             [
              0.2222222222222222,
              "#3e4989"
             ],
             [
              0.3333333333333333,
              "#31688e"
             ],
             [
              0.4444444444444444,
              "#26828e"
             ],
             [
              0.5555555555555556,
              "#1f9e89"
             ],
             [
              0.6666666666666666,
              "#35b779"
             ],
             [
              0.7777777777777778,
              "#6ece58"
             ],
             [
              0.8888888888888888,
              "#b5de2b"
             ],
             [
              1,
              "#fde725"
             ]
            ],
            "type": "surface"
           }
          ],
          "table": [
           {
            "cells": {
             "fill": {
              "color": "rgb(237,237,237)"
             },
             "line": {
              "color": "white"
             }
            },
            "header": {
             "fill": {
              "color": "rgb(217,217,217)"
             },
             "line": {
              "color": "white"
             }
            },
            "type": "table"
           }
          ]
         },
         "layout": {
          "annotationdefaults": {
           "arrowhead": 0,
           "arrowwidth": 1
          },
          "autotypenumbers": "strict",
          "coloraxis": {
           "colorbar": {
            "outlinewidth": 1,
            "tickcolor": "rgb(36,36,36)",
            "ticks": "outside"
           }
          },
          "colorscale": {
           "diverging": [
            [
             0,
             "rgb(103,0,31)"
            ],
            [
             0.1,
             "rgb(178,24,43)"
            ],
            [
             0.2,
             "rgb(214,96,77)"
            ],
            [
             0.3,
             "rgb(244,165,130)"
            ],
            [
             0.4,
             "rgb(253,219,199)"
            ],
            [
             0.5,
             "rgb(247,247,247)"
            ],
            [
             0.6,
             "rgb(209,229,240)"
            ],
            [
             0.7,
             "rgb(146,197,222)"
            ],
            [
             0.8,
             "rgb(67,147,195)"
            ],
            [
             0.9,
             "rgb(33,102,172)"
            ],
            [
             1,
             "rgb(5,48,97)"
            ]
           ],
           "sequential": [
            [
             0,
             "#440154"
            ],
            [
             0.1111111111111111,
             "#482878"
            ],
            [
             0.2222222222222222,
             "#3e4989"
            ],
            [
             0.3333333333333333,
             "#31688e"
            ],
            [
             0.4444444444444444,
             "#26828e"
            ],
            [
             0.5555555555555556,
             "#1f9e89"
            ],
            [
             0.6666666666666666,
             "#35b779"
            ],
            [
             0.7777777777777778,
             "#6ece58"
            ],
            [
             0.8888888888888888,
             "#b5de2b"
            ],
            [
             1,
             "#fde725"
            ]
           ],
           "sequentialminus": [
            [
             0,
             "#440154"
            ],
            [
             0.1111111111111111,
             "#482878"
            ],
            [
             0.2222222222222222,
             "#3e4989"
            ],
            [
             0.3333333333333333,
             "#31688e"
            ],
            [
             0.4444444444444444,
             "#26828e"
            ],
            [
             0.5555555555555556,
             "#1f9e89"
            ],
            [
             0.6666666666666666,
             "#35b779"
            ],
            [
             0.7777777777777778,
             "#6ece58"
            ],
            [
             0.8888888888888888,
             "#b5de2b"
            ],
            [
             1,
             "#fde725"
            ]
           ]
          },
          "colorway": [
           "#1F77B4",
           "#FF7F0E",
           "#2CA02C",
           "#D62728",
           "#9467BD",
           "#8C564B",
           "#E377C2",
           "#7F7F7F",
           "#BCBD22",
           "#17BECF"
          ],
          "font": {
           "color": "rgb(36,36,36)"
          },
          "geo": {
           "bgcolor": "white",
           "lakecolor": "white",
           "landcolor": "white",
           "showlakes": true,
           "showland": true,
           "subunitcolor": "white"
          },
          "hoverlabel": {
           "align": "left"
          },
          "hovermode": "closest",
          "mapbox": {
           "style": "light"
          },
          "paper_bgcolor": "white",
          "plot_bgcolor": "white",
          "polar": {
           "angularaxis": {
            "gridcolor": "rgb(232,232,232)",
            "linecolor": "rgb(36,36,36)",
            "showgrid": false,
            "showline": true,
            "ticks": "outside"
           },
           "bgcolor": "white",
           "radialaxis": {
            "gridcolor": "rgb(232,232,232)",
            "linecolor": "rgb(36,36,36)",
            "showgrid": false,
            "showline": true,
            "ticks": "outside"
           }
          },
          "scene": {
           "xaxis": {
            "backgroundcolor": "white",
            "gridcolor": "rgb(232,232,232)",
            "gridwidth": 2,
            "linecolor": "rgb(36,36,36)",
            "showbackground": true,
            "showgrid": false,
            "showline": true,
            "ticks": "outside",
            "zeroline": false,
            "zerolinecolor": "rgb(36,36,36)"
           },
           "yaxis": {
            "backgroundcolor": "white",
            "gridcolor": "rgb(232,232,232)",
            "gridwidth": 2,
            "linecolor": "rgb(36,36,36)",
            "showbackground": true,
            "showgrid": false,
            "showline": true,
            "ticks": "outside",
            "zeroline": false,
            "zerolinecolor": "rgb(36,36,36)"
           },
           "zaxis": {
            "backgroundcolor": "white",
            "gridcolor": "rgb(232,232,232)",
            "gridwidth": 2,
            "linecolor": "rgb(36,36,36)",
            "showbackground": true,
            "showgrid": false,
            "showline": true,
            "ticks": "outside",
            "zeroline": false,
            "zerolinecolor": "rgb(36,36,36)"
           }
          },
          "shapedefaults": {
           "fillcolor": "black",
           "line": {
            "width": 0
           },
           "opacity": 0.3
          },
          "ternary": {
           "aaxis": {
            "gridcolor": "rgb(232,232,232)",
            "linecolor": "rgb(36,36,36)",
            "showgrid": false,
            "showline": true,
            "ticks": "outside"
           },
           "baxis": {
            "gridcolor": "rgb(232,232,232)",
            "linecolor": "rgb(36,36,36)",
            "showgrid": false,
            "showline": true,
            "ticks": "outside"
           },
           "bgcolor": "white",
           "caxis": {
            "gridcolor": "rgb(232,232,232)",
            "linecolor": "rgb(36,36,36)",
            "showgrid": false,
            "showline": true,
            "ticks": "outside"
           }
          },
          "title": {
           "x": 0.05
          },
          "xaxis": {
           "automargin": true,
           "gridcolor": "rgb(232,232,232)",
           "linecolor": "rgb(36,36,36)",
           "showgrid": false,
           "showline": true,
           "ticks": "outside",
           "title": {
            "standoff": 15
           },
           "zeroline": false,
           "zerolinecolor": "rgb(36,36,36)"
          },
          "yaxis": {
           "automargin": true,
           "gridcolor": "rgb(232,232,232)",
           "linecolor": "rgb(36,36,36)",
           "showgrid": false,
           "showline": true,
           "ticks": "outside",
           "title": {
            "standoff": 15
           },
           "zeroline": false,
           "zerolinecolor": "rgb(36,36,36)"
          }
         }
        },
        "title": {
         "font": {
          "size": 22
         },
         "text": "Weekly Elo Ratings",
         "x": 0.45
        },
        "width": 900,
        "xaxis": {
         "anchor": "y",
         "autorange": true,
         "domain": [
          0,
          1
         ],
         "nticks": 3,
         "range": [
          1,
          3
         ],
         "tickfont": {
          "size": 16
         },
         "ticks": "inside",
         "title": {
          "font": {
           "size": 20
          },
          "standoff": 25,
          "text": "Week"
         },
         "type": "linear"
        },
        "yaxis": {
         "anchor": "x",
         "autorange": true,
         "domain": [
          0,
          1
         ],
         "nticks": 12,
         "range": [
          2964.7947051512856,
          3496.061992677458
         ],
         "showgrid": true,
         "tickfont": {
          "size": 16
         },
         "ticks": "inside",
         "title": {
          "font": {
           "size": 20
          },
          "standoff": 25,
          "text": "Elo"
         },
         "type": "linear"
        }
       }
      },
      "image/png": "[encoded data removed]",
      "text/html": [
       "<div>                            <div id=\"f28d57da-7a11-443c-9daf-d11df0175130\" class=\"plotly-graph-div\" style=\"height:700px; width:900px;\"></div>            <script type=\"text/javascript\">                require([\"plotly\"], function(Plotly) {                    window.PLOTLYENV=window.PLOTLYENV || {};                                    if (document.getElementById(\"f28d57da-7a11-443c-9daf-d11df0175130\")) {                    Plotly.newPlot(                        \"f28d57da-7a11-443c-9daf-d11df0175130\",                        [{\"line\":{\"color\":\"rgb(18, 233, 195)\",\"width\":3.5},\"mode\":\"lines\",\"name\":\"Arizona O-Teas\",\"x\":[1,2,3],\"y\":[3250.0,3035.4241746852404,2993.000892879174],\"type\":\"scatter\"},{\"line\":{\"color\":\"rgb(54, 57, 63)\",\"width\":3.5},\"mode\":\"lines\",\"name\":\"Awesome Anglers\",\"x\":[1,2,3],\"y\":[3050.0,3264.5758253147596,3277.925108215716],\"type\":\"scatter\"},{\"line\":{\"color\":\"rgb(223, 19, 223)\",\"width\":3.5},\"mode\":\"lines\",\"name\":\"Chicago Cats\",\"x\":[1,2,3],\"y\":[3150.0,3100.0,2991.358069527594],\"type\":\"scatter\"},{\"line\":{\"color\":\"rgb(0, 110, 46)\",\"width\":3.5},\"mode\":\"lines\",\"name\":\"Dorado Ducks\",\"x\":[1,2,3],\"y\":[3250.0,3172.924653504917,3332.2640502564036],\"type\":\"scatter\"},{\"line\":{\"color\":\"rgb(223, 87, 127)\",\"width\":3.5},\"mode\":\"lines\",\"name\":\"Ema Skies\",\"x\":[1,2,3],\"y\":[3300.0,3377.075346495083,3363.7260635941266],\"type\":\"scatter\"},{\"line\":{\"color\":\"rgb(114, 137, 218)\",\"width\":3.5},\"mode\":\"lines\",\"name\":\"Iceland Imps\",\"x\":[1,2,3],\"y\":[3350.0,3427.075346495083,3469.4986283011494],\"type\":\"scatter\"},{\"line\":{\"color\":\"rgb(158, 255, 208)\",\"width\":3.5},\"mode\":\"lines\",\"name\":\"Phiji Phrogs\",\"x\":[1,2,3],\"y\":[3150.0,3200.0,3142.373624475401],\"type\":\"scatter\"},{\"line\":{\"color\":\"rgb(79, 38, 131)\",\"width\":3.5},\"mode\":\"lines\",\"name\":\"Pokhara Pusheens\",\"x\":[1,2,3],\"y\":[3300.0,3222.924653504917,3331.566583977323],\"type\":\"scatter\"},{\"line\":{\"color\":\"rgb(2, 127, 181)\",\"width\":3.5},\"mode\":\"lines\",\"name\":\"Troubling Trout\",\"x\":[1,2,3],\"y\":[3100.0,3200.0,3040.6606032485133],\"type\":\"scatter\"},{\"line\":{\"color\":\"rgb(133, 144, 143)\",\"width\":3.5},\"mode\":\"lines\",\"name\":\"Welsh Whales\",\"x\":[1,2,3],\"y\":[3100.0,3000.0,3057.626375524599],\"type\":\"scatter\"}],                        {\"template\":{\"data\":{\"barpolar\":[{\"marker\":{\"line\":{\"color\":\"white\",\"width\":0.5},\"pattern\":{\"fillmode\":\"overlay\",\"size\":10,\"solidity\":0.2}},\"type\":\"barpolar\"}],\"bar\":[{\"error_x\":{\"color\":\"rgb(36,36,36)\"},\"error_y\":{\"color\":\"rgb(36,36,36)\"},\"marker\":{\"line\":{\"color\":\"white\",\"width\":0.5},\"pattern\":{\"fillmode\":\"overlay\",\"size\":10,\"solidity\":0.2}},\"type\":\"bar\"}],\"carpet\":[{\"aaxis\":{\"endlinecolor\":\"rgb(36,36,36)\",\"gridcolor\":\"white\",\"linecolor\":\"white\",\"minorgridcolor\":\"white\",\"startlinecolor\":\"rgb(36,36,36)\"},\"baxis\":{\"endlinecolor\":\"rgb(36,36,36)\",\"gridcolor\":\"white\",\"linecolor\":\"white\",\"minorgridcolor\":\"white\",\"startlinecolor\":\"rgb(36,36,36)\"},\"type\":\"carpet\"}],\"choropleth\":[{\"colorbar\":{\"outlinewidth\":1,\"tickcolor\":\"rgb(36,36,36)\",\"ticks\":\"outside\"},\"type\":\"choropleth\"}],\"contourcarpet\":[{\"colorbar\":{\"outlinewidth\":1,\"tickcolor\":\"rgb(36,36,36)\",\"ticks\":\"outside\"},\"type\":\"contourcarpet\"}],\"contour\":[{\"colorbar\":{\"outlinewidth\":1,\"tickcolor\":\"rgb(36,36,36)\",\"ticks\":\"outside\"},\"colorscale\":[[0.0,\"#440154\"],[0.1111111111111111,\"#482878\"],[0.2222222222222222,\"#3e4989\"],[0.3333333333333333,\"#31688e\"],[0.4444444444444444,\"#26828e\"],[0.5555555555555556,\"#1f9e89\"],[0.6666666666666666,\"#35b779\"],[0.7777777777777778,\"#6ece58\"],[0.8888888888888888,\"#b5de2b\"],[1.0,\"#fde725\"]],\"type\":\"contour\"}],\"heatmapgl\":[{\"colorbar\":{\"outlinewidth\":1,\"tickcolor\":\"rgb(36,36,36)\",\"ticks\":\"outside\"},\"colorscale\":[[0.0,\"#440154\"],[0.1111111111111111,\"#482878\"],[0.2222222222222222,\"#3e4989\"],[0.3333333333333333,\"#31688e\"],[0.4444444444444444,\"#26828e\"],[0.5555555555555556,\"#1f9e89\"],[0.6666666666666666,\"#35b779\"],[0.7777777777777778,\"#6ece58\"],[0.8888888888888888,\"#b5de2b\"],[1.0,\"#fde725\"]],\"type\":\"heatmapgl\"}],\"heatmap\":[{\"colorbar\":{\"outlinewidth\":1,\"tickcolor\":\"rgb(36,36,36)\",\"ticks\":\"outside\"},\"colorscale\":[[0.0,\"#440154\"],[0.1111111111111111,\"#482878\"],[0.2222222222222222,\"#3e4989\"],[0.3333333333333333,\"#31688e\"],[0.4444444444444444,\"#26828e\"],[0.5555555555555556,\"#1f9e89\"],[0.6666666666666666,\"#35b779\"],[0.7777777777777778,\"#6ece58\"],[0.8888888888888888,\"#b5de2b\"],[1.0,\"#fde725\"]],\"type\":\"heatmap\"}],\"histogram2dcontour\":[{\"colorbar\":{\"outlinewidth\":1,\"tickcolor\":\"rgb(36,36,36)\",\"ticks\":\"outside\"},\"colorscale\":[[0.0,\"#440154\"],[0.1111111111111111,\"#482878\"],[0.2222222222222222,\"#3e4989\"],[0.3333333333333333,\"#31688e\"],[0.4444444444444444,\"#26828e\"],[0.5555555555555556,\"#1f9e89\"],[0.6666666666666666,\"#35b779\"],[0.7777777777777778,\"#6ece58\"],[0.8888888888888888,\"#b5de2b\"],[1.0,\"#fde725\"]],\"type\":\"histogram2dcontour\"}],\"histogram2d\":[{\"colorbar\":{\"outlinewidth\":1,\"tickcolor\":\"rgb(36,36,36)\",\"ticks\":\"outside\"},\"colorscale\":[[0.0,\"#440154\"],[0.1111111111111111,\"#482878\"],[0.2222222222222222,\"#3e4989\"],[0.3333333333333333,\"#31688e\"],[0.4444444444444444,\"#26828e\"],[0.5555555555555556,\"#1f9e89\"],[0.6666666666666666,\"#35b779\"],[0.7777777777777778,\"#6ece58\"],[0.8888888888888888,\"#b5de2b\"],[1.0,\"#fde725\"]],\"type\":\"histogram2d\"}],\"histogram\":[{\"marker\":{\"line\":{\"color\":\"white\",\"width\":0.6}},\"type\":\"histogram\"}],\"mesh3d\":[{\"colorbar\":{\"outlinewidth\":1,\"tickcolor\":\"rgb(36,36,36)\",\"ticks\":\"outside\"},\"type\":\"mesh3d\"}],\"parcoords\":[{\"line\":{\"colorbar\":{\"outlinewidth\":1,\"tickcolor\":\"rgb(36,36,36)\",\"ticks\":\"outside\"}},\"type\":\"parcoords\"}],\"pie\":[{\"automargin\":true,\"type\":\"pie\"}],\"scatter3d\":[{\"line\":{\"colorbar\":{\"outlinewidth\":1,\"tickcolor\":\"rgb(36,36,36)\",\"ticks\":\"outside\"}},\"marker\":{\"colorbar\":{\"outlinewidth\":1,\"tickcolor\":\"rgb(36,36,36)\",\"ticks\":\"outside\"}},\"type\":\"scatter3d\"}],\"scattercarpet\":[{\"marker\":{\"colorbar\":{\"outlinewidth\":1,\"tickcolor\":\"rgb(36,36,36)\",\"ticks\":\"outside\"}},\"type\":\"scattercarpet\"}],\"scattergeo\":[{\"marker\":{\"colorbar\":{\"outlinewidth\":1,\"tickcolor\":\"rgb(36,36,36)\",\"ticks\":\"outside\"}},\"type\":\"scattergeo\"}],\"scattergl\":[{\"marker\":{\"colorbar\":{\"outlinewidth\":1,\"tickcolor\":\"rgb(36,36,36)\",\"ticks\":\"outside\"}},\"type\":\"scattergl\"}],\"scattermapbox\":[{\"marker\":{\"colorbar\":{\"outlinewidth\":1,\"tickcolor\":\"rgb(36,36,36)\",\"ticks\":\"outside\"}},\"type\":\"scattermapbox\"}],\"scatterpolargl\":[{\"marker\":{\"colorbar\":{\"outlinewidth\":1,\"tickcolor\":\"rgb(36,36,36)\",\"ticks\":\"outside\"}},\"type\":\"scatterpolargl\"}],\"scatterpolar\":[{\"marker\":{\"colorbar\":{\"outlinewidth\":1,\"tickcolor\":\"rgb(36,36,36)\",\"ticks\":\"outside\"}},\"type\":\"scatterpolar\"}],\"scatter\":[{\"marker\":{\"colorbar\":{\"outlinewidth\":1,\"tickcolor\":\"rgb(36,36,36)\",\"ticks\":\"outside\"}},\"type\":\"scatter\"}],\"scatterternary\":[{\"marker\":{\"colorbar\":{\"outlinewidth\":1,\"tickcolor\":\"rgb(36,36,36)\",\"ticks\":\"outside\"}},\"type\":\"scatterternary\"}],\"surface\":[{\"colorbar\":{\"outlinewidth\":1,\"tickcolor\":\"rgb(36,36,36)\",\"ticks\":\"outside\"},\"colorscale\":[[0.0,\"#440154\"],[0.1111111111111111,\"#482878\"],[0.2222222222222222,\"#3e4989\"],[0.3333333333333333,\"#31688e\"],[0.4444444444444444,\"#26828e\"],[0.5555555555555556,\"#1f9e89\"],[0.6666666666666666,\"#35b779\"],[0.7777777777777778,\"#6ece58\"],[0.8888888888888888,\"#b5de2b\"],[1.0,\"#fde725\"]],\"type\":\"surface\"}],\"table\":[{\"cells\":{\"fill\":{\"color\":\"rgb(237,237,237)\"},\"line\":{\"color\":\"white\"}},\"header\":{\"fill\":{\"color\":\"rgb(217,217,217)\"},\"line\":{\"color\":\"white\"}},\"type\":\"table\"}]},\"layout\":{\"annotationdefaults\":{\"arrowhead\":0,\"arrowwidth\":1},\"autotypenumbers\":\"strict\",\"coloraxis\":{\"colorbar\":{\"outlinewidth\":1,\"tickcolor\":\"rgb(36,36,36)\",\"ticks\":\"outside\"}},\"colorscale\":{\"diverging\":[[0.0,\"rgb(103,0,31)\"],[0.1,\"rgb(178,24,43)\"],[0.2,\"rgb(214,96,77)\"],[0.3,\"rgb(244,165,130)\"],[0.4,\"rgb(253,219,199)\"],[0.5,\"rgb(247,247,247)\"],[0.6,\"rgb(209,229,240)\"],[0.7,\"rgb(146,197,222)\"],[0.8,\"rgb(67,147,195)\"],[0.9,\"rgb(33,102,172)\"],[1.0,\"rgb(5,48,97)\"]],\"sequential\":[[0.0,\"#440154\"],[0.1111111111111111,\"#482878\"],[0.2222222222222222,\"#3e4989\"],[0.3333333333333333,\"#31688e\"],[0.4444444444444444,\"#26828e\"],[0.5555555555555556,\"#1f9e89\"],[0.6666666666666666,\"#35b779\"],[0.7777777777777778,\"#6ece58\"],[0.8888888888888888,\"#b5de2b\"],[1.0,\"#fde725\"]],\"sequentialminus\":[[0.0,\"#440154\"],[0.1111111111111111,\"#482878\"],[0.2222222222222222,\"#3e4989\"],[0.3333333333333333,\"#31688e\"],[0.4444444444444444,\"#26828e\"],[0.5555555555555556,\"#1f9e89\"],[0.6666666666666666,\"#35b779\"],[0.7777777777777778,\"#6ece58\"],[0.8888888888888888,\"#b5de2b\"],[1.0,\"#fde725\"]]},\"colorway\":[\"#1F77B4\",\"#FF7F0E\",\"#2CA02C\",\"#D62728\",\"#9467BD\",\"#8C564B\",\"#E377C2\",\"#7F7F7F\",\"#BCBD22\",\"#17BECF\"],\"font\":{\"color\":\"rgb(36,36,36)\"},\"geo\":{\"bgcolor\":\"white\",\"lakecolor\":\"white\",\"landcolor\":\"white\",\"showlakes\":true,\"showland\":true,\"subunitcolor\":\"white\"},\"hoverlabel\":{\"align\":\"left\"},\"hovermode\":\"closest\",\"mapbox\":{\"style\":\"light\"},\"paper_bgcolor\":\"white\",\"plot_bgcolor\":\"white\",\"polar\":{\"angularaxis\":{\"gridcolor\":\"rgb(232,232,232)\",\"linecolor\":\"rgb(36,36,36)\",\"showgrid\":false,\"showline\":true,\"ticks\":\"outside\"},\"bgcolor\":\"white\",\"radialaxis\":{\"gridcolor\":\"rgb(232,232,232)\",\"linecolor\":\"rgb(36,36,36)\",\"showgrid\":false,\"showline\":true,\"ticks\":\"outside\"}},\"scene\":{\"xaxis\":{\"backgroundcolor\":\"white\",\"gridcolor\":\"rgb(232,232,232)\",\"gridwidth\":2,\"linecolor\":\"rgb(36,36,36)\",\"showbackground\":true,\"showgrid\":false,\"showline\":true,\"ticks\":\"outside\",\"zeroline\":false,\"zerolinecolor\":\"rgb(36,36,36)\"},\"yaxis\":{\"backgroundcolor\":\"white\",\"gridcolor\":\"rgb(232,232,232)\",\"gridwidth\":2,\"linecolor\":\"rgb(36,36,36)\",\"showbackground\":true,\"showgrid\":false,\"showline\":true,\"ticks\":\"outside\",\"zeroline\":false,\"zerolinecolor\":\"rgb(36,36,36)\"},\"zaxis\":{\"backgroundcolor\":\"white\",\"gridcolor\":\"rgb(232,232,232)\",\"gridwidth\":2,\"linecolor\":\"rgb(36,36,36)\",\"showbackground\":true,\"showgrid\":false,\"showline\":true,\"ticks\":\"outside\",\"zeroline\":false,\"zerolinecolor\":\"rgb(36,36,36)\"}},\"shapedefaults\":{\"fillcolor\":\"black\",\"line\":{\"width\":0},\"opacity\":0.3},\"ternary\":{\"aaxis\":{\"gridcolor\":\"rgb(232,232,232)\",\"linecolor\":\"rgb(36,36,36)\",\"showgrid\":false,\"showline\":true,\"ticks\":\"outside\"},\"baxis\":{\"gridcolor\":\"rgb(232,232,232)\",\"linecolor\":\"rgb(36,36,36)\",\"showgrid\":false,\"showline\":true,\"ticks\":\"outside\"},\"bgcolor\":\"white\",\"caxis\":{\"gridcolor\":\"rgb(232,232,232)\",\"linecolor\":\"rgb(36,36,36)\",\"showgrid\":false,\"showline\":true,\"ticks\":\"outside\"}},\"title\":{\"x\":0.05},\"xaxis\":{\"automargin\":true,\"gridcolor\":\"rgb(232,232,232)\",\"linecolor\":\"rgb(36,36,36)\",\"showgrid\":false,\"showline\":true,\"ticks\":\"outside\",\"title\":{\"standoff\":15},\"zeroline\":false,\"zerolinecolor\":\"rgb(36,36,36)\"},\"yaxis\":{\"automargin\":true,\"gridcolor\":\"rgb(232,232,232)\",\"linecolor\":\"rgb(36,36,36)\",\"showgrid\":false,\"showline\":true,\"ticks\":\"outside\",\"title\":{\"standoff\":15},\"zeroline\":false,\"zerolinecolor\":\"rgb(36,36,36)\"}}},\"xaxis\":{\"anchor\":\"y\",\"domain\":[0.0,1.0],\"title\":{\"font\":{\"size\":20},\"text\":\"Week\",\"standoff\":25},\"tickfont\":{\"size\":16},\"ticks\":\"inside\",\"nticks\":3},\"yaxis\":{\"anchor\":\"x\",\"domain\":[0.0,1.0],\"title\":{\"font\":{\"size\":20},\"text\":\"Elo\",\"standoff\":25},\"tickfont\":{\"size\":16},\"ticks\":\"inside\",\"nticks\":12,\"showgrid\":true},\"legend\":{\"tracegroupgap\":0,\"title\":{\"font\":{\"size\":20},\"text\":\"Team\",\"side\":\"top\"},\"font\":{\"size\":14}},\"title\":{\"text\":\"Weekly Elo Ratings\",\"font\":{\"size\":22},\"x\":0.45},\"height\":700,\"width\":900},                        {\"responsive\": true}                    ).then(function(){\n",
       "                            \n",
       "var gd = document.getElementById('f28d57da-7a11-443c-9daf-d11df0175130');\n",
       "var x = new MutationObserver(function (mutations, observer) {{\n",
       "        var display = window.getComputedStyle(gd).display;\n",
       "        if (!display || display === 'none') {{\n",
       "            console.log([gd, 'removed!']);\n",
       "            Plotly.purge(gd);\n",
       "            observer.disconnect();\n",
       "        }}\n",
       "}});\n",
       "\n",
       "// Listen for the removal of the full notebook cells\n",
       "var notebookContainer = gd.closest('#notebook-container');\n",
       "if (notebookContainer) {{\n",
       "    x.observe(notebookContainer, {childList: true});\n",
       "}}\n",
       "\n",
       "// Listen for the clearing of the current output cell\n",
       "var outputEl = gd.closest('.output');\n",
       "if (outputEl) {{\n",
       "    x.observe(outputEl, {childList: true});\n",
       "}}\n",
       "\n",
       "                        })                };                });            </script>        </div>"
      ]
     },
     "metadata": {},
     "output_type": "display_data"
    }
   ],
   "source": [
    "#Redo this plot with plotly\n",
    "fig = px.line(title = 'Weekly Elo Ratings', width = 900, height = 700, template = 'simple_white');\n",
    "for team in GWL.teamsDict:\n",
    "    fig.add_trace(go.Scatter(x = list(range(1,n_weeks+1)), y = GWL.teamsDict[team].ratingHist, name = team, mode=\"lines\",\n",
    "                             line = dict(color=tcDict['colors'][tcDict['team names'].index(team)],width=3.5)))\n",
    "fig.update_xaxes(title_text = 'Week', title_font =  {'size':20}, title_standoff = 25, ticks = 'inside', nticks = n_weeks, tickfont = dict(size=16));\n",
    "fig.update_yaxes(title_text = 'Elo', title_font =  {'size':20}, title_standoff = 25, ticks = 'inside', tickfont = dict(size=16), nticks = 12, showgrid=True);\n",
    "fig.update_layout(title_x = 0.45, title_font=dict(size=22), legend_title = dict(text='Team',font=dict(size = 20),side='top'), legend_font=dict(size=14))\n",
    "fig.show()"
   ]
  },
  {
   "cell_type": "code",
   "execution_count": 163,
   "id": "fe42c220-e96e-4bd9-8c0a-b7bce50fb6e3",
   "metadata": {},
   "outputs": [
    {
     "data": {
      "text/plain": [
       "\u001b[1;31mSignature:\u001b[0m \u001b[0mfig\u001b[0m\u001b[1;33m.\u001b[0m\u001b[0mupdate_layout\u001b[0m\u001b[1;33m(\u001b[0m\u001b[0mdict1\u001b[0m\u001b[1;33m=\u001b[0m\u001b[1;32mNone\u001b[0m\u001b[1;33m,\u001b[0m \u001b[0moverwrite\u001b[0m\u001b[1;33m=\u001b[0m\u001b[1;32mFalse\u001b[0m\u001b[1;33m,\u001b[0m \u001b[1;33m**\u001b[0m\u001b[0mkwargs\u001b[0m\u001b[1;33m)\u001b[0m\u001b[1;33m\u001b[0m\u001b[1;33m\u001b[0m\u001b[0m\n",
       "\u001b[1;31mSource:\u001b[0m   \n",
       "    \u001b[1;32mdef\u001b[0m \u001b[0mupdate_layout\u001b[0m\u001b[1;33m(\u001b[0m\u001b[0mself\u001b[0m\u001b[1;33m,\u001b[0m \u001b[0mdict1\u001b[0m\u001b[1;33m=\u001b[0m\u001b[1;32mNone\u001b[0m\u001b[1;33m,\u001b[0m \u001b[0moverwrite\u001b[0m\u001b[1;33m=\u001b[0m\u001b[1;32mFalse\u001b[0m\u001b[1;33m,\u001b[0m \u001b[1;33m**\u001b[0m\u001b[0mkwargs\u001b[0m\u001b[1;33m)\u001b[0m\u001b[1;33m:\u001b[0m\u001b[1;33m\n",
       "\u001b[0m        \u001b[1;34m\"\"\"\n",
       "        Update the properties of the figure's layout with a dict and/or with\n",
       "        keyword arguments.\n",
       "\n",
       "        This recursively updates the structure of the original\n",
       "        layout with the values in the input dict / keyword arguments.\n",
       "\n",
       "        Parameters\n",
       "        ----------\n",
       "        dict1 : dict\n",
       "            Dictionary of properties to be updated\n",
       "        overwrite: bool\n",
       "            If True, overwrite existing properties. If False, apply updates\n",
       "            to existing properties recursively, preserving existing\n",
       "            properties that are not specified in the update operation.\n",
       "        kwargs :\n",
       "            Keyword/value pair of properties to be updated\n",
       "\n",
       "        Returns\n",
       "        -------\n",
       "        BaseFigure\n",
       "            The Figure object that the update_layout method was called on\n",
       "        \"\"\"\u001b[0m\u001b[1;33m\n",
       "\u001b[0m        \u001b[0mself\u001b[0m\u001b[1;33m.\u001b[0m\u001b[0mlayout\u001b[0m\u001b[1;33m.\u001b[0m\u001b[0mupdate\u001b[0m\u001b[1;33m(\u001b[0m\u001b[0mdict1\u001b[0m\u001b[1;33m,\u001b[0m \u001b[0moverwrite\u001b[0m\u001b[1;33m=\u001b[0m\u001b[0moverwrite\u001b[0m\u001b[1;33m,\u001b[0m \u001b[1;33m**\u001b[0m\u001b[0mkwargs\u001b[0m\u001b[1;33m)\u001b[0m\u001b[1;33m\n",
       "\u001b[0m        \u001b[1;32mreturn\u001b[0m \u001b[0mself\u001b[0m\u001b[1;33m\u001b[0m\u001b[1;33m\u001b[0m\u001b[0m\n",
       "\u001b[1;31mFile:\u001b[0m      c:\\users\\rory\\anaconda3\\lib\\site-packages\\plotly\\basedatatypes.py\n",
       "\u001b[1;31mType:\u001b[0m      method\n"
      ]
     },
     "metadata": {},
     "output_type": "display_data"
    }
   ],
   "source": [
    "fig.update_layout"
   ]
  },
  {
   "cell_type": "code",
   "execution_count": 7,
   "id": "89fae70b-93a9-4e8f-8d3a-7fb12f2689e3",
   "metadata": {},
   "outputs": [
    {
     "data": {
      "text/html": [
       "<style type=\"text/css\">\n",
       "</style>\n",
       "<table id=\"T_df84e\">\n",
       "  <thead>\n",
       "    <tr>\n",
       "      <th class=\"blank level0\" >&nbsp;</th>\n",
       "      <th id=\"T_df84e_level0_col0\" class=\"col_heading level0 col0\" > </th>\n",
       "      <th id=\"T_df84e_level0_col1\" class=\"col_heading level0 col1\" >Team</th>\n",
       "      <th id=\"T_df84e_level0_col2\" class=\"col_heading level0 col2\" >ELO rating</th>\n",
       "      <th id=\"T_df84e_level0_col3\" class=\"col_heading level0 col3\" >  </th>\n",
       "    </tr>\n",
       "    <tr>\n",
       "      <th class=\"index_name level0\" >Rank</th>\n",
       "      <th class=\"blank col0\" >&nbsp;</th>\n",
       "      <th class=\"blank col1\" >&nbsp;</th>\n",
       "      <th class=\"blank col2\" >&nbsp;</th>\n",
       "      <th class=\"blank col3\" >&nbsp;</th>\n",
       "    </tr>\n",
       "  </thead>\n",
       "  <tbody>\n",
       "    <tr>\n",
       "      <th id=\"T_df84e_level0_row0\" class=\"row_heading level0 row0\" >1</th>\n",
       "      <td id=\"T_df84e_row0_col0\" class=\"data row0 col0\" > </td>\n",
       "      <td id=\"T_df84e_row0_col1\" class=\"data row0 col1\" >Iceland Imps</td>\n",
       "      <td id=\"T_df84e_row0_col2\" class=\"data row0 col2\" >3469</td>\n",
       "      <td id=\"T_df84e_row0_col3\" class=\"data row0 col3\" >+42</td>\n",
       "    </tr>\n",
       "    <tr>\n",
       "      <th id=\"T_df84e_level0_row1\" class=\"row_heading level0 row1\" >2</th>\n",
       "      <td id=\"T_df84e_row1_col0\" class=\"data row1 col0\" > </td>\n",
       "      <td id=\"T_df84e_row1_col1\" class=\"data row1 col1\" >Ema Skies</td>\n",
       "      <td id=\"T_df84e_row1_col2\" class=\"data row1 col2\" >3364</td>\n",
       "      <td id=\"T_df84e_row1_col3\" class=\"data row1 col3\" >-13</td>\n",
       "    </tr>\n",
       "    <tr>\n",
       "      <th id=\"T_df84e_level0_row2\" class=\"row_heading level0 row2\" >3</th>\n",
       "      <td id=\"T_df84e_row2_col0\" class=\"data row2 col0\" >+4</td>\n",
       "      <td id=\"T_df84e_row2_col1\" class=\"data row2 col1\" >Dorado Ducks</td>\n",
       "      <td id=\"T_df84e_row2_col2\" class=\"data row2 col2\" >3332</td>\n",
       "      <td id=\"T_df84e_row2_col3\" class=\"data row2 col3\" >+159</td>\n",
       "    </tr>\n",
       "    <tr>\n",
       "      <th id=\"T_df84e_level0_row3\" class=\"row_heading level0 row3\" >4</th>\n",
       "      <td id=\"T_df84e_row3_col0\" class=\"data row3 col0\" >-1</td>\n",
       "      <td id=\"T_df84e_row3_col1\" class=\"data row3 col1\" >Pokhara Pusheens</td>\n",
       "      <td id=\"T_df84e_row3_col2\" class=\"data row3 col2\" >3332</td>\n",
       "      <td id=\"T_df84e_row3_col3\" class=\"data row3 col3\" >+109</td>\n",
       "    </tr>\n",
       "    <tr>\n",
       "      <th id=\"T_df84e_level0_row4\" class=\"row_heading level0 row4\" >5</th>\n",
       "      <td id=\"T_df84e_row4_col0\" class=\"data row4 col0\" >-1</td>\n",
       "      <td id=\"T_df84e_row4_col1\" class=\"data row4 col1\" >Awesome Anglers</td>\n",
       "      <td id=\"T_df84e_row4_col2\" class=\"data row4 col2\" >3278</td>\n",
       "      <td id=\"T_df84e_row4_col3\" class=\"data row4 col3\" >+13</td>\n",
       "    </tr>\n",
       "    <tr>\n",
       "      <th id=\"T_df84e_level0_row5\" class=\"row_heading level0 row5\" >6</th>\n",
       "      <td id=\"T_df84e_row5_col0\" class=\"data row5 col0\" > </td>\n",
       "      <td id=\"T_df84e_row5_col1\" class=\"data row5 col1\" >Phiji Phrogs</td>\n",
       "      <td id=\"T_df84e_row5_col2\" class=\"data row5 col2\" >3142</td>\n",
       "      <td id=\"T_df84e_row5_col3\" class=\"data row5 col3\" >-58</td>\n",
       "    </tr>\n",
       "    <tr>\n",
       "      <th id=\"T_df84e_level0_row6\" class=\"row_heading level0 row6\" >7</th>\n",
       "      <td id=\"T_df84e_row6_col0\" class=\"data row6 col0\" >+2</td>\n",
       "      <td id=\"T_df84e_row6_col1\" class=\"data row6 col1\" >Welsh Whales</td>\n",
       "      <td id=\"T_df84e_row6_col2\" class=\"data row6 col2\" >3058</td>\n",
       "      <td id=\"T_df84e_row6_col3\" class=\"data row6 col3\" >+58</td>\n",
       "    </tr>\n",
       "    <tr>\n",
       "      <th id=\"T_df84e_level0_row7\" class=\"row_heading level0 row7\" >8</th>\n",
       "      <td id=\"T_df84e_row7_col0\" class=\"data row7 col0\" >-3</td>\n",
       "      <td id=\"T_df84e_row7_col1\" class=\"data row7 col1\" >Troubling Trout</td>\n",
       "      <td id=\"T_df84e_row7_col2\" class=\"data row7 col2\" >3041</td>\n",
       "      <td id=\"T_df84e_row7_col3\" class=\"data row7 col3\" >-159</td>\n",
       "    </tr>\n",
       "    <tr>\n",
       "      <th id=\"T_df84e_level0_row8\" class=\"row_heading level0 row8\" >9</th>\n",
       "      <td id=\"T_df84e_row8_col0\" class=\"data row8 col0\" >-1</td>\n",
       "      <td id=\"T_df84e_row8_col1\" class=\"data row8 col1\" >Arizona O-Teas</td>\n",
       "      <td id=\"T_df84e_row8_col2\" class=\"data row8 col2\" >2993</td>\n",
       "      <td id=\"T_df84e_row8_col3\" class=\"data row8 col3\" >-42</td>\n",
       "    </tr>\n",
       "    <tr>\n",
       "      <th id=\"T_df84e_level0_row9\" class=\"row_heading level0 row9\" >10</th>\n",
       "      <td id=\"T_df84e_row9_col0\" class=\"data row9 col0\" > </td>\n",
       "      <td id=\"T_df84e_row9_col1\" class=\"data row9 col1\" >Chicago Cats</td>\n",
       "      <td id=\"T_df84e_row9_col2\" class=\"data row9 col2\" >2991</td>\n",
       "      <td id=\"T_df84e_row9_col3\" class=\"data row9 col3\" >-109</td>\n",
       "    </tr>\n",
       "  </tbody>\n",
       "</table>\n"
      ],
      "text/plain": [
       "<pandas.io.formats.style.Styler at 0x156c09b5ca0>"
      ]
     },
     "execution_count": 7,
     "metadata": {},
     "output_type": "execute_result"
    }
   ],
   "source": [
    "# Table for power rankings\n",
    "\n",
    "#  First, to create a dataframe which will contain the data for the table\n",
    "# initialize dataframe for 10 slots and labels 1-10, column names\n",
    "power_table = pd.DataFrame(index = pd.RangeIndex(1,11,name='Rank'), columns = [' ','Team', 'ELO rating', '  '])\n",
    "\n",
    "# iterate over each team and fill in their row of the dataframe\n",
    "for team in GWL.teamsDict:\n",
    "    r = GWL.teamsDict[team].currentRanking # team's ranking\n",
    "    rr  = power_table.loc[r] # row for team's ranking\n",
    "    \n",
    "    # calculate ranking change\n",
    "    dr =  GWL.teamsDict[team].rankingHist[-2] - GWL.teamsDict[team].currentRanking\n",
    "    \n",
    "    # calculate rating change\n",
    "    dELO = round(GWL.teamsDict[team].currentRating - GWL.teamsDict[team].ratingHist[-2])\n",
    "    \n",
    "    # update power_table with team's values\n",
    "    # ranking change\n",
    "    if dr > 0:\n",
    "        rr[0] = '+{}'.format(dr)\n",
    "    elif dr == 0:\n",
    "        rr[0] = ' '\n",
    "    else:\n",
    "        rr[0] = dr\n",
    "    # team name\n",
    "    rr[1] = team\n",
    "    # ELO rating\n",
    "    rr[2] = round(GWL.teamsDict[team].currentRating)\n",
    "    # ELO change\n",
    "    if  dELO  >0:\n",
    "        rr[3] = '+{}'.format(dELO)\n",
    "    elif dELO  == 0:\n",
    "        rr[3] = '   '\n",
    "    else:\n",
    "        rr[3] = dELO\n",
    "df_styled = power_table.style.background_gradient(); # may want to do more  styling/sizing here and in next line\n",
    "#dfi.export(df_styled,\"GWLweek3_map_power_rankings.png\");  # uncomment to save table\n",
    "df_styled"
   ]
  },
  {
   "cell_type": "code",
   "execution_count": 8,
   "id": "6f72ba30-1c4b-4ba6-8cc8-b8cf559fa3e7",
   "metadata": {},
   "outputs": [
    {
     "name": "stderr",
     "output_type": "stream",
     "text": [
      "C:\\Users\\Rory\\AppData\\Local\\Temp\\ipykernel_23988\\2833498752.py:27: FutureWarning: this method is deprecated in favour of `Styler.hide(axis='index')`\n",
      "  preds_styled = nweek_preds.style.hide_index();\n"
     ]
    },
    {
     "data": {
      "text/html": [
       "<style type=\"text/css\">\n",
       "</style>\n",
       "<table id=\"T_4d0bd\">\n",
       "  <thead>\n",
       "    <tr>\n",
       "      <th id=\"T_4d0bd_level0_col0\" class=\"col_heading level0 col0\" >Rank</th>\n",
       "      <th id=\"T_4d0bd_level0_col1\" class=\"col_heading level0 col1\" >Team</th>\n",
       "      <th id=\"T_4d0bd_level0_col2\" class=\"col_heading level0 col2\" >% Win</th>\n",
       "      <th id=\"T_4d0bd_level0_col3\" class=\"col_heading level0 col3\" >% Win </th>\n",
       "      <th id=\"T_4d0bd_level0_col4\" class=\"col_heading level0 col4\" >Team </th>\n",
       "      <th id=\"T_4d0bd_level0_col5\" class=\"col_heading level0 col5\" >Rank </th>\n",
       "    </tr>\n",
       "  </thead>\n",
       "  <tbody>\n",
       "    <tr>\n",
       "      <td id=\"T_4d0bd_row0_col0\" class=\"data row0 col0\" >5</td>\n",
       "      <td id=\"T_4d0bd_row0_col1\" class=\"data row0 col1\" >Awesome Anglers</td>\n",
       "      <td id=\"T_4d0bd_row0_col2\" class=\"data row0 col2\" >44</td>\n",
       "      <td id=\"T_4d0bd_row0_col3\" class=\"data row0 col3\" >56</td>\n",
       "      <td id=\"T_4d0bd_row0_col4\" class=\"data row0 col4\" >Pokhara Pusheens</td>\n",
       "      <td id=\"T_4d0bd_row0_col5\" class=\"data row0 col5\" >4</td>\n",
       "    </tr>\n",
       "    <tr>\n",
       "      <td id=\"T_4d0bd_row1_col0\" class=\"data row1 col0\" >1</td>\n",
       "      <td id=\"T_4d0bd_row1_col1\" class=\"data row1 col1\" >Iceland Imps</td>\n",
       "      <td id=\"T_4d0bd_row1_col2\" class=\"data row1 col2\" >90</td>\n",
       "      <td id=\"T_4d0bd_row1_col3\" class=\"data row1 col3\" >10</td>\n",
       "      <td id=\"T_4d0bd_row1_col4\" class=\"data row1 col4\" >Chicago Cats</td>\n",
       "      <td id=\"T_4d0bd_row1_col5\" class=\"data row1 col5\" >10</td>\n",
       "    </tr>\n",
       "    <tr>\n",
       "      <td id=\"T_4d0bd_row2_col0\" class=\"data row2 col0\" >9</td>\n",
       "      <td id=\"T_4d0bd_row2_col1\" class=\"data row2 col1\" >Arizona O-Teas</td>\n",
       "      <td id=\"T_4d0bd_row2_col2\" class=\"data row2 col2\" >17</td>\n",
       "      <td id=\"T_4d0bd_row2_col3\" class=\"data row2 col3\" >83</td>\n",
       "      <td id=\"T_4d0bd_row2_col4\" class=\"data row2 col4\" >Dorado Ducks</td>\n",
       "      <td id=\"T_4d0bd_row2_col5\" class=\"data row2 col5\" >3</td>\n",
       "    </tr>\n",
       "    <tr>\n",
       "      <td id=\"T_4d0bd_row3_col0\" class=\"data row3 col0\" >2</td>\n",
       "      <td id=\"T_4d0bd_row3_col1\" class=\"data row3 col1\" >Ema Skies</td>\n",
       "      <td id=\"T_4d0bd_row3_col2\" class=\"data row3 col2\" >80</td>\n",
       "      <td id=\"T_4d0bd_row3_col3\" class=\"data row3 col3\" >20</td>\n",
       "      <td id=\"T_4d0bd_row3_col4\" class=\"data row3 col4\" >Welsh Whales</td>\n",
       "      <td id=\"T_4d0bd_row3_col5\" class=\"data row3 col5\" >7</td>\n",
       "    </tr>\n",
       "    <tr>\n",
       "      <td id=\"T_4d0bd_row4_col0\" class=\"data row4 col0\" >8</td>\n",
       "      <td id=\"T_4d0bd_row4_col1\" class=\"data row4 col1\" >Troubling Trout</td>\n",
       "      <td id=\"T_4d0bd_row4_col2\" class=\"data row4 col2\" >38</td>\n",
       "      <td id=\"T_4d0bd_row4_col3\" class=\"data row4 col3\" >62</td>\n",
       "      <td id=\"T_4d0bd_row4_col4\" class=\"data row4 col4\" >Phiji Phrogs</td>\n",
       "      <td id=\"T_4d0bd_row4_col5\" class=\"data row4 col5\" >6</td>\n",
       "    </tr>\n",
       "  </tbody>\n",
       "</table>\n"
      ],
      "text/plain": [
       "<pandas.io.formats.style.Styler at 0x156bd3b40d0>"
      ]
     },
     "execution_count": 8,
     "metadata": {},
     "output_type": "execute_result"
    }
   ],
   "source": [
    "# Next week match  preds table\n",
    "# Want table with columns for team 1 /2 : ELO, rank, likelihood of victory\n",
    "nweek_preds =  pd.DataFrame(columns= ['Rank', 'Team', '% Win', '% Win ', 'Team ', 'Rank ']);\n",
    "\n",
    "# List of teams  for next week in order of Team 1  vs Team 2, Team 3 vs Team 4, etc...\n",
    "nweek_teams = ['Awesome Anglers','Pokhara Pusheens','Iceland Imps','Chicago Cats','Arizona O-Teas','Dorado Ducks','Ema Skies','Welsh Whales','Troubling Trout','Phiji Phrogs']\n",
    "# get the ranks for each\n",
    "nweek_ranks  = []\n",
    "for team in nweek_teams:\n",
    "    nweek_ranks.append(GWL.teamsDict[team].currentRanking)\n",
    "# compute the likelihoods\n",
    "odds = []\n",
    "teamnum = 0\n",
    "for team  in nweek_teams:\n",
    "    if (teamnum % 2)  == 0: #if even\n",
    "        odds.append(int(round(100*GWL.expectResult(GWL.teamsDict[team].currentRating,GWL.teamsDict[nweek_teams[teamnum+1]].currentRating))))\n",
    "        teamnum += 1\n",
    "    else:\n",
    "        odds.append(int(round(100*GWL.expectResult(GWL.teamsDict[team].currentRating,GWL.teamsDict[nweek_teams[teamnum-1]].currentRating))))\n",
    "        teamnum += 1\n",
    "# fill in the dataframe with the appropriate info from the lists\n",
    "for mnum in range(int((len(nweek_teams)+1)/2)):\n",
    "    t1num = mnum*2\n",
    "    t2num = mnum*2+1\n",
    "    nweek_preds.loc[mnum,:] = [nweek_ranks[t1num],nweek_teams[t1num],odds[t1num],odds[t2num],nweek_teams[t2num],nweek_ranks[t2num]]\n",
    "#preds_styled = nweek_preds.style.background_gradient();\n",
    "preds_styled = nweek_preds.style.hide_index();\n",
    "#dfi.export(preds_styled,\"nweek_preds_mapmodel.png\");  # uncomment to save table\n",
    "preds_styled"
   ]
  },
  {
   "cell_type": "code",
   "execution_count": 9,
   "id": "3d024edb-44d6-45a6-98b1-a76356d31e13",
   "metadata": {},
   "outputs": [
    {
     "data": {
      "image/png": "[encoded data removed]",
      "text/plain": [
       "<Figure size 432x288 with 1 Axes>"
      ]
     },
     "metadata": {
      "needs_background": "light"
     },
     "output_type": "display_data"
    },
    {
     "data": {
      "image/png": "[encoded data removed]",
      "text/plain": [
       "<Figure size 432x288 with 1 Axes>"
      ]
     },
     "metadata": {
      "needs_background": "light"
     },
     "output_type": "display_data"
    },
    {
     "data": {
      "image/png": "[encoded data removed]",
      "text/plain": [
       "<Figure size 432x288 with 1 Axes>"
      ]
     },
     "metadata": {
      "needs_background": "light"
     },
     "output_type": "display_data"
    },
    {
     "data": {
      "image/png": "[encoded data removed]",
      "text/plain": [
       "<Figure size 432x288 with 1 Axes>"
      ]
     },
     "metadata": {
      "needs_background": "light"
     },
     "output_type": "display_data"
    },
    {
     "data": {
      "image/png": "[encoded data removed]",
      "text/plain": [
       "<Figure size 432x288 with 1 Axes>"
      ]
     },
     "metadata": {
      "needs_background": "light"
     },
     "output_type": "display_data"
    }
   ],
   "source": [
    "# Next week likelihoods\n",
    "nweek_teams = ['Awesome Anglers','Pokhara Pusheens','Iceland Imps','Chicago Cats','Arizona O-Teas','Dorado Ducks','Ema Skies','Welsh Whales','Troubling Trout','Phiji Phrogs']\n",
    "n_matches = 5\n",
    "for m in range(n_matches):\n",
    "    t1 = nweek_teams[m*2]\n",
    "    t2 = nweek_teams[2*m+1]\n",
    "    GWL.sim_mapscores(t1,t2,nsims = 10000, outfile= None)"
   ]
  },
  {
   "cell_type": "markdown",
   "id": "452a52fb-f84f-4ba7-8432-801c36a3b017",
   "metadata": {
    "tags": []
   },
   "source": [
    "##  To Do's: \n",
    "- make graphs look better (e.g. minor  offsets, line colors, etc)"
   ]
  }
 ],
 "metadata": {
  "kernelspec": {
   "display_name": "Python 3 (ipykernel)",
   "language": "python",
   "name": "python3"
  },
  "language_info": {
   "codemirror_mode": {
    "name": "ipython",
    "version": 3
   },
   "file_extension": ".py",
   "mimetype": "text/x-python",
   "name": "python",
   "nbconvert_exporter": "python",
   "pygments_lexer": "ipython3",
   "version": "3.9.12"
  }
 },
 "nbformat": 4,
 "nbformat_minor": 5
}
